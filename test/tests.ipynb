{
 "cells": [
  {
   "cell_type": "markdown",
   "metadata": {},
   "source": [
    "# Comprehensive Analysis of Datasets with Various Metrics, Norms, and Methods"
   ]
  },
  {
   "cell_type": "code",
   "execution_count": null,
   "metadata": {},
   "outputs": [],
   "source": [
    "import sys\n",
    "sys.path.append('../')\n",
    "\n",
    "import numpy as np\n",
    "from AnalysisTools import Ana\n",
    "from AnalysisTools import ComputeHelpersCPU\n",
    "\n",
    "# Initialize the analysis object\n",
    "cachePath = '/home/diego/disks/ANACACHE'\n",
    "comp = ComputeHelpersCPU(memory_location=cachePath, memory_verbosity=0, n_jobs=8)\n",
    "analysis = Ana(showPlots=True, execution_mode=comp, cacheStoragePath=cachePath)\n",
    "\n",
    "# Add datasets\n",
    "analysis.add_dataset(label=\"IMR90SIM\", folder=\"data/IMR90SIM\")\n",
    "analysis.add_dataset(label='IMR90OPT', folder='data/IMR90OPT')\n",
    "analysis.add_dataset(label=\"IMR90OPT57\", folder='data/IMR90OPT56')\n",
    "\n",
    "# Process trajectories for each dataset\n",
    "analysis.process_trajectories(label=\"IMR90SIM\", filename=\"traj_chr_IMR90OPT_0.cndb\", folder_pattern=['iteration_', [1, 20]])\n",
    "analysis.process_trajectories(label=\"IMR90OPT\", filename=\"traj_0.cndb\", folder_pattern=['iteration_', [1, 20]])\n",
    "analysis.process_trajectories(label=\"IMR90OPT57\", filename=\"traj_0.cndb\", folder_pattern=['iteration_', [1, 20]])"
   ]
  },
  {
   "cell_type": "markdown",
   "metadata": {},
   "source": [
    "## Generate and Cache Distance Matrices"
   ]
  },
  {
   "cell_type": "code",
   "execution_count": null,
   "metadata": {},
   "outputs": [],
   "source": [
    "norms = ['ice', 'kr', 'log_transform', 'vc']\n",
    "metrics = ['euclidean', 'pearsons', 'spearman', 'contact', 'log2_contact']\n",
    "methods = ['single', 'complete', 'average', 'weighted']\n",
    "#! note single/spearman/ice leads to division of 0 and all data gets set to 1 to avoid division of 0 error\n",
    "#! note single/log2_contact/ice leads to division of 0 and all data divided by zero will be set to 0\n",
    "for norm in norms:\n",
    "    for metric in metrics:\n",
    "        for method in methods:\n",
    "            analysis.calc_XZ(\"IMR90OPT\", \"IMR90OPT57\", \"IMR90SIM\", metric=metric, norm=norm, method=method)"
   ]
  },
  {
   "cell_type": "markdown",
   "metadata": {},
   "source": [
    "## Dimensionality Reduction Techniques"
   ]
  },
  {
   "cell_type": "markdown",
   "metadata": {},
   "source": [
    "### PCA Analysis"
   ]
  },
  {
   "cell_type": "code",
   "execution_count": null,
   "metadata": {},
   "outputs": [],
   "source": [
    "for norm in norms:\n",
    "    for metric in metrics:\n",
    "        for method in methods:\n",
    "            analysis.pca(\"IMR90OPT\", \"IMR90OPT57\", \"IMR90SIM\", metric=metric, n_components=-1, norm=norm, method=method)"
   ]
  },
  {
   "cell_type": "markdown",
   "metadata": {},
   "source": [
    "### UMAP Analysis"
   ]
  },
  {
   "cell_type": "code",
   "execution_count": null,
   "metadata": {},
   "outputs": [],
   "source": [
    "for norm in norms:\n",
    "    for metric in metrics:\n",
    "        for method in methods:\n",
    "            analysis.umap(\"IMR90OPT\", \"IMR90OPT56\", \"IMR90SIM\", metric=metric, num_clusters=-1, norm=norm, method=method)"
   ]
  },
  {
   "cell_type": "markdown",
   "metadata": {},
   "source": [
    "### t-SNE Analysis"
   ]
  },
  {
   "cell_type": "code",
   "execution_count": null,
   "metadata": {},
   "outputs": [],
   "source": [
    "for norm in norms:\n",
    "    for metric in metrics:\n",
    "        for method in methods:\n",
    "            analysis.tsne(\"IMR90OPT\", \"IMR90OPT56\", \"IMR90SIM\", metric=metric, num_clusters=-1, norm=norm, method=method)"
   ]
  },
  {
   "cell_type": "markdown",
   "metadata": {},
   "source": [
    "### MDS Analysis"
   ]
  },
  {
   "cell_type": "code",
   "execution_count": null,
   "metadata": {},
   "outputs": [],
   "source": [
    "for norm in norms:\n",
    "    for metric in metrics:\n",
    "        for method in methods:\n",
    "            analysis.mds(\"IMR90OPT\", \"IMR90OPT56\", \"IMR90SIM\", metric=metric, n_components=-1, norm=norm, method=method)"
   ]
  },
  {
   "cell_type": "markdown",
   "metadata": {},
   "source": [
    "### SVD Analysis"
   ]
  },
  {
   "cell_type": "code",
   "execution_count": null,
   "metadata": {},
   "outputs": [],
   "source": [
    "for norm in norms:\n",
    "    for metric in metrics:\n",
    "        for method in methods:\n",
    "            analysis.svd(\"IMR90OPT\", \"IMR90OPT56\", \"IMR90SIM\", metric=metric, n_components=-1, norm=norm, method=method)"
   ]
  },
  {
   "cell_type": "markdown",
   "metadata": {},
   "source": [
    "## Clustering Techniques"
   ]
  },
  {
   "cell_type": "markdown",
   "metadata": {},
   "source": [
    "### K-means Clustering"
   ]
  },
  {
   "cell_type": "code",
   "execution_count": null,
   "metadata": {},
   "outputs": [],
   "source": [
    "for norm in norms:\n",
    "    for metric in metrics:\n",
    "        for method in methods:\n",
    "            analysis.kmeans_clustering(\"IMR90OPT\", \"IMR90OPT56\", \"IMR90SIM\", n_clusters=5, metric=metric, norm=norm, method=method)"
   ]
  },
  {
   "cell_type": "markdown",
   "metadata": {},
   "source": [
    "### DBSCAN Clustering"
   ]
  },
  {
   "cell_type": "code",
   "execution_count": null,
   "metadata": {},
   "outputs": [],
   "source": [
    "for norm in norms:\n",
    "    for metric in metrics:\n",
    "        for method in methods:\n",
    "            analysis.dbscan_clustering(\"IMR90OPT\", \"IMR90OPT56\", \"IMR90SIM\", eps=0.5, min_samples=5, metric=metric, norm=norm, method=method)"
   ]
  },
  {
   "cell_type": "markdown",
   "metadata": {},
   "source": [
    "### Hierarchical Clustering"
   ]
  },
  {
   "cell_type": "code",
   "execution_count": null,
   "metadata": {},
   "outputs": [],
   "source": [
    "for norm in norms:\n",
    "    for metric in metrics:\n",
    "        for method in methods:\n",
    "            analysis.hierarchical_clustering(\"IMR90OPT\", \"IMR90OPT56\", \"IMR90SIM\", n_clusters=5, metric=metric, norm=norm, method=method)"
   ]
  },
  {
   "cell_type": "markdown",
   "metadata": {},
   "source": [
    "### Spectral Clustering"
   ]
  },
  {
   "cell_type": "code",
   "execution_count": null,
   "metadata": {},
   "outputs": [],
   "source": [
    "for norm in norms:\n",
    "    for metric in metrics:\n",
    "        for method in methods:\n",
    "            analysis.spectral_clustering(\"IMR90OPT\", \"IMR90OPT56\", \"IMR90SIM\", num_clusters=-1, metric=metric, norm=norm, method=method)"
   ]
  },
  {
   "cell_type": "markdown",
   "metadata": {},
   "source": [
    "### OPTICS Clustering"
   ]
  },
  {
   "cell_type": "code",
   "execution_count": null,
   "metadata": {},
   "outputs": [],
   "source": [
    "for norm in norms:\n",
    "    for metric in metrics:\n",
    "        for method in methods:\n",
    "            analysis.optics_clustering(\"IMR90OPT\", \"IMR90OPT56\", \"IMR90SIM\", min_samples=5, xi=0.05, min_cluster_size=0.05, metric=metric, norm=norm, method=method)"
   ]
  }
 ],
 "metadata": {
  "kernelspec": {
   "display_name": "Python 3",
   "language": "python",
   "name": "python3"
  },
  "language_info": {
   "codemirror_mode": {
    "name": "ipython",
    "version": 3
   },
   "file_extension": ".py",
   "mimetype": "text/x-python",
   "name": "python",
   "nbconvert_exporter": "python",
   "pygments_lexer": "ipython3",
   "version": "3.12.4"
  }
 },
 "nbformat": 4,
 "nbformat_minor": 4
}
