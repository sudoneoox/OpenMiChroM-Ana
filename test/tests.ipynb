{
 "cells": [
  {
   "cell_type": "markdown",
   "metadata": {},
   "source": [
    "# Comprehensive Analysis of Datasets with Various Metrics, Norms, and Methods"
   ]
  },
  {
   "cell_type": "code",
   "execution_count": 1,
   "metadata": {},
   "outputs": [
    {
     "name": "stderr",
     "output_type": "stream",
     "text": [
      "/home/diego/.conda/envs/MICROM/lib/python3.12/site-packages/tqdm/auto.py:21: TqdmWarning: IProgress not found. Please update jupyter and ipywidgets. See https://ipywidgets.readthedocs.io/en/stable/user_install.html\n",
      "  from .autonotebook import tqdm as notebook_tqdm\n",
      "2024-07-22 17:02:32.134367: I tensorflow/core/platform/cpu_feature_guard.cc:210] This TensorFlow binary is optimized to use available CPU instructions in performance-critical operations.\n",
      "To enable the following instructions: AVX2 FMA, in other operations, rebuild TensorFlow with the appropriate compiler flags.\n"
     ]
    },
    {
     "name": "stdout",
     "output_type": "stream",
     "text": [
      "Processing file: data/IMR90SIM/iteration_1/traj_chr_IMR90OPT_0.cndb\n",
      "Processing file: data/IMR90SIM/iteration_2/traj_chr_IMR90OPT_0.cndb\n",
      "Processing file: data/IMR90SIM/iteration_3/traj_chr_IMR90OPT_0.cndb\n",
      "Processing file: data/IMR90SIM/iteration_4/traj_chr_IMR90OPT_0.cndb\n",
      "Processing file: data/IMR90SIM/iteration_5/traj_chr_IMR90OPT_0.cndb\n",
      "Processing file: data/IMR90SIM/iteration_6/traj_chr_IMR90OPT_0.cndb\n",
      "Processing file: data/IMR90SIM/iteration_7/traj_chr_IMR90OPT_0.cndb\n",
      "Processing file: data/IMR90SIM/iteration_8/traj_chr_IMR90OPT_0.cndb\n",
      "Processing file: data/IMR90SIM/iteration_9/traj_chr_IMR90OPT_0.cndb\n",
      "Processing file: data/IMR90SIM/iteration_10/traj_chr_IMR90OPT_0.cndb\n",
      "Processing file: data/IMR90SIM/iteration_11/traj_chr_IMR90OPT_0.cndb\n",
      "Processing file: data/IMR90SIM/iteration_12/traj_chr_IMR90OPT_0.cndb\n",
      "Processing file: data/IMR90SIM/iteration_13/traj_chr_IMR90OPT_0.cndb\n",
      "Processing file: data/IMR90SIM/iteration_14/traj_chr_IMR90OPT_0.cndb\n",
      "Processing file: data/IMR90SIM/iteration_15/traj_chr_IMR90OPT_0.cndb\n",
      "Processing file: data/IMR90SIM/iteration_16/traj_chr_IMR90OPT_0.cndb\n",
      "Processing file: data/IMR90SIM/iteration_17/traj_chr_IMR90OPT_0.cndb\n",
      "Processing file: data/IMR90SIM/iteration_18/traj_chr_IMR90OPT_0.cndb\n",
      "Processing file: data/IMR90SIM/iteration_19/traj_chr_IMR90OPT_0.cndb\n",
      "Processing file: data/IMR90SIM/iteration_20/traj_chr_IMR90OPT_0.cndb\n",
      "Trajectory for IMR90SIM has shape (100, 1183, 3)\n",
      "Processing file: data/IMR90OPT/iteration_1/traj_0.cndb\n",
      "Processing file: data/IMR90OPT/iteration_2/traj_0.cndb\n",
      "Processing file: data/IMR90OPT/iteration_3/traj_0.cndb\n",
      "Processing file: data/IMR90OPT/iteration_4/traj_0.cndb\n",
      "Processing file: data/IMR90OPT/iteration_5/traj_0.cndb\n",
      "Processing file: data/IMR90OPT/iteration_6/traj_0.cndb\n",
      "Processing file: data/IMR90OPT/iteration_7/traj_0.cndb\n",
      "Processing file: data/IMR90OPT/iteration_8/traj_0.cndb\n",
      "Processing file: data/IMR90OPT/iteration_9/traj_0.cndb\n",
      "Processing file: data/IMR90OPT/iteration_10/traj_0.cndb\n",
      "Processing file: data/IMR90OPT/iteration_11/traj_0.cndb\n",
      "Processing file: data/IMR90OPT/iteration_12/traj_0.cndb\n",
      "Processing file: data/IMR90OPT/iteration_13/traj_0.cndb\n",
      "Processing file: data/IMR90OPT/iteration_14/traj_0.cndb\n",
      "Processing file: data/IMR90OPT/iteration_15/traj_0.cndb\n",
      "Processing file: data/IMR90OPT/iteration_16/traj_0.cndb\n",
      "Processing file: data/IMR90OPT/iteration_17/traj_0.cndb\n",
      "Processing file: data/IMR90OPT/iteration_18/traj_0.cndb\n",
      "Processing file: data/IMR90OPT/iteration_19/traj_0.cndb\n",
      "Processing file: data/IMR90OPT/iteration_20/traj_0.cndb\n",
      "Trajectory for IMR90OPT has shape (20, 1173, 3)\n",
      "Processing file: data/IMR90OPT56/iteration_1/traj_0.cndb\n",
      "Processing file: data/IMR90OPT56/iteration_2/traj_0.cndb\n",
      "Processing file: data/IMR90OPT56/iteration_3/traj_0.cndb\n",
      "Processing file: data/IMR90OPT56/iteration_4/traj_0.cndb\n",
      "Processing file: data/IMR90OPT56/iteration_5/traj_0.cndb\n",
      "Processing file: data/IMR90OPT56/iteration_6/traj_0.cndb\n",
      "Processing file: data/IMR90OPT56/iteration_7/traj_0.cndb\n",
      "Processing file: data/IMR90OPT56/iteration_8/traj_0.cndb\n",
      "Processing file: data/IMR90OPT56/iteration_9/traj_0.cndb\n",
      "Processing file: data/IMR90OPT56/iteration_10/traj_0.cndb\n",
      "Processing file: data/IMR90OPT56/iteration_11/traj_0.cndb\n",
      "Processing file: data/IMR90OPT56/iteration_12/traj_0.cndb\n",
      "Processing file: data/IMR90OPT56/iteration_13/traj_0.cndb\n",
      "Processing file: data/IMR90OPT56/iteration_14/traj_0.cndb\n",
      "Processing file: data/IMR90OPT56/iteration_15/traj_0.cndb\n",
      "Processing file: data/IMR90OPT56/iteration_16/traj_0.cndb\n",
      "Processing file: data/IMR90OPT56/iteration_17/traj_0.cndb\n",
      "Processing file: data/IMR90OPT56/iteration_18/traj_0.cndb\n",
      "Processing file: data/IMR90OPT56/iteration_19/traj_0.cndb\n",
      "Processing file: data/IMR90OPT56/iteration_20/traj_0.cndb\n",
      "Trajectory for IMR90OPT57 has shape (20, 1173, 3)\n"
     ]
    }
   ],
   "source": [
    "import sys\n",
    "sys.path.append('../')\n",
    "\n",
    "import numpy as np\n",
    "from AnalysisTools import Ana\n",
    "from AnalysisTools import ComputeHelpersCPU\n",
    "\n",
    "# Initialize the analysis object\n",
    "cachePath = '/home/diego/disks/ANACACHE'\n",
    "comp = ComputeHelpersCPU(memory_location=cachePath, memory_verbosity=0, n_jobs=12)\n",
    "analysis = Ana(showPlots=True, execution_mode=comp, cacheStoragePath=cachePath)\n",
    "\n",
    "# Add datasets\n",
    "analysis.add_dataset(label=\"IMR90SIM\", folder=\"data/IMR90SIM\")\n",
    "analysis.add_dataset(label='IMR90OPT', folder='data/IMR90OPT')\n",
    "analysis.add_dataset(label=\"IMR90OPT57\", folder='data/IMR90OPT56')\n",
    "\n",
    "# Process trajectories for each dataset\n",
    "analysis.process_trajectories(label=\"IMR90SIM\", filename=\"traj_chr_IMR90OPT_0.cndb\", folder_pattern=['iteration_', [1, 20]])\n",
    "analysis.process_trajectories(label=\"IMR90OPT\", filename=\"traj_0.cndb\", folder_pattern=['iteration_', [1, 20]])\n",
    "analysis.process_trajectories(label=\"IMR90OPT57\", filename=\"traj_0.cndb\", folder_pattern=['iteration_', [1, 20]])"
   ]
  },
  {
   "cell_type": "markdown",
   "metadata": {},
   "source": [
    "## Define norm x method x metrix"
   ]
  },
  {
   "cell_type": "code",
   "execution_count": 9,
   "metadata": {},
   "outputs": [
    {
     "ename": "AttributeError",
     "evalue": "'Memory' object has no attribute 'verbose'",
     "output_type": "error",
     "traceback": [
      "\u001b[0;31m---------------------------------------------------------------------------\u001b[0m",
      "\u001b[0;31mAttributeError\u001b[0m                            Traceback (most recent call last)",
      "Cell \u001b[0;32mIn[9], line 4\u001b[0m\n\u001b[1;32m      2\u001b[0m metrics \u001b[38;5;241m=\u001b[39m [\u001b[38;5;124m'\u001b[39m\u001b[38;5;124meuclidean\u001b[39m\u001b[38;5;124m'\u001b[39m, \u001b[38;5;124m'\u001b[39m\u001b[38;5;124mpearsons\u001b[39m\u001b[38;5;124m'\u001b[39m, \u001b[38;5;124m'\u001b[39m\u001b[38;5;124mspearman\u001b[39m\u001b[38;5;124m'\u001b[39m, \u001b[38;5;124m'\u001b[39m\u001b[38;5;124mcontact\u001b[39m\u001b[38;5;124m'\u001b[39m, \u001b[38;5;124m'\u001b[39m\u001b[38;5;124mlog2_contact\u001b[39m\u001b[38;5;124m'\u001b[39m]\n\u001b[1;32m      3\u001b[0m methods \u001b[38;5;241m=\u001b[39m [\u001b[38;5;124m'\u001b[39m\u001b[38;5;124msingle\u001b[39m\u001b[38;5;124m'\u001b[39m, \u001b[38;5;124m'\u001b[39m\u001b[38;5;124mcomplete\u001b[39m\u001b[38;5;124m'\u001b[39m, \u001b[38;5;124m'\u001b[39m\u001b[38;5;124maverage\u001b[39m\u001b[38;5;124m'\u001b[39m, \u001b[38;5;124m'\u001b[39m\u001b[38;5;124mweighted\u001b[39m\u001b[38;5;124m'\u001b[39m]\n\u001b[0;32m----> 4\u001b[0m \u001b[43mcomp\u001b[49m\u001b[38;5;241;43m.\u001b[39;49m\u001b[43mgetMemStats\u001b[49m\u001b[43m(\u001b[49m\u001b[43m)\u001b[49m\n",
      "File \u001b[0;32m~/Dev/OpenMiChroM-Ana/test/../AnalysisTools/Comp_Helper_CPU.py:726\u001b[0m, in \u001b[0;36mComputeHelpersCPU.getMemStats\u001b[0;34m(self)\u001b[0m\n\u001b[1;32m    724\u001b[0m \u001b[38;5;28;01mdef\u001b[39;00m \u001b[38;5;21mgetMemStats\u001b[39m(\u001b[38;5;28mself\u001b[39m):\n\u001b[1;32m    725\u001b[0m \u001b[38;5;250m    \u001b[39m\u001b[38;5;124;03m\"\"\"Get memory statistics.\"\"\"\u001b[39;00m\n\u001b[0;32m--> 726\u001b[0m     \u001b[38;5;28;01mreturn\u001b[39;00m [\u001b[38;5;28mself\u001b[39m\u001b[38;5;241m.\u001b[39mmemory\u001b[38;5;241m.\u001b[39mlocation, \u001b[38;5;28;43mself\u001b[39;49m\u001b[38;5;241;43m.\u001b[39;49m\u001b[43mmemory\u001b[49m\u001b[38;5;241;43m.\u001b[39;49m\u001b[43mverbose\u001b[49m]\n",
      "\u001b[0;31mAttributeError\u001b[0m: 'Memory' object has no attribute 'verbose'"
     ]
    }
   ],
   "source": [
    "norms = ['ice', 'kr', 'log_transform', 'vc']\n",
    "metrics = ['euclidean', 'pearsons', 'spearman', 'contact', 'log2_contact']\n",
    "methods = ['single', 'complete', 'average', 'weighted']\n",
    "print(comp.getCpuCount())"
   ]
  },
  {
   "cell_type": "markdown",
   "metadata": {},
   "source": [
    "## Generate and Cache Distance Matrices"
   ]
  },
  {
   "cell_type": "code",
   "execution_count": null,
   "metadata": {},
   "outputs": [],
   "source": [
    "#! note single/spearman/ice leads to division of 0 and all data gets set to 1 to avoid division of 0 error\n",
    "#! note single/log2_contact/ice leads to division of 0 and all data divided by zero will be set to 0\n",
    "for norm in norms:\n",
    "    for metric in metrics:\n",
    "        for method in methods:\n",
    "            analysis.calc_XZ(\"IMR90OPT\", \"IMR90OPT57\", \"IMR90SIM\", metric=metric, norm=norm, method=method)"
   ]
  },
  {
   "cell_type": "markdown",
   "metadata": {},
   "source": [
    "## Dimensionality Reduction Techniques"
   ]
  },
  {
   "cell_type": "markdown",
   "metadata": {},
   "source": [
    "### PCA Analysis"
   ]
  },
  {
   "cell_type": "code",
   "execution_count": null,
   "metadata": {},
   "outputs": [],
   "source": [
    "for norm in norms:\n",
    "    for metric in metrics:\n",
    "        analysis.pca(\"IMR90OPT\", \"IMR90OPT57\", \"IMR90SIM\", metric=metric, n_components=1, norm=norm, n_clusters=2)"
   ]
  },
  {
   "cell_type": "markdown",
   "metadata": {},
   "source": [
    "## Expiremental Scaler with best pca norm x method x metric dataset"
   ]
  },
  {
   "cell_type": "code",
   "execution_count": null,
   "metadata": {},
   "outputs": [],
   "source": [
    "#_weighted_euclidean_log_transform.png\n",
    "metrics = ['euclidean', 'pearsons', 'spearman', 'contact', 'log2_contact']\n",
    "norms = ['ice', 'kr', 'log_transform', 'vc']\n",
    "from AnalysisTools.Plot_Helper import PlotHelper\n",
    "\n",
    "for norm in norms:\n",
    "    for metric in metrics:\n",
    "        X, Z = analysis.calc_XZ(\"IMR90SIM\", \"IMR90OPT\", \"IMR90OPT57\", method=\"weighted\", metric=metric, norm=norm, overrideCache=True, expiremental=True)\n",
    "        n_components = 1\n",
    "        pca, exp, com = comp.run_reduction('pca', X, 1)\n",
    "\n",
    "        plot_params = {\n",
    "            'outputFileName': f\"test00_{norm}_{metric}\",\n",
    "            'cmap': 'viridis',\n",
    "            'title': f'PCA of test',\n",
    "            'x_label': 'PC1',\n",
    "            'y_label': 'PC2' if n_components > 1 else 'Principal Component 1',\n",
    "            'z_label': 'PC3' if n_components > 2 else None,\n",
    "            'n_components': n_components,\n",
    "            'n_clusters': 2,\n",
    "            'method': \"weighted\",\n",
    "            'metric': \"euclidean\",\n",
    "            'norm': \"log_transform\",\n",
    "            'n_components_95': 1,\n",
    "            'size': 50,\n",
    "            'alpha': 0.7,\n",
    "        }\n",
    "\n",
    "        if n_components > 1:\n",
    "            plot_params['y_label'] = f'PC2 ({exp[1]:.2%} variance)'\n",
    "        else:\n",
    "            plot_params['y_label'] = 'Samples'\n",
    "\n",
    "\n",
    "        pl = PlotHelper()\n",
    "        pl.plot(plot_type=\"pcaplot\", data=(pca, exp, com), plot_params=plot_params)\n"
   ]
  },
  {
   "cell_type": "markdown",
   "metadata": {},
   "source": [
    "### UMAP Analysis"
   ]
  },
  {
   "cell_type": "code",
   "execution_count": null,
   "metadata": {},
   "outputs": [],
   "source": [
    "for norm in norms:\n",
    "    for metric in metrics:\n",
    "        for method in methods:\n",
    "            analysis.umap(\"IMR90OPT\", \"IMR90OPT57\", \"IMR90SIM\", metric=metric, n_clusters=2, norm=norm, method=method, n_components=1)"
   ]
  },
  {
   "cell_type": "markdown",
   "metadata": {},
   "source": [
    "### t-SNE Analysis"
   ]
  },
  {
   "cell_type": "code",
   "execution_count": null,
   "metadata": {},
   "outputs": [],
   "source": [
    "for norm in norms:\n",
    "    for metric in metrics:\n",
    "        for method in methods:\n",
    "            analysis.tsne(\"IMR90OPT\", \"IMR90OPT57\", \"IMR90SIM\", metric=metric, n_clusters=2, norm=norm, method=method, n_components=1)"
   ]
  },
  {
   "cell_type": "markdown",
   "metadata": {},
   "source": [
    "### MDS Analysis"
   ]
  },
  {
   "cell_type": "code",
   "execution_count": null,
   "metadata": {},
   "outputs": [],
   "source": [
    "for norm in norms:\n",
    "    for metric in metrics:\n",
    "        for method in methods:\n",
    "            analysis.mds(\"IMR90OPT\", \"IMR90OPT57\", \"IMR90SIM\", metric=metric, n_components=1, norm=norm, method=method)"
   ]
  },
  {
   "cell_type": "markdown",
   "metadata": {},
   "source": [
    "### SVD Analysis"
   ]
  },
  {
   "cell_type": "code",
   "execution_count": null,
   "metadata": {},
   "outputs": [],
   "source": [
    "for norm in norms:\n",
    "    for metric in metrics:\n",
    "        for method in methods:\n",
    "            analysis.svd(\"IMR90OPT\", \"IMR90OPT57\", \"IMR90SIM\", metric=metric, n_components=1, norm=norm, method=method, n_clusters=2)"
   ]
  },
  {
   "cell_type": "markdown",
   "metadata": {},
   "source": [
    "### IVIS Analysis"
   ]
  },
  {
   "cell_type": "code",
   "execution_count": 6,
   "metadata": {},
   "outputs": [
    {
     "name": "stdout",
     "output_type": "stream",
     "text": [
      "Using cached data: /home/diego/disks/ANACACHE/cache_('IMR90OPT', 'IMR90OPT57', 'IMR90SIM', 'single', 'euclidean', 'ice').pkl.npz\n"
     ]
    },
    {
     "ename": "ValueError",
     "evalue": "k value greater than or equal to num_rows\n                            (k=150, rows=140). Lower k to a smaller\n                            value.",
     "output_type": "error",
     "traceback": [
      "\u001b[0;31m---------------------------------------------------------------------------\u001b[0m",
      "\u001b[0;31mValueError\u001b[0m                                Traceback (most recent call last)",
      "Cell \u001b[0;32mIn[6], line 4\u001b[0m\n\u001b[1;32m      2\u001b[0m \u001b[38;5;28;01mfor\u001b[39;00m metric \u001b[38;5;129;01min\u001b[39;00m metrics:\n\u001b[1;32m      3\u001b[0m     \u001b[38;5;28;01mfor\u001b[39;00m method \u001b[38;5;129;01min\u001b[39;00m methods:\n\u001b[0;32m----> 4\u001b[0m         \u001b[43manalysis\u001b[49m\u001b[38;5;241;43m.\u001b[39;49m\u001b[43mivis_reduction\u001b[49m\u001b[43m(\u001b[49m\u001b[38;5;124;43m\"\u001b[39;49m\u001b[38;5;124;43mIMR90OPT\u001b[39;49m\u001b[38;5;124;43m\"\u001b[39;49m\u001b[43m,\u001b[49m\u001b[43m \u001b[49m\u001b[38;5;124;43m\"\u001b[39;49m\u001b[38;5;124;43mIMR90OPT57\u001b[39;49m\u001b[38;5;124;43m\"\u001b[39;49m\u001b[43m,\u001b[49m\u001b[43m \u001b[49m\u001b[38;5;124;43m\"\u001b[39;49m\u001b[38;5;124;43mIMR90SIM\u001b[39;49m\u001b[38;5;124;43m\"\u001b[39;49m\u001b[43m,\u001b[49m\u001b[43m \u001b[49m\u001b[43mmetric\u001b[49m\u001b[38;5;241;43m=\u001b[39;49m\u001b[43mmetric\u001b[49m\u001b[43m,\u001b[49m\u001b[43m \u001b[49m\u001b[43mn_components\u001b[49m\u001b[38;5;241;43m=\u001b[39;49m\u001b[38;5;241;43m1\u001b[39;49m\u001b[43m,\u001b[49m\u001b[43m \u001b[49m\u001b[43mnorm\u001b[49m\u001b[38;5;241;43m=\u001b[39;49m\u001b[43mnorm\u001b[49m\u001b[43m,\u001b[49m\u001b[43m \u001b[49m\u001b[43mmethod\u001b[49m\u001b[38;5;241;43m=\u001b[39;49m\u001b[43mmethod\u001b[49m\u001b[43m,\u001b[49m\u001b[43m \u001b[49m\u001b[43mn_clusters\u001b[49m\u001b[38;5;241;43m=\u001b[39;49m\u001b[38;5;241;43m2\u001b[39;49m\u001b[43m)\u001b[49m\n",
      "File \u001b[0;32m~/Dev/OpenMiChroM-Ana/test/../AnalysisTools/Ana.py:408\u001b[0m, in \u001b[0;36mAna.ivis_reduction\u001b[0;34m(self, sample_size, n_clusters, method, metric, norm, n_components, *args)\u001b[0m\n\u001b[1;32m    405\u001b[0m \u001b[38;5;28;01mif\u001b[39;00m n_clusters \u001b[38;5;241m==\u001b[39m \u001b[38;5;241m-\u001b[39m\u001b[38;5;241m1\u001b[39m:\n\u001b[1;32m    406\u001b[0m     n_clusters \u001b[38;5;241m=\u001b[39m \u001b[38;5;28mself\u001b[39m\u001b[38;5;241m.\u001b[39mcompute_helpers\u001b[38;5;241m.\u001b[39mfind_optimal_clusters(X, \u001b[38;5;241m15\u001b[39m)\n\u001b[0;32m--> 408\u001b[0m ivis_result, ivis_projection, _ \u001b[38;5;241m=\u001b[39m \u001b[38;5;28;43mself\u001b[39;49m\u001b[38;5;241;43m.\u001b[39;49m\u001b[43mcompute_helpers\u001b[49m\u001b[38;5;241;43m.\u001b[39;49m\u001b[43mrun_reduction\u001b[49m\u001b[43m(\u001b[49m\u001b[38;5;124;43m'\u001b[39;49m\u001b[38;5;124;43mivis\u001b[39;49m\u001b[38;5;124;43m'\u001b[39;49m\u001b[43m,\u001b[49m\u001b[43m \u001b[49m\u001b[43mX\u001b[49m\u001b[43m,\u001b[49m\u001b[43m \u001b[49m\u001b[43mn_components\u001b[49m\u001b[38;5;241;43m=\u001b[39;49m\u001b[43mn_components\u001b[49m\u001b[43m)\u001b[49m\n\u001b[1;32m    410\u001b[0m \u001b[38;5;28;01mif\u001b[39;00m \u001b[38;5;28mself\u001b[39m\u001b[38;5;241m.\u001b[39mshowPlots:\n\u001b[1;32m    411\u001b[0m     \u001b[38;5;28mself\u001b[39m\u001b[38;5;241m.\u001b[39mplot_helper\u001b[38;5;241m.\u001b[39mplot(plot_type\u001b[38;5;241m=\u001b[39m\u001b[38;5;124m\"\u001b[39m\u001b[38;5;124mivisplot\u001b[39m\u001b[38;5;124m\"\u001b[39m, data\u001b[38;5;241m=\u001b[39m(ivis_result, ivis_projection, \u001b[38;5;28;01mNone\u001b[39;00m), plot_params\u001b[38;5;241m=\u001b[39m{\n\u001b[1;32m    412\u001b[0m         \u001b[38;5;124m'\u001b[39m\u001b[38;5;124moutputFileName\u001b[39m\u001b[38;5;124m'\u001b[39m: \u001b[38;5;124mf\u001b[39m\u001b[38;5;124m'\u001b[39m\u001b[38;5;132;01m{\u001b[39;00mivisPath\u001b[38;5;132;01m}\u001b[39;00m\u001b[38;5;124m/ivis_plot_\u001b[39m\u001b[38;5;132;01m{\u001b[39;00margs\u001b[38;5;132;01m}\u001b[39;00m\u001b[38;5;124m_\u001b[39m\u001b[38;5;132;01m{\u001b[39;00mmethod\u001b[38;5;132;01m}\u001b[39;00m\u001b[38;5;124m_\u001b[39m\u001b[38;5;132;01m{\u001b[39;00mmetric\u001b[38;5;132;01m}\u001b[39;00m\u001b[38;5;124m_\u001b[39m\u001b[38;5;132;01m{\u001b[39;00mnorm\u001b[38;5;132;01m}\u001b[39;00m\u001b[38;5;124m.png\u001b[39m\u001b[38;5;124m'\u001b[39m,\n\u001b[1;32m    413\u001b[0m         \u001b[38;5;124m'\u001b[39m\u001b[38;5;124mplot_type\u001b[39m\u001b[38;5;124m'\u001b[39m: \u001b[38;5;124m'\u001b[39m\u001b[38;5;124mivisplot\u001b[39m\u001b[38;5;124m'\u001b[39m,\n\u001b[0;32m   (...)\u001b[0m\n\u001b[1;32m    426\u001b[0m         \u001b[38;5;124m'\u001b[39m\u001b[38;5;124mn_components\u001b[39m\u001b[38;5;124m'\u001b[39m: n_components,\n\u001b[1;32m    427\u001b[0m     })\n",
      "File \u001b[0;32m~/Dev/OpenMiChroM-Ana/test/../AnalysisTools/Comp_Helper_CPU.py:412\u001b[0m, in \u001b[0;36mComputeHelpersCPU.run_reduction\u001b[0;34m(self, method, X, n_components)\u001b[0m\n\u001b[1;32m    410\u001b[0m \u001b[38;5;28;01mtry\u001b[39;00m:\n\u001b[1;32m    411\u001b[0m     \u001b[38;5;28;01mwith\u001b[39;00m ThreadPoolExecutor(max_workers\u001b[38;5;241m=\u001b[39m\u001b[38;5;28mself\u001b[39m\u001b[38;5;241m.\u001b[39mn_jobs) \u001b[38;5;28;01mas\u001b[39;00m executor:\n\u001b[0;32m--> 412\u001b[0m         \u001b[38;5;28;01mreturn\u001b[39;00m \u001b[43mexecutor\u001b[49m\u001b[38;5;241;43m.\u001b[39;49m\u001b[43msubmit\u001b[49m\u001b[43m(\u001b[49m\u001b[38;5;28;43mself\u001b[39;49m\u001b[38;5;241;43m.\u001b[39;49m\u001b[43mreduction_methods\u001b[49m\u001b[43m[\u001b[49m\u001b[43mmethod\u001b[49m\u001b[43m]\u001b[49m\u001b[43m,\u001b[49m\u001b[43m \u001b[49m\u001b[43mX\u001b[49m\u001b[43m,\u001b[49m\u001b[43m \u001b[49m\u001b[43mn_components\u001b[49m\u001b[43m)\u001b[49m\u001b[38;5;241;43m.\u001b[39;49m\u001b[43mresult\u001b[49m\u001b[43m(\u001b[49m\u001b[43m)\u001b[49m\n\u001b[1;32m    413\u001b[0m \u001b[38;5;28;01mexcept\u001b[39;00m \u001b[38;5;167;01mKeyError\u001b[39;00m:\n\u001b[1;32m    414\u001b[0m     \u001b[38;5;28;01mraise\u001b[39;00m \u001b[38;5;167;01mKeyError\u001b[39;00m(\u001b[38;5;124mf\u001b[39m\u001b[38;5;124m\"\u001b[39m\u001b[38;5;124mInvalid reduction method: \u001b[39m\u001b[38;5;132;01m{\u001b[39;00mmethod\u001b[38;5;132;01m}\u001b[39;00m\u001b[38;5;124m. Available methods are: \u001b[39m\u001b[38;5;132;01m{\u001b[39;00m\u001b[38;5;28mlist\u001b[39m(\u001b[38;5;28mself\u001b[39m\u001b[38;5;241m.\u001b[39mreduction_methods\u001b[38;5;241m.\u001b[39mkeys())\u001b[38;5;132;01m}\u001b[39;00m\u001b[38;5;124m\"\u001b[39m)\n",
      "File \u001b[0;32m~/.conda/envs/MICROM/lib/python3.12/concurrent/futures/_base.py:456\u001b[0m, in \u001b[0;36mFuture.result\u001b[0;34m(self, timeout)\u001b[0m\n\u001b[1;32m    454\u001b[0m     \u001b[38;5;28;01mraise\u001b[39;00m CancelledError()\n\u001b[1;32m    455\u001b[0m \u001b[38;5;28;01melif\u001b[39;00m \u001b[38;5;28mself\u001b[39m\u001b[38;5;241m.\u001b[39m_state \u001b[38;5;241m==\u001b[39m FINISHED:\n\u001b[0;32m--> 456\u001b[0m     \u001b[38;5;28;01mreturn\u001b[39;00m \u001b[38;5;28;43mself\u001b[39;49m\u001b[38;5;241;43m.\u001b[39;49m\u001b[43m__get_result\u001b[49m\u001b[43m(\u001b[49m\u001b[43m)\u001b[49m\n\u001b[1;32m    457\u001b[0m \u001b[38;5;28;01melse\u001b[39;00m:\n\u001b[1;32m    458\u001b[0m     \u001b[38;5;28;01mraise\u001b[39;00m \u001b[38;5;167;01mTimeoutError\u001b[39;00m()\n",
      "File \u001b[0;32m~/.conda/envs/MICROM/lib/python3.12/concurrent/futures/_base.py:401\u001b[0m, in \u001b[0;36mFuture.__get_result\u001b[0;34m(self)\u001b[0m\n\u001b[1;32m    399\u001b[0m \u001b[38;5;28;01mif\u001b[39;00m \u001b[38;5;28mself\u001b[39m\u001b[38;5;241m.\u001b[39m_exception:\n\u001b[1;32m    400\u001b[0m     \u001b[38;5;28;01mtry\u001b[39;00m:\n\u001b[0;32m--> 401\u001b[0m         \u001b[38;5;28;01mraise\u001b[39;00m \u001b[38;5;28mself\u001b[39m\u001b[38;5;241m.\u001b[39m_exception\n\u001b[1;32m    402\u001b[0m     \u001b[38;5;28;01mfinally\u001b[39;00m:\n\u001b[1;32m    403\u001b[0m         \u001b[38;5;66;03m# Break a reference cycle with the exception in self._exception\u001b[39;00m\n\u001b[1;32m    404\u001b[0m         \u001b[38;5;28mself\u001b[39m \u001b[38;5;241m=\u001b[39m \u001b[38;5;28;01mNone\u001b[39;00m\n",
      "File \u001b[0;32m~/.conda/envs/MICROM/lib/python3.12/concurrent/futures/thread.py:58\u001b[0m, in \u001b[0;36m_WorkItem.run\u001b[0;34m(self)\u001b[0m\n\u001b[1;32m     55\u001b[0m     \u001b[38;5;28;01mreturn\u001b[39;00m\n\u001b[1;32m     57\u001b[0m \u001b[38;5;28;01mtry\u001b[39;00m:\n\u001b[0;32m---> 58\u001b[0m     result \u001b[38;5;241m=\u001b[39m \u001b[38;5;28;43mself\u001b[39;49m\u001b[38;5;241;43m.\u001b[39;49m\u001b[43mfn\u001b[49m\u001b[43m(\u001b[49m\u001b[38;5;241;43m*\u001b[39;49m\u001b[38;5;28;43mself\u001b[39;49m\u001b[38;5;241;43m.\u001b[39;49m\u001b[43margs\u001b[49m\u001b[43m,\u001b[49m\u001b[43m \u001b[49m\u001b[38;5;241;43m*\u001b[39;49m\u001b[38;5;241;43m*\u001b[39;49m\u001b[38;5;28;43mself\u001b[39;49m\u001b[38;5;241;43m.\u001b[39;49m\u001b[43mkwargs\u001b[49m\u001b[43m)\u001b[49m\n\u001b[1;32m     59\u001b[0m \u001b[38;5;28;01mexcept\u001b[39;00m \u001b[38;5;167;01mBaseException\u001b[39;00m \u001b[38;5;28;01mas\u001b[39;00m exc:\n\u001b[1;32m     60\u001b[0m     \u001b[38;5;28mself\u001b[39m\u001b[38;5;241m.\u001b[39mfuture\u001b[38;5;241m.\u001b[39mset_exception(exc)\n",
      "File \u001b[0;32m~/Dev/OpenMiChroM-Ana/test/../AnalysisTools/Comp_Helper_CPU.py:516\u001b[0m, in \u001b[0;36mComputeHelpersCPU._ivis_reduction\u001b[0;34m(self, X, n_components)\u001b[0m\n\u001b[1;32m    513\u001b[0m \u001b[38;5;28;01mfrom\u001b[39;00m \u001b[38;5;21;01mivis\u001b[39;00m \u001b[38;5;28;01mimport\u001b[39;00m Ivis\n\u001b[1;32m    515\u001b[0m ivis \u001b[38;5;241m=\u001b[39m Ivis(embedding_dims\u001b[38;5;241m=\u001b[39mn_components, model\u001b[38;5;241m=\u001b[39m\u001b[38;5;124m'\u001b[39m\u001b[38;5;124mmaaten\u001b[39m\u001b[38;5;124m'\u001b[39m, n_epochs_without_progress\u001b[38;5;241m=\u001b[39m\u001b[38;5;241m5\u001b[39m)\n\u001b[0;32m--> 516\u001b[0m result \u001b[38;5;241m=\u001b[39m \u001b[43mivis\u001b[49m\u001b[38;5;241;43m.\u001b[39;49m\u001b[43mfit_transform\u001b[49m\u001b[43m(\u001b[49m\u001b[43mX\u001b[49m\u001b[43m)\u001b[49m\n\u001b[1;32m    518\u001b[0m \u001b[38;5;66;03m# Get the Ivis projection\u001b[39;00m\n\u001b[1;32m    519\u001b[0m ivis_projection \u001b[38;5;241m=\u001b[39m ivis\u001b[38;5;241m.\u001b[39mtransform(X)\n",
      "File \u001b[0;32m~/.conda/envs/MICROM/lib/python3.12/site-packages/sklearn/utils/_set_output.py:313\u001b[0m, in \u001b[0;36m_wrap_method_output.<locals>.wrapped\u001b[0;34m(self, X, *args, **kwargs)\u001b[0m\n\u001b[1;32m    311\u001b[0m \u001b[38;5;129m@wraps\u001b[39m(f)\n\u001b[1;32m    312\u001b[0m \u001b[38;5;28;01mdef\u001b[39;00m \u001b[38;5;21mwrapped\u001b[39m(\u001b[38;5;28mself\u001b[39m, X, \u001b[38;5;241m*\u001b[39margs, \u001b[38;5;241m*\u001b[39m\u001b[38;5;241m*\u001b[39mkwargs):\n\u001b[0;32m--> 313\u001b[0m     data_to_wrap \u001b[38;5;241m=\u001b[39m \u001b[43mf\u001b[49m\u001b[43m(\u001b[49m\u001b[38;5;28;43mself\u001b[39;49m\u001b[43m,\u001b[49m\u001b[43m \u001b[49m\u001b[43mX\u001b[49m\u001b[43m,\u001b[49m\u001b[43m \u001b[49m\u001b[38;5;241;43m*\u001b[39;49m\u001b[43margs\u001b[49m\u001b[43m,\u001b[49m\u001b[43m \u001b[49m\u001b[38;5;241;43m*\u001b[39;49m\u001b[38;5;241;43m*\u001b[39;49m\u001b[43mkwargs\u001b[49m\u001b[43m)\u001b[49m\n\u001b[1;32m    314\u001b[0m     \u001b[38;5;28;01mif\u001b[39;00m \u001b[38;5;28misinstance\u001b[39m(data_to_wrap, \u001b[38;5;28mtuple\u001b[39m):\n\u001b[1;32m    315\u001b[0m         \u001b[38;5;66;03m# only wrap the first output for cross decomposition\u001b[39;00m\n\u001b[1;32m    316\u001b[0m         return_tuple \u001b[38;5;241m=\u001b[39m (\n\u001b[1;32m    317\u001b[0m             _wrap_data_with_container(method, data_to_wrap[\u001b[38;5;241m0\u001b[39m], X, \u001b[38;5;28mself\u001b[39m),\n\u001b[1;32m    318\u001b[0m             \u001b[38;5;241m*\u001b[39mdata_to_wrap[\u001b[38;5;241m1\u001b[39m:],\n\u001b[1;32m    319\u001b[0m         )\n",
      "File \u001b[0;32m~/.conda/envs/MICROM/lib/python3.12/site-packages/ivis/ivis.py:373\u001b[0m, in \u001b[0;36mIvis.fit_transform\u001b[0;34m(self, X, Y, shuffle_mode)\u001b[0m\n\u001b[1;32m    354\u001b[0m \u001b[38;5;28;01mdef\u001b[39;00m \u001b[38;5;21mfit_transform\u001b[39m(\u001b[38;5;28mself\u001b[39m, X, Y\u001b[38;5;241m=\u001b[39m\u001b[38;5;28;01mNone\u001b[39;00m, shuffle_mode\u001b[38;5;241m=\u001b[39m\u001b[38;5;28;01mTrue\u001b[39;00m):\n\u001b[1;32m    355\u001b[0m \u001b[38;5;250m    \u001b[39m\u001b[38;5;124;03m\"\"\"Fit to data then transform\u001b[39;00m\n\u001b[1;32m    356\u001b[0m \n\u001b[1;32m    357\u001b[0m \u001b[38;5;124;03m    Parameters\u001b[39;00m\n\u001b[0;32m   (...)\u001b[0m\n\u001b[1;32m    370\u001b[0m \u001b[38;5;124;03m        Embedding of the data in low-dimensional space.\u001b[39;00m\n\u001b[1;32m    371\u001b[0m \u001b[38;5;124;03m    \"\"\"\u001b[39;00m\n\u001b[0;32m--> 373\u001b[0m     \u001b[38;5;28;43mself\u001b[39;49m\u001b[38;5;241;43m.\u001b[39;49m\u001b[43mfit\u001b[49m\u001b[43m(\u001b[49m\u001b[43mX\u001b[49m\u001b[43m,\u001b[49m\u001b[43m \u001b[49m\u001b[43mY\u001b[49m\u001b[43m,\u001b[49m\u001b[43m \u001b[49m\u001b[43mshuffle_mode\u001b[49m\u001b[43m)\u001b[49m\n\u001b[1;32m    374\u001b[0m     \u001b[38;5;28;01mreturn\u001b[39;00m \u001b[38;5;28mself\u001b[39m\u001b[38;5;241m.\u001b[39mtransform(X)\n",
      "File \u001b[0;32m~/.conda/envs/MICROM/lib/python3.12/site-packages/ivis/ivis.py:351\u001b[0m, in \u001b[0;36mIvis.fit\u001b[0;34m(self, X, Y, shuffle_mode)\u001b[0m\n\u001b[1;32m    333\u001b[0m \u001b[38;5;28;01mdef\u001b[39;00m \u001b[38;5;21mfit\u001b[39m(\u001b[38;5;28mself\u001b[39m, X, Y\u001b[38;5;241m=\u001b[39m\u001b[38;5;28;01mNone\u001b[39;00m, shuffle_mode\u001b[38;5;241m=\u001b[39m\u001b[38;5;28;01mTrue\u001b[39;00m):\n\u001b[1;32m    334\u001b[0m \u001b[38;5;250m    \u001b[39m\u001b[38;5;124;03m\"\"\"Fit an ivis model.\u001b[39;00m\n\u001b[1;32m    335\u001b[0m \n\u001b[1;32m    336\u001b[0m \u001b[38;5;124;03m    Parameters\u001b[39;00m\n\u001b[0;32m   (...)\u001b[0m\n\u001b[1;32m    348\u001b[0m \u001b[38;5;124;03m        Returns estimator instance.\u001b[39;00m\n\u001b[1;32m    349\u001b[0m \u001b[38;5;124;03m    \"\"\"\u001b[39;00m\n\u001b[0;32m--> 351\u001b[0m     \u001b[38;5;28;43mself\u001b[39;49m\u001b[38;5;241;43m.\u001b[39;49m\u001b[43m_fit\u001b[49m\u001b[43m(\u001b[49m\u001b[43mX\u001b[49m\u001b[43m,\u001b[49m\u001b[43m \u001b[49m\u001b[43mY\u001b[49m\u001b[43m,\u001b[49m\u001b[43m \u001b[49m\u001b[43mshuffle_mode\u001b[49m\u001b[43m)\u001b[49m\n\u001b[1;32m    352\u001b[0m     \u001b[38;5;28;01mreturn\u001b[39;00m \u001b[38;5;28mself\u001b[39m\n",
      "File \u001b[0;32m~/.conda/envs/MICROM/lib/python3.12/site-packages/ivis/ivis.py:251\u001b[0m, in \u001b[0;36mIvis._fit\u001b[0;34m(self, X, Y, shuffle_mode)\u001b[0m\n\u001b[1;32m    249\u001b[0m temp_dir \u001b[38;5;241m=\u001b[39m tempfile\u001b[38;5;241m.\u001b[39mmkdtemp()\n\u001b[1;32m    250\u001b[0m temp_index_path \u001b[38;5;241m=\u001b[39m os\u001b[38;5;241m.\u001b[39mpath\u001b[38;5;241m.\u001b[39mjoin(temp_dir, \u001b[38;5;124m'\u001b[39m\u001b[38;5;124mannoy.index\u001b[39m\u001b[38;5;124m'\u001b[39m)\n\u001b[0;32m--> 251\u001b[0m \u001b[38;5;28mself\u001b[39m\u001b[38;5;241m.\u001b[39mneighbour_matrix_ \u001b[38;5;241m=\u001b[39m \u001b[43mAnnoyKnnMatrix\u001b[49m\u001b[38;5;241;43m.\u001b[39;49m\u001b[43mbuild\u001b[49m\u001b[43m(\u001b[49m\u001b[43mX\u001b[49m\u001b[43m,\u001b[49m\u001b[43m \u001b[49m\u001b[43mpath\u001b[49m\u001b[38;5;241;43m=\u001b[39;49m\u001b[43mtemp_index_path\u001b[49m\u001b[43m,\u001b[49m\n\u001b[1;32m    252\u001b[0m \u001b[43m                                              \u001b[49m\u001b[43mk\u001b[49m\u001b[38;5;241;43m=\u001b[39;49m\u001b[38;5;28;43mself\u001b[39;49m\u001b[38;5;241;43m.\u001b[39;49m\u001b[43mk\u001b[49m\u001b[43m,\u001b[49m\u001b[43m \u001b[49m\u001b[43mmetric\u001b[49m\u001b[38;5;241;43m=\u001b[39;49m\u001b[38;5;28;43mself\u001b[39;49m\u001b[38;5;241;43m.\u001b[39;49m\u001b[43mknn_distance_metric\u001b[49m\u001b[43m,\u001b[49m\n\u001b[1;32m    253\u001b[0m \u001b[43m                                              \u001b[49m\u001b[43msearch_k\u001b[49m\u001b[38;5;241;43m=\u001b[39;49m\u001b[38;5;28;43mself\u001b[39;49m\u001b[38;5;241;43m.\u001b[39;49m\u001b[43msearch_k\u001b[49m\u001b[43m,\u001b[49m\n\u001b[1;32m    254\u001b[0m \u001b[43m                                              \u001b[49m\u001b[43minclude_distances\u001b[49m\u001b[38;5;241;43m=\u001b[39;49m\u001b[38;5;28;43;01mFalse\u001b[39;49;00m\u001b[43m,\u001b[49m\u001b[43m \u001b[49m\u001b[43mntrees\u001b[49m\u001b[38;5;241;43m=\u001b[39;49m\u001b[38;5;28;43mself\u001b[39;49m\u001b[38;5;241;43m.\u001b[39;49m\u001b[43mn_trees\u001b[49m\u001b[43m,\u001b[49m\n\u001b[1;32m    255\u001b[0m \u001b[43m                                              \u001b[49m\u001b[43mbuild_index_on_disk\u001b[49m\u001b[38;5;241;43m=\u001b[39;49m\u001b[38;5;28;43mself\u001b[39;49m\u001b[38;5;241;43m.\u001b[39;49m\u001b[43mbuild_index_on_disk\u001b[49m\u001b[43m,\u001b[49m\n\u001b[1;32m    256\u001b[0m \u001b[43m                                              \u001b[49m\u001b[43mprecompute\u001b[49m\u001b[38;5;241;43m=\u001b[39;49m\u001b[38;5;28;43mself\u001b[39;49m\u001b[38;5;241;43m.\u001b[39;49m\u001b[43mprecompute\u001b[49m\u001b[43m,\u001b[49m\u001b[43m \u001b[49m\u001b[43mverbose\u001b[49m\u001b[38;5;241;43m=\u001b[39;49m\u001b[38;5;28;43mself\u001b[39;49m\u001b[38;5;241;43m.\u001b[39;49m\u001b[43mverbose\u001b[49m\u001b[43m)\u001b[49m\n\u001b[1;32m    258\u001b[0m \u001b[38;5;66;03m# Clean up temporary folder with index before object is garbage collected\u001b[39;00m\n\u001b[1;32m    259\u001b[0m weakref\u001b[38;5;241m.\u001b[39mfinalize(\u001b[38;5;28mself\u001b[39m, \u001b[38;5;28mself\u001b[39m\u001b[38;5;241m.\u001b[39mneighbour_matrix_\u001b[38;5;241m.\u001b[39mdelete_index, parent\u001b[38;5;241m=\u001b[39m\u001b[38;5;28;01mTrue\u001b[39;00m)\n",
      "File \u001b[0;32m~/.conda/envs/MICROM/lib/python3.12/site-packages/ivis/data/neighbour_retrieval/knn.py:105\u001b[0m, in \u001b[0;36mAnnoyKnnMatrix.build\u001b[0;34m(cls, X, path, k, metric, search_k, include_distances, ntrees, build_index_on_disk, precompute, verbose, n_jobs)\u001b[0m\n\u001b[1;32m     99\u001b[0m \u001b[38;5;129m@classmethod\u001b[39m\n\u001b[1;32m    100\u001b[0m \u001b[38;5;28;01mdef\u001b[39;00m \u001b[38;5;21mbuild\u001b[39m(\u001b[38;5;28mcls\u001b[39m, X, path, k\u001b[38;5;241m=\u001b[39m\u001b[38;5;241m150\u001b[39m, metric\u001b[38;5;241m=\u001b[39m\u001b[38;5;124m'\u001b[39m\u001b[38;5;124mangular\u001b[39m\u001b[38;5;124m'\u001b[39m, search_k\u001b[38;5;241m=\u001b[39m\u001b[38;5;241m-\u001b[39m\u001b[38;5;241m1\u001b[39m, include_distances\u001b[38;5;241m=\u001b[39m\u001b[38;5;28;01mFalse\u001b[39;00m,\n\u001b[1;32m    101\u001b[0m           ntrees\u001b[38;5;241m=\u001b[39m\u001b[38;5;241m50\u001b[39m, build_index_on_disk\u001b[38;5;241m=\u001b[39m\u001b[38;5;28;01mTrue\u001b[39;00m, precompute\u001b[38;5;241m=\u001b[39m\u001b[38;5;28;01mFalse\u001b[39;00m, verbose\u001b[38;5;241m=\u001b[39m\u001b[38;5;241m1\u001b[39m, n_jobs\u001b[38;5;241m=\u001b[39m\u001b[38;5;241m-\u001b[39m\u001b[38;5;241m1\u001b[39m):\n\u001b[1;32m    102\u001b[0m \u001b[38;5;250m    \u001b[39m\u001b[38;5;124;03m\"\"\"Builds a new Annoy Index on input data *X*, then constructs and returns an\u001b[39;00m\n\u001b[1;32m    103\u001b[0m \u001b[38;5;124;03m    AnnoyKnnMatrix object using the newly-built index.\"\"\"\u001b[39;00m\n\u001b[0;32m--> 105\u001b[0m     \u001b[43m_validate_knn_shape\u001b[49m\u001b[43m(\u001b[49m\u001b[43mX\u001b[49m\u001b[38;5;241;43m.\u001b[39;49m\u001b[43mshape\u001b[49m\u001b[43m[\u001b[49m\u001b[38;5;241;43m0\u001b[39;49m\u001b[43m]\u001b[49m\u001b[43m,\u001b[49m\u001b[43m \u001b[49m\u001b[43mk\u001b[49m\u001b[43m)\u001b[49m\n\u001b[1;32m    106\u001b[0m     index \u001b[38;5;241m=\u001b[39m build_annoy_index(X, path, metric, ntrees, build_index_on_disk, verbose, n_jobs)\n\u001b[1;32m    107\u001b[0m     \u001b[38;5;28;01mreturn\u001b[39;00m \u001b[38;5;28mcls\u001b[39m(index, X\u001b[38;5;241m.\u001b[39mshape[\u001b[38;5;241m0\u001b[39m], path, metric, k, search_k,\n\u001b[1;32m    108\u001b[0m                precompute, include_distances, verbose, n_jobs)\n",
      "File \u001b[0;32m~/.conda/envs/MICROM/lib/python3.12/site-packages/ivis/data/neighbour_retrieval/knn.py:174\u001b[0m, in \u001b[0;36m_validate_knn_shape\u001b[0;34m(nrows, k)\u001b[0m\n\u001b[1;32m    172\u001b[0m     \u001b[38;5;28;01mraise\u001b[39;00m \u001b[38;5;167;01mValueError\u001b[39;00m(\u001b[38;5;124m'\u001b[39m\u001b[38;5;124mInvalid value of `\u001b[39m\u001b[38;5;132;01m%s\u001b[39;00m\u001b[38;5;124m` for k. k must be positive\u001b[39m\u001b[38;5;124m'\u001b[39m \u001b[38;5;241m%\u001b[39m k)\n\u001b[1;32m    173\u001b[0m \u001b[38;5;28;01mif\u001b[39;00m k \u001b[38;5;241m>\u001b[39m\u001b[38;5;241m=\u001b[39m nrows:\n\u001b[0;32m--> 174\u001b[0m     \u001b[38;5;28;01mraise\u001b[39;00m \u001b[38;5;167;01mValueError\u001b[39;00m(\u001b[38;5;124m'''\u001b[39m\u001b[38;5;124mk value greater than or equal to num_rows\u001b[39m\n\u001b[1;32m    175\u001b[0m \u001b[38;5;124m                        (k=\u001b[39m\u001b[38;5;132;01m{}\u001b[39;00m\u001b[38;5;124m, rows=\u001b[39m\u001b[38;5;132;01m{}\u001b[39;00m\u001b[38;5;124m). Lower k to a smaller\u001b[39m\n\u001b[1;32m    176\u001b[0m \u001b[38;5;124m                        value.\u001b[39m\u001b[38;5;124m'''\u001b[39m\u001b[38;5;241m.\u001b[39mformat(k, nrows))\n",
      "\u001b[0;31mValueError\u001b[0m: k value greater than or equal to num_rows\n                            (k=150, rows=140). Lower k to a smaller\n                            value."
     ]
    }
   ],
   "source": [
    "for norm in norms:\n",
    "    for metric in metrics:\n",
    "        for method in methods:\n",
    "            analysis.ivis_reduction(\"IMR90OPT\", \"IMR90OPT57\", \"IMR90SIM\", metric=metric, n_components=1, norm=norm, method=method, n_clusters=2)"
   ]
  },
  {
   "cell_type": "markdown",
   "metadata": {},
   "source": [
    "## Clustering Techniques"
   ]
  },
  {
   "cell_type": "markdown",
   "metadata": {},
   "source": [
    "### K-means Clustering"
   ]
  },
  {
   "cell_type": "code",
   "execution_count": null,
   "metadata": {},
   "outputs": [],
   "source": [
    "for norm in norms:\n",
    "    for metric in metrics:\n",
    "        for method in methods:\n",
    "            analysis.kmeans_clustering(\"IMR90OPT\", \"IMR90OPT56\", \"IMR90SIM\", n_clusters=5, metric=metric, norm=norm, method=method)"
   ]
  },
  {
   "cell_type": "markdown",
   "metadata": {},
   "source": [
    "### DBSCAN Clustering"
   ]
  },
  {
   "cell_type": "code",
   "execution_count": null,
   "metadata": {},
   "outputs": [],
   "source": [
    "for norm in norms:\n",
    "    for metric in metrics:\n",
    "        for method in methods:\n",
    "            analysis.dbscan_clustering(\"IMR90OPT\", \"IMR90OPT56\", \"IMR90SIM\", eps=0.5, min_samples=5, metric=metric, norm=norm, method=method)"
   ]
  },
  {
   "cell_type": "markdown",
   "metadata": {},
   "source": [
    "### Hierarchical Clustering"
   ]
  },
  {
   "cell_type": "code",
   "execution_count": null,
   "metadata": {},
   "outputs": [],
   "source": [
    "for norm in norms:\n",
    "    for metric in metrics:\n",
    "        for method in methods:\n",
    "            analysis.hierarchical_clustering(\"IMR90OPT\", \"IMR90OPT56\", \"IMR90SIM\", n_clusters=5, metric=metric, norm=norm, method=method)"
   ]
  },
  {
   "cell_type": "markdown",
   "metadata": {},
   "source": [
    "### Spectral Clustering"
   ]
  },
  {
   "cell_type": "code",
   "execution_count": null,
   "metadata": {},
   "outputs": [],
   "source": [
    "for norm in norms:\n",
    "    for metric in metrics:\n",
    "        for method in methods:\n",
    "            analysis.spectral_clustering(\"IMR90OPT\", \"IMR90OPT56\", \"IMR90SIM\", num_clusters=-1, metric=metric, norm=norm, method=method)"
   ]
  },
  {
   "cell_type": "markdown",
   "metadata": {},
   "source": [
    "### OPTICS Clustering"
   ]
  },
  {
   "cell_type": "code",
   "execution_count": null,
   "metadata": {},
   "outputs": [],
   "source": [
    "for norm in norms:\n",
    "    for metric in metrics:\n",
    "        for method in methods:\n",
    "            analysis.optics_clustering(\"IMR90OPT\", \"IMR90OPT56\", \"IMR90SIM\", min_samples=5, xi=0.05, min_cluster_size=0.05, metric=metric, norm=norm, method=method)"
   ]
  }
 ],
 "metadata": {
  "kernelspec": {
   "display_name": "Python 3",
   "language": "python",
   "name": "python3"
  },
  "language_info": {
   "codemirror_mode": {
    "name": "ipython",
    "version": 3
   },
   "file_extension": ".py",
   "mimetype": "text/x-python",
   "name": "python",
   "nbconvert_exporter": "python",
   "pygments_lexer": "ipython3",
   "version": "3.12.4"
  }
 },
 "nbformat": 4,
 "nbformat_minor": 4
}
