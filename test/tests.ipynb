{
 "cells": [
  {
   "cell_type": "markdown",
   "metadata": {},
   "source": [
    "# Analysis of IMR90 Datasets with Various Metrics and Norms"
   ]
  },
  {
   "cell_type": "code",
   "execution_count": 1,
   "metadata": {},
   "outputs": [
    {
     "name": "stderr",
     "output_type": "stream",
     "text": [
      "2024-07-18 01:43:39.157552: E external/local_xla/xla/stream_executor/cuda/cuda_fft.cc:485] Unable to register cuFFT factory: Attempting to register factory for plugin cuFFT when one has already been registered\n",
      "2024-07-18 01:43:39.175792: E external/local_xla/xla/stream_executor/cuda/cuda_dnn.cc:8454] Unable to register cuDNN factory: Attempting to register factory for plugin cuDNN when one has already been registered\n",
      "2024-07-18 01:43:39.181255: E external/local_xla/xla/stream_executor/cuda/cuda_blas.cc:1452] Unable to register cuBLAS factory: Attempting to register factory for plugin cuBLAS when one has already been registered\n",
      "2024-07-18 01:43:39.194616: I tensorflow/core/platform/cpu_feature_guard.cc:210] This TensorFlow binary is optimized to use available CPU instructions in performance-critical operations.\n",
      "To enable the following instructions: AVX2 FMA, in other operations, rebuild TensorFlow with the appropriate compiler flags.\n",
      "2024-07-18 01:43:39.980489: W tensorflow/compiler/tf2tensorrt/utils/py_utils.cc:38] TF-TRT Warning: Could not find TensorRT\n"
     ]
    },
    {
     "name": "stdout",
     "output_type": "stream",
     "text": [
      "Processing file: data/IMR90SIM/iteration_1/traj_chr_IMR90OPT_0.cndb\n",
      "Processing file: data/IMR90SIM/iteration_2/traj_chr_IMR90OPT_0.cndb\n",
      "Processing file: data/IMR90SIM/iteration_3/traj_chr_IMR90OPT_0.cndb\n",
      "Processing file: data/IMR90SIM/iteration_4/traj_chr_IMR90OPT_0.cndb\n",
      "Processing file: data/IMR90SIM/iteration_5/traj_chr_IMR90OPT_0.cndb\n",
      "Processing file: data/IMR90SIM/iteration_6/traj_chr_IMR90OPT_0.cndb\n",
      "Processing file: data/IMR90SIM/iteration_7/traj_chr_IMR90OPT_0.cndb\n",
      "Processing file: data/IMR90SIM/iteration_8/traj_chr_IMR90OPT_0.cndb\n",
      "Processing file: data/IMR90SIM/iteration_9/traj_chr_IMR90OPT_0.cndb\n",
      "Processing file: data/IMR90SIM/iteration_10/traj_chr_IMR90OPT_0.cndb\n",
      "Processing file: data/IMR90SIM/iteration_11/traj_chr_IMR90OPT_0.cndb\n",
      "Processing file: data/IMR90SIM/iteration_12/traj_chr_IMR90OPT_0.cndb\n",
      "Processing file: data/IMR90SIM/iteration_13/traj_chr_IMR90OPT_0.cndb\n",
      "Processing file: data/IMR90SIM/iteration_14/traj_chr_IMR90OPT_0.cndb\n",
      "Processing file: data/IMR90SIM/iteration_15/traj_chr_IMR90OPT_0.cndb\n",
      "Processing file: data/IMR90SIM/iteration_16/traj_chr_IMR90OPT_0.cndb\n",
      "Processing file: data/IMR90SIM/iteration_17/traj_chr_IMR90OPT_0.cndb\n",
      "Processing file: data/IMR90SIM/iteration_18/traj_chr_IMR90OPT_0.cndb\n",
      "Processing file: data/IMR90SIM/iteration_19/traj_chr_IMR90OPT_0.cndb\n",
      "Processing file: data/IMR90SIM/iteration_20/traj_chr_IMR90OPT_0.cndb\n",
      "Trajectory for IMR90SIM has shape (100, 1183, 3)\n",
      "Processing file: data/IMR90OPT/iteration_1/traj_0.cndb\n",
      "Processing file: data/IMR90OPT/iteration_2/traj_0.cndb\n",
      "Processing file: data/IMR90OPT/iteration_3/traj_0.cndb\n",
      "Processing file: data/IMR90OPT/iteration_4/traj_0.cndb\n",
      "Processing file: data/IMR90OPT/iteration_5/traj_0.cndb\n",
      "Processing file: data/IMR90OPT/iteration_6/traj_0.cndb\n",
      "Processing file: data/IMR90OPT/iteration_7/traj_0.cndb\n",
      "Processing file: data/IMR90OPT/iteration_8/traj_0.cndb\n",
      "Processing file: data/IMR90OPT/iteration_9/traj_0.cndb\n",
      "Processing file: data/IMR90OPT/iteration_10/traj_0.cndb\n",
      "Processing file: data/IMR90OPT/iteration_11/traj_0.cndb\n",
      "Processing file: data/IMR90OPT/iteration_12/traj_0.cndb\n",
      "Processing file: data/IMR90OPT/iteration_13/traj_0.cndb\n",
      "Processing file: data/IMR90OPT/iteration_14/traj_0.cndb\n",
      "Processing file: data/IMR90OPT/iteration_15/traj_0.cndb\n",
      "Processing file: data/IMR90OPT/iteration_16/traj_0.cndb\n",
      "Processing file: data/IMR90OPT/iteration_17/traj_0.cndb\n",
      "Processing file: data/IMR90OPT/iteration_18/traj_0.cndb\n",
      "Processing file: data/IMR90OPT/iteration_19/traj_0.cndb\n",
      "Processing file: data/IMR90OPT/iteration_20/traj_0.cndb\n",
      "Trajectory for IMR90OPT has shape (20, 1173, 3)\n",
      "Processing file: data/IMR90OPT56/iteration_1/traj_0.cndb\n",
      "Processing file: data/IMR90OPT56/iteration_2/traj_0.cndb\n",
      "Processing file: data/IMR90OPT56/iteration_3/traj_0.cndb\n",
      "Processing file: data/IMR90OPT56/iteration_4/traj_0.cndb\n",
      "Processing file: data/IMR90OPT56/iteration_5/traj_0.cndb\n",
      "Processing file: data/IMR90OPT56/iteration_6/traj_0.cndb\n",
      "Processing file: data/IMR90OPT56/iteration_7/traj_0.cndb\n",
      "Processing file: data/IMR90OPT56/iteration_8/traj_0.cndb\n",
      "Processing file: data/IMR90OPT56/iteration_9/traj_0.cndb\n",
      "Processing file: data/IMR90OPT56/iteration_10/traj_0.cndb\n",
      "Processing file: data/IMR90OPT56/iteration_11/traj_0.cndb\n",
      "Processing file: data/IMR90OPT56/iteration_12/traj_0.cndb\n",
      "Processing file: data/IMR90OPT56/iteration_13/traj_0.cndb\n",
      "Processing file: data/IMR90OPT56/iteration_14/traj_0.cndb\n",
      "Processing file: data/IMR90OPT56/iteration_15/traj_0.cndb\n",
      "Processing file: data/IMR90OPT56/iteration_16/traj_0.cndb\n",
      "Processing file: data/IMR90OPT56/iteration_17/traj_0.cndb\n",
      "Processing file: data/IMR90OPT56/iteration_18/traj_0.cndb\n",
      "Processing file: data/IMR90OPT56/iteration_19/traj_0.cndb\n",
      "Processing file: data/IMR90OPT56/iteration_20/traj_0.cndb\n",
      "Trajectory for IMR90OPT57 has shape (20, 1173, 3)\n"
     ]
    }
   ],
   "source": [
    "import sys\n",
    "sys.path.append('../')\n",
    "\n",
    "import numpy as np\n",
    "from AnalysisTools import Ana\n",
    "\n",
    "# Initialize the analysis object\n",
    "analysis = Ana(showPlots=True, execution_mode='gpu', cacheStoragePath='/home/diego/disks/ANACACHE')\n",
    "\n",
    "# Add datasets\n",
    "analysis.add_dataset(label=\"IMR90SIM\", folder=\"data/IMR90SIM\")\n",
    "analysis.add_dataset(label='IMR90OPT', folder='data/IMR90OPT')\n",
    "analysis.add_dataset(label=\"IMR90OPT57\", folder='data/IMR90OPT56')\n",
    "\n",
    "# Process trajectories for each dataset\n",
    "analysis.process_trajectories(label=\"IMR90SIM\", filename=\"traj_chr_IMR90OPT_0.cndb\", folder_pattern=['iteration_', [1, 20]])\n",
    "analysis.process_trajectories(label=\"IMR90OPT\", filename=\"traj_0.cndb\", folder_pattern=['iteration_', [1, 20]])\n",
    "analysis.process_trajectories(label=\"IMR90OPT57\", filename=\"traj_0.cndb\", folder_pattern=['iteration_', [1, 20]])"
   ]
  },
  {
   "cell_type": "markdown",
   "metadata": {},
   "source": [
    "<h2> Load all variations of norm x metric into storage cache </h2>"
   ]
  },
  {
   "cell_type": "code",
   "execution_count": 2,
   "metadata": {},
   "outputs": [
    {
     "name": "stdout",
     "output_type": "stream",
     "text": [
      "No cached data, creating cache file /home/diego/disks/ANACACHE/cache_('IMR90OPT', 'IMR90OPT57', 'IMR90SIM', 'weighted', 'euclidean', 'ice').pkl\n",
      "Processing IMR90OPT\n",
      "IMR90OPT has dist shape (20, 1173, 1173)\n",
      "Processing IMR90OPT57\n"
     ]
    },
    {
     "name": "stderr",
     "output_type": "stream",
     "text": [
      "2024-07-18 01:43:53.786169: E external/local_xla/xla/stream_executor/cuda/cuda_fft.cc:485] Unable to register cuFFT factory: Attempting to register factory for plugin cuFFT when one has already been registered\n",
      "2024-07-18 01:43:53.809164: E external/local_xla/xla/stream_executor/cuda/cuda_dnn.cc:8454] Unable to register cuDNN factory: Attempting to register factory for plugin cuDNN when one has already been registered\n",
      "2024-07-18 01:43:53.815781: E external/local_xla/xla/stream_executor/cuda/cuda_blas.cc:1452] Unable to register cuBLAS factory: Attempting to register factory for plugin cuBLAS when one has already been registered\n",
      "2024-07-18 01:43:53.816666: E external/local_xla/xla/stream_executor/cuda/cuda_fft.cc:485] Unable to register cuFFT factory: Attempting to register factory for plugin cuFFT when one has already been registered\n",
      "2024-07-18 01:43:53.832463: I tensorflow/core/platform/cpu_feature_guard.cc:210] This TensorFlow binary is optimized to use available CPU instructions in performance-critical operations.\n",
      "To enable the following instructions: AVX2 FMA, in other operations, rebuild TensorFlow with the appropriate compiler flags.\n",
      "2024-07-18 01:43:53.839014: E external/local_xla/xla/stream_executor/cuda/cuda_dnn.cc:8454] Unable to register cuDNN factory: Attempting to register factory for plugin cuDNN when one has already been registered\n",
      "2024-07-18 01:43:53.840449: E external/local_xla/xla/stream_executor/cuda/cuda_fft.cc:485] Unable to register cuFFT factory: Attempting to register factory for plugin cuFFT when one has already been registered\n",
      "2024-07-18 01:43:53.845487: E external/local_xla/xla/stream_executor/cuda/cuda_fft.cc:485] Unable to register cuFFT factory: Attempting to register factory for plugin cuFFT when one has already been registered\n",
      "2024-07-18 01:43:53.845777: E external/local_xla/xla/stream_executor/cuda/cuda_blas.cc:1452] Unable to register cuBLAS factory: Attempting to register factory for plugin cuBLAS when one has already been registered\n",
      "2024-07-18 01:43:53.861076: E external/local_xla/xla/stream_executor/cuda/cuda_fft.cc:485] Unable to register cuFFT factory: Att2024-07-18 01:43:53.861392: I tensorflow/core/platform/cpu_feature_guard.cc:210] This TensorFlow binary is optimized to use available CPU instructions in performance-critical operations.\n",
      "To enable the following instructions: AVX2 FMA, in other operations, rebuild TensorFlow with the appropriate compiler flags.\n",
      "empting to register factory for plugin cuFFT when one has already been registered\n",
      "2024-07-18 01:43:53.864267: E external/local_xla/xla/stream_executor/cuda/cuda_dnn.cc:8454] Unable to register cuDNN factory: Attempting to register factory for plugin cuDNN when one has already been registered\n",
      "2024-07-18 01:43:53.869726: E external/local_xla/xla/stream_executor/cuda/cuda_dnn.cc:8454] Unable to register cuDNN factory: Attempting to register factory for plugin cuDNN when one has already been registered\n",
      "2024-07-18 01:43:53.871811: E external/local_xla/xla/stream_executor/cuda/cuda_blas.cc:1452] Unable to register cuBLAS factory: Attempting to register factory for plugin cuBLAS when one has already been registered\n",
      "2024-07-18 01:43:53.876730: E external/local_xla/xla/stream_executor/cuda/cuda_blas.cc:1452] Unable to register cuBLAS factory: Attempting to register factory for plugin cuBLAS when one has already been registered\n",
      "2024-07-18 01:43:53.886790: E external/local_xla/xla/stream_executor/cuda/cuda_dnn.cc:8454] Unable to register cuDNN factory: Attempting to register factory for plugin cuDNN when one has already been registered\n",
      "2024-07-18 01:43:53.887761: I tensorflow/core/platform/cpu_feature_guard.cc:210] This TensorFlow binary is optimized to use available CPU instructions in performance-critical operations.\n",
      "To enable the following instructions: AVX2 FMA, in other operations, rebuild TensorFlow with the appropriate compiler flags.\n",
      "2024-07-18 01:43:53.892396: I tensorflow/core/platform/cpu_feature_guard.cc:210] This TensorFlow binary is optimized to use available CPU instructions in performance-critical operations.\n",
      "To enable the following instructions: AVX2 FMA, in other operations, rebuild TensorFlow with the appropriate compiler flags.\n",
      "2024-07-18 01:43:53.893235: E external/local_xla/xla/stream_executor/cuda/cuda_blas.cc:1452] Unable to register cuBLAS factory: Attempting to register factory for plugin cuBLAS when one has already been registered\n",
      "2024-07-18 01:43:53.898268: E external/local_xla/xla/stream_executor/cuda/cuda_fft.cc:485] Unable to register cuFFT factory: Attempting to register factory for plugin cuFFT when one has already been registered\n",
      "2024-07-18 01:43:53.898543: E external/local_xla/xla/stream_executor/cuda/cuda_fft.cc:485] Unable to register cuFFT factory: Attempting to register factory for plugin cuFFT when one has already been registered\n",
      "2024-07-18 01:43:53.908445: E external/local_xla/xla/stream_executor/cuda/cuda_fft.cc:485] Unable to register cuFFT factory: Attempting to register factory for plugin cuFFT when one has already been registered\n",
      "2024-07-18 01:43:53.908880: I tensorflow/core/platform/cpu_feature_guard.cc:210] This TensorFlow binary is optimized to use available CPU instructions in performance-critical operations.\n",
      "To enable the following instructions: AVX2 FMA, in other operations, rebuild TensorFlow with the appropriate compiler flags.\n",
      "2024-07-18 01:43:53.919706: E external/local_xla/xla/stream_executor/cuda/cuda_fft.cc:485] Unable to register cuFFT factory: Attempting to register factory for plugin cuFFT when one has already been registered\n",
      "2024-07-18 01:43:53.921229: E external/local_xla/xla/stream_executor/cuda/cuda_dnn.cc:8454] Unable to register cuDNN factory: Attempting to register factory for plugin cuDNN when one has already been registered\n",
      "2024-07-18 01:43:53.921728: E external/local_xla/xla/stream_executor/cuda/cuda_dnn.cc:8454] Unable to register cuDNN factory: Attempting to register factory for plugin cuDNN when one has already been registered\n",
      "2024-07-18 01:43:53.929129: E external/local_xla/xla/stream_executor/cuda/cuda_blas.cc:1452] Unable to register cuBLAS factory: Attempting to register factory for plugin cuBLAS when one has already been registered\n",
      "2024-07-18 01:43:53.931487: E external/local_xla/xla/stream_executor/cuda/cuda_dnn.cc:8454] Unable to register cuDNN factory: Attempting to register factory for plugin cuDNN when one has already been registered\n",
      "2024-07-18 01:43:53.932177: E external/local_xla/xla/stream_executor/cuda/cuda_blas.cc:1452] Unable to register cuBLAS factory: Attempting to register factory for plugin cuBLAS when one has already been registered\n",
      "2024-07-18 01:43:53.938352: E external/local_xla/xla/stream_executor/cuda/cuda_blas.cc:1452] Unable to register cuBLAS factory: Attempting to register factory for plugin cuBLAS when one has already been registered\n",
      "2024-07-18 01:43:53.947572: E external/local_xla/xla/stream_executor/cuda/cuda_dnn.cc:8454] Unable to register cuDNN factory: Attempting to register factory for plugin cuDNN when one has already been registered\n",
      "2024-07-18 01:43:53.949306: I tensorflow/core/platform/cpu_feature_guard.cc:210] This TensorFlow binary is optimized to use available CPU instructions in performance-critical operations.\n",
      "To enable the following instructions: AVX2 FMA, in other operations, rebuild TensorFlow with the appropriate compiler flags.\n",
      "2024-07-18 01:43:53.952987: E external/local_xla/xla/stream_executor/cuda/cuda_fft.cc:485] Unable to register cuFFT factory: Attempting to register factory for plugin cuFFT when one has already been registered\n",
      "2024-07-18 01:43:53.954132: I tensorflow/core/platform/cpu_feature_guard.cc:210] This TensorFlow binary is optimized to use available CPU instructions in performance-critical operations.\n",
      "To enable the following instructions: AVX2 FMA, in other operations, rebuild TensorFlow with the appropriate compiler flags.\n",
      "2024-07-18 01:43:53.956849: E external/local_xla/xla/stream_executor/cuda/cuda_blas.cc:1452] Unable to register cuBLAS factory: Attempting to register factory for plugin cuBLAS when one has already been registered\n",
      "2024-07-18 01:43:53.959364: I tensorflow/core/platform/cpu_feature_guard.cc:210] This TensorFlow binary is optimized to use available CPU instructions in performance-critical operations.\n",
      "To enable the following instructions: AVX2 FMA, in other operations, rebuild TensorFlow with the appropriate compiler flags.\n",
      "2024-07-18 01:43:53.966018: E external/local_xla/xla/stream_executor/cuda/cuda_fft.cc:485] Unable to register cuFFT factory: Attempting to register factory for plugin cuFFT when one has already been registered\n",
      "2024-07-18 01:43:53.976673: I tensorflow/core/platform/cpu_feature_guard.cc:210] This TensorFlow binary is optimized to use available CPU instructions in performance-critical operations.\n",
      "To enable the following instructions: AVX2 FMA, in other operations, rebuild TensorFlow with the appropriate compiler flags.\n",
      "2024-07-18 01:43:53.977764: E external/local_xla/xla/stream_executor/cuda/cuda_dnn.cc:8454] Unable to register cuDNN factory: Attempting to register factory for plugin cuDNN when one has already been registered\n",
      "2024-07-18 01:43:53.985120: E external/local_xla/xla/stream_executor/cuda/cuda_blas.cc:1452] Unable to register cuBLAS factory: Attempting to register factory for plugin cuBLAS when one has already been registered\n",
      "2024-07-18 01:43:53.988371: E external/local_xla/xla/stream_executor/cuda/cuda_fft.cc:485] Unable to register cuFFT factory: Attempting to register factory for plugin cuFFT when one has already been registered\n",
      "2024-07-18 01:43:53.991483: E external/local_xla/xla/stream_executor/cuda/cuda_dnn.cc:8454] Unable to register cuDNN factory: Attempting to register factory for plugin cuDNN when one has already been registered\n",
      "2024-07-18 01:43:53.999860: E external/local_xla/xla/stream_executor/cuda/cuda_blas.cc:1452] Unable to register cuBLAS factory: Attempting to register factory for plugin cuBLAS when one has already been registered\n",
      "2024-07-18 01:43:54.001567: I tensorflow/core/platform/cpu_feature_guard.cc:210] This TensorFlow binary is optimized to use available CPU instructions in performance-critical operations.\n",
      "To enable the following instructions: AVX2 FMA, in other operations, rebuild TensorFlow with the appropriate compiler flags.\n",
      "2024-07-18 01:43:54.014396: E external/local_xla/xla/stream_executor/cuda/cuda_dnn.cc:8454] Unable to register cuDNN factory: Attempting to register factory for plugin cuDNN when one has already been registered\n",
      "2024-07-18 01:43:54.018084: I tensorflow/core/platform/cpu_feature_guard.cc:210] This TensorFlow binary is optimized to use available CPU instructions in performance-critical operations.\n",
      "To enable the following instructions: AVX2 FMA, in other operations, rebuild TensorFlow with the appropriate compiler flags.\n",
      "2024-07-18 01:43:54.021699: E external/local_xla/xla/stream_executor/cuda/cuda_blas.cc:1452] Unable to register cuBLAS factory: Attempting to register factory for plugin cuBLAS when one has already been registered\n",
      "2024-07-18 01:43:54.037553: I tensorflow/core/platform/cpu_feature_guard.cc:210] This TensorFlow binary is optimized to use available CPU instructions in performance-critical operations.\n",
      "To enable the following instructions: AVX2 FMA, in other operations, rebuild TensorFlow with the appropriate compiler flags.\n",
      "2024-07-18 01:43:55.062395: W tensorflow/compiler/tf2tensorrt/utils/py_utils.cc:38] TF-TRT Warning: Could not find TensorRT\n",
      "2024-07-18 01:43:55.128458: W tensorflow/compiler/tf2tensorrt/utils/py_utils.cc:38] TF-TRT Warning: Could not find TensorRT\n",
      "2024-07-18 01:43:55.178269: W tensorflow/compiler/tf2tensorrt/utils/py_utils.cc:38] TF-TRT Warning: Could not find TensorRT\n",
      "2024-07-18 01:43:55.203530: W tensorflow/compiler/tf2tensorrt/utils/py_utils.cc:38] TF-TRT Warning: Could not find TensorRT\n",
      "2024-07-18 01:43:55.276844: W tensorflow/compiler/tf2tensorrt/utils/py_utils.cc:38] TF-TRT Warning: Could not find TensorRT\n",
      "2024-07-18 01:43:55.306374: W tensorflow/compiler/tf2tensorrt/utils/py_utils.cc:38] TF-TRT Warning: Could not find TensorRT\n",
      "2024-07-18 01:43:55.306452: W tensorflow/compiler/tf2tensorrt/utils/py_utils.cc:38] TF-TRT Warning: Could not find TensorRT\n",
      "2024-07-18 01:43:55.308012: W tensorflow/compiler/tf2tensorrt/utils/py_utils.cc:38] TF-TRT Warning: Could not find TensorRT\n",
      "2024-07-18 01:43:55.328868: W tensorflow/compiler/tf2tensorrt/utils/py_utils.cc:38] TF-TRT Warning: Could not find TensorRT\n",
      "2024-07-18 01:43:55.341908: W tensorflow/compiler/tf2tensorrt/utils/py_utils.cc:38] TF-TRT Warning: Could not find TensorRT\n",
      "2024-07-18 01:43:55.354329: W tensorflow/compiler/tf2tensorrt/utils/py_utils.cc:38] TF-TRT Warning: Could not find TensorRT\n",
      "2024-07-18 01:43:55.358042: W tensorflow/compiler/tf2tensorrt/utils/py_utils.cc:38] TF-TRT Warning: Could not find TensorRT\n"
     ]
    },
    {
     "name": "stdout",
     "output_type": "stream",
     "text": [
      "IMR90OPT57 has dist shape (20, 1173, 1173)\n",
      "Processing IMR90SIM\n",
      "IMR90SIM has dist shape (100, 1183, 1183)\n"
     ]
    },
    {
     "ename": "KeyError",
     "evalue": "'IMR90OPT'",
     "output_type": "error",
     "traceback": [
      "\u001b[0;31m---------------------------------------------------------------------------\u001b[0m",
      "\u001b[0;31mKeyError\u001b[0m                                  Traceback (most recent call last)",
      "Cell \u001b[0;32mIn[2], line 2\u001b[0m\n\u001b[1;32m      1\u001b[0m \u001b[38;5;66;03m# Combinations of norms, metrics, and methods\u001b[39;00m\n\u001b[0;32m----> 2\u001b[0m \u001b[43manalysis\u001b[49m\u001b[38;5;241;43m.\u001b[39;49m\u001b[43mcalc_XZ\u001b[49m\u001b[43m(\u001b[49m\u001b[38;5;124;43m\"\u001b[39;49m\u001b[38;5;124;43mIMR90OPT\u001b[39;49m\u001b[38;5;124;43m\"\u001b[39;49m\u001b[43m,\u001b[49m\u001b[43m \u001b[49m\u001b[38;5;124;43m\"\u001b[39;49m\u001b[38;5;124;43mIMR90OPT57\u001b[39;49m\u001b[38;5;124;43m\"\u001b[39;49m\u001b[43m,\u001b[49m\u001b[43m \u001b[49m\u001b[38;5;124;43m\"\u001b[39;49m\u001b[38;5;124;43mIMR90SIM\u001b[39;49m\u001b[38;5;124;43m\"\u001b[39;49m\u001b[43m)\u001b[49m\n\u001b[1;32m      4\u001b[0m \u001b[38;5;66;03m# ICE norm\u001b[39;00m\n\u001b[1;32m      5\u001b[0m \u001b[38;5;66;03m# analysis.calc_XZ(\"IMR90OPT\", \"IMR90OPT57\", \"IMR90SIM\", metric='euclidean', norm='ice', method='single')\u001b[39;00m\n\u001b[1;32m      6\u001b[0m \u001b[38;5;66;03m# analysis.calc_XZ(\"IMR90OPT\", \"IMR90OPT57\", \"IMR90SIM\", metric='euclidean', norm='ice', method='complete')\u001b[39;00m\n\u001b[0;32m   (...)\u001b[0m\n\u001b[1;32m    105\u001b[0m \u001b[38;5;66;03m# analysis.calc_XZ(\"IMR90OPT\", \"IMR90OPT57\", \"IMR90SIM\", metric='log2_contact', norm='kr', method='average')\u001b[39;00m\n\u001b[1;32m    106\u001b[0m \u001b[38;5;66;03m# analysis.calc_XZ(\"IMR90OPT\", \"IMR90OPT57\", \"IMR90SIM\", metric='log2_contact', norm='kr', method='weighted')\u001b[39;00m\n",
      "File \u001b[0;32m~/Dev/OpenMiChroM-Ana/test/../AnalysisTools/Ana.py:498\u001b[0m, in \u001b[0;36mAna.calc_XZ\u001b[0;34m(self, method, metric, n_jobs, norm, *args)\u001b[0m\n\u001b[1;32m    493\u001b[0m     max_shape \u001b[38;5;241m=\u001b[39m np\u001b[38;5;241m.\u001b[39mmaximum(max_shape, np\u001b[38;5;241m.\u001b[39mmax([d\u001b[38;5;241m.\u001b[39mshape \u001b[38;5;28;01mfor\u001b[39;00m d \u001b[38;5;129;01min\u001b[39;00m normalized_dist], axis\u001b[38;5;241m=\u001b[39m\u001b[38;5;241m0\u001b[39m))\n\u001b[1;32m    495\u001b[0m padded_flat_euclid_dist_map \u001b[38;5;241m=\u001b[39m {label: [np\u001b[38;5;241m.\u001b[39mpad(val, ((\u001b[38;5;241m0\u001b[39m, max_shape[\u001b[38;5;241m0\u001b[39m] \u001b[38;5;241m-\u001b[39m val\u001b[38;5;241m.\u001b[39mshape[\u001b[38;5;241m0\u001b[39m]), (\u001b[38;5;241m0\u001b[39m, max_shape[\u001b[38;5;241m1\u001b[39m] \u001b[38;5;241m-\u001b[39m val\u001b[38;5;241m.\u001b[39mshape[\u001b[38;5;241m1\u001b[39m]))) \u001b[38;5;28;01mfor\u001b[39;00m val \u001b[38;5;129;01min\u001b[39;00m sublist] \u001b[38;5;28;01mfor\u001b[39;00m label, sublist \u001b[38;5;129;01min\u001b[39;00m flat_euclid_dist_map\u001b[38;5;241m.\u001b[39mitems()}\n\u001b[1;32m    497\u001b[0m flat_euclid_dist_map \u001b[38;5;241m=\u001b[39m {label: [padded_flat_euclid_dist_map[label][val][np\u001b[38;5;241m.\u001b[39mtriu_indices_from(padded_flat_euclid_dist_map[label][val], k\u001b[38;5;241m=\u001b[39m\u001b[38;5;241m1\u001b[39m)]\u001b[38;5;241m.\u001b[39mflatten()\n\u001b[0;32m--> 498\u001b[0m                                 \u001b[38;5;28;01mfor\u001b[39;00m val \u001b[38;5;129;01min\u001b[39;00m \u001b[38;5;28mrange\u001b[39m(\u001b[38;5;28mlen\u001b[39m(\u001b[43mpadded_flat_euclid_dist_map\u001b[49m\u001b[43m[\u001b[49m\u001b[43mlabel\u001b[49m\u001b[43m]\u001b[49m))]\n\u001b[1;32m    499\u001b[0m                         \u001b[38;5;28;01mfor\u001b[39;00m label \u001b[38;5;129;01min\u001b[39;00m args}\n\u001b[1;32m    501\u001b[0m X \u001b[38;5;241m=\u001b[39m np\u001b[38;5;241m.\u001b[39mvstack([item \u001b[38;5;28;01mfor\u001b[39;00m sublist \u001b[38;5;129;01min\u001b[39;00m flat_euclid_dist_map\u001b[38;5;241m.\u001b[39mvalues() \u001b[38;5;28;01mfor\u001b[39;00m item \u001b[38;5;129;01min\u001b[39;00m sublist])\n\u001b[1;32m    502\u001b[0m \u001b[38;5;28mprint\u001b[39m(\u001b[38;5;124mf\u001b[39m\u001b[38;5;124m\"\u001b[39m\u001b[38;5;124mFlattened distance array has shape: \u001b[39m\u001b[38;5;132;01m{\u001b[39;00mX\u001b[38;5;241m.\u001b[39mshape\u001b[38;5;132;01m}\u001b[39;00m\u001b[38;5;124m\"\u001b[39m)\n",
      "\u001b[0;31mKeyError\u001b[0m: 'IMR90OPT'"
     ]
    }
   ],
   "source": [
    "# Combinations of norms, metrics, and methods\n",
    "analysis.calc_XZ(\"IMR90OPT\", \"IMR90OPT57\", \"IMR90SIM\")\n",
    "\n",
    "# ICE norm\n",
    "# analysis.calc_XZ(\"IMR90OPT\", \"IMR90OPT57\", \"IMR90SIM\", metric='euclidean', norm='ice', method='single')\n",
    "# analysis.calc_XZ(\"IMR90OPT\", \"IMR90OPT57\", \"IMR90SIM\", metric='euclidean', norm='ice', method='complete')\n",
    "# analysis.calc_XZ(\"IMR90OPT\", \"IMR90OPT57\", \"IMR90SIM\", metric='euclidean', norm='ice', method='average')\n",
    "# analysis.calc_XZ(\"IMR90OPT\", \"IMR90OPT57\", \"IMR90SIM\", metric='euclidean', norm='ice', method='weighted')\n",
    "\n",
    "# analysis.calc_XZ(\"IMR90OPT\", \"IMR90OPT57\", \"IMR90SIM\", metric='pearsons', norm='ice', method='single')\n",
    "# analysis.calc_XZ(\"IMR90OPT\", \"IMR90OPT57\", \"IMR90SIM\", metric='pearsons', norm='ice', method='complete')\n",
    "# analysis.calc_XZ(\"IMR90OPT\", \"IMR90OPT57\", \"IMR90SIM\", metric='pearsons', norm='ice', method='average')\n",
    "# analysis.calc_XZ(\"IMR90OPT\", \"IMR90OPT57\", \"IMR90SIM\", metric='pearsons', norm='ice', method='weighted')\n",
    "\n",
    "# analysis.calc_XZ(\"IMR90OPT\", \"IMR90OPT57\", \"IMR90SIM\", metric='spearman', norm='ice', method='single')\n",
    "# analysis.calc_XZ(\"IMR90OPT\", \"IMR90OPT57\", \"IMR90SIM\", metric='spearman', norm='ice', method='complete')\n",
    "# analysis.calc_XZ(\"IMR90OPT\", \"IMR90OPT57\", \"IMR90SIM\", metric='spearman', norm='ice', method='average')\n",
    "# analysis.calc_XZ(\"IMR90OPT\", \"IMR90OPT57\", \"IMR90SIM\", metric='spearman', norm='ice', method='weighted')\n",
    "\n",
    "# analysis.calc_XZ(\"IMR90OPT\", \"IMR90OPT57\", \"IMR90SIM\", metric='contact', norm='ice', method='single')\n",
    "# analysis.calc_XZ(\"IMR90OPT\", \"IMR90OPT57\", \"IMR90SIM\", metric='contact', norm='ice', method='complete')\n",
    "# analysis.calc_XZ(\"IMR90OPT\", \"IMR90OPT57\", \"IMR90SIM\", metric='contact', norm='ice', method='average')\n",
    "# analysis.calc_XZ(\"IMR90OPT\", \"IMR90OPT57\", \"IMR90SIM\", metric='contact', norm='ice', method='weighted')\n",
    "\n",
    "# analysis.calc_XZ(\"IMR90OPT\", \"IMR90OPT57\", \"IMR90SIM\", metric='log2_contact', norm='ice', method='single')\n",
    "# analysis.calc_XZ(\"IMR90OPT\", \"IMR90OPT57\", \"IMR90SIM\", metric='log2_contact', norm='ice', method='complete')\n",
    "# analysis.calc_XZ(\"IMR90OPT\", \"IMR90OPT57\", \"IMR90SIM\", metric='log2_contact', norm='ice', method='average')\n",
    "# analysis.calc_XZ(\"IMR90OPT\", \"IMR90OPT57\", \"IMR90SIM\", metric='log2_contact', norm='ice', method='weighted')\n",
    "\n",
    "# # Log transform norm\n",
    "# analysis.calc_XZ(\"IMR90OPT\", \"IMR90OPT57\", \"IMR90SIM\", metric='euclidean', norm='log_transform', method='single')\n",
    "# analysis.calc_XZ(\"IMR90OPT\", \"IMR90OPT57\", \"IMR90SIM\", metric='euclidean', norm='log_transform', method='complete')\n",
    "# analysis.calc_XZ(\"IMR90OPT\", \"IMR90OPT57\", \"IMR90SIM\", metric='euclidean', norm='log_transform', method='average')\n",
    "# analysis.calc_XZ(\"IMR90OPT\", \"IMR90OPT57\", \"IMR90SIM\", metric='euclidean', norm='log_transform', method='weighted')\n",
    "\n",
    "# analysis.calc_XZ(\"IMR90OPT\", \"IMR90OPT57\", \"IMR90SIM\", metric='pearsons', norm='log_transform', method='single')\n",
    "# analysis.calc_XZ(\"IMR90OPT\", \"IMR90OPT57\", \"IMR90SIM\", metric='pearsons', norm='log_transform', method='complete')\n",
    "# analysis.calc_XZ(\"IMR90OPT\", \"IMR90OPT57\", \"IMR90SIM\", metric='pearsons', norm='log_transform', method='average')\n",
    "# analysis.calc_XZ(\"IMR90OPT\", \"IMR90OPT57\", \"IMR90SIM\", metric='pearsons', norm='log_transform', method='weighted')\n",
    "\n",
    "# analysis.calc_XZ(\"IMR90OPT\", \"IMR90OPT57\", \"IMR90SIM\", metric='spearman', norm='log_transform', method='single')\n",
    "# analysis.calc_XZ(\"IMR90OPT\", \"IMR90OPT57\", \"IMR90SIM\", metric='spearman', norm='log_transform', method='complete')\n",
    "# analysis.calc_XZ(\"IMR90OPT\", \"IMR90OPT57\", \"IMR90SIM\", metric='spearman', norm='log_transform', method='average')\n",
    "# analysis.calc_XZ(\"IMR90OPT\", \"IMR90OPT57\", \"IMR90SIM\", metric='spearman', norm='log_transform', method='weighted')\n",
    "\n",
    "# analysis.calc_XZ(\"IMR90OPT\", \"IMR90OPT57\", \"IMR90SIM\", metric='contact', norm='log_transform', method='single')\n",
    "# analysis.calc_XZ(\"IMR90OPT\", \"IMR90OPT57\", \"IMR90SIM\", metric='contact', norm='log_transform', method='complete')\n",
    "# analysis.calc_XZ(\"IMR90OPT\", \"IMR90OPT57\", \"IMR90SIM\", metric='contact', norm='log_transform', method='average')\n",
    "# analysis.calc_XZ(\"IMR90OPT\", \"IMR90OPT57\", \"IMR90SIM\", metric='contact', norm='log_transform', method='weighted')\n",
    "\n",
    "# analysis.calc_XZ(\"IMR90OPT\", \"IMR90OPT57\", \"IMR90SIM\", metric='log2_contact', norm='log_transform', method='single')\n",
    "# analysis.calc_XZ(\"IMR90OPT\", \"IMR90OPT57\", \"IMR90SIM\", metric='log2_contact', norm='log_transform', method='complete')\n",
    "# analysis.calc_XZ(\"IMR90OPT\", \"IMR90OPT57\", \"IMR90SIM\", metric='log2_contact', norm='log_transform', method='average')\n",
    "# analysis.calc_XZ(\"IMR90OPT\", \"IMR90OPT57\", \"IMR90SIM\", metric='log2_contact', norm='log_transform', method='weighted')\n",
    "\n",
    "# # VC norm\n",
    "# analysis.calc_XZ(\"IMR90OPT\", \"IMR90OPT57\", \"IMR90SIM\", metric='euclidean', norm='vc', method='single')\n",
    "# analysis.calc_XZ(\"IMR90OPT\", \"IMR90OPT57\", \"IMR90SIM\", metric='euclidean', norm='vc', method='complete')\n",
    "# analysis.calc_XZ(\"IMR90OPT\", \"IMR90OPT57\", \"IMR90SIM\", metric='euclidean', norm='vc', method='average')\n",
    "# analysis.calc_XZ(\"IMR90OPT\", \"IMR90OPT57\", \"IMR90SIM\", metric='euclidean', norm='vc', method='weighted')\n",
    "\n",
    "# analysis.calc_XZ(\"IMR90OPT\", \"IMR90OPT57\", \"IMR90SIM\", metric='pearsons', norm='vc', method='single')\n",
    "# analysis.calc_XZ(\"IMR90OPT\", \"IMR90OPT57\", \"IMR90SIM\", metric='pearsons', norm='vc', method='complete')\n",
    "# analysis.calc_XZ(\"IMR90OPT\", \"IMR90OPT57\", \"IMR90SIM\", metric='pearsons', norm='vc', method='average')\n",
    "# analysis.calc_XZ(\"IMR90OPT\", \"IMR90OPT57\", \"IMR90SIM\", metric='pearsons', norm='vc', method='weighted')\n",
    "\n",
    "# analysis.calc_XZ(\"IMR90OPT\", \"IMR90OPT57\", \"IMR90SIM\", metric='spearman', norm='vc', method='single')\n",
    "# analysis.calc_XZ(\"IMR90OPT\", \"IMR90OPT57\", \"IMR90SIM\", metric='spearman', norm='vc', method='complete')\n",
    "# analysis.calc_XZ(\"IMR90OPT\", \"IMR90OPT57\", \"IMR90SIM\", metric='spearman', norm='vc', method='average')\n",
    "# analysis.calc_XZ(\"IMR90OPT\", \"IMR90OPT57\", \"IMR90SIM\", metric='spearman', norm='vc', method='weighted')\n",
    "\n",
    "# analysis.calc_XZ(\"IMR90OPT\", \"IMR90OPT57\", \"IMR90SIM\", metric='contact', norm='vc', method='single')\n",
    "# analysis.calc_XZ(\"IMR90OPT\", \"IMR90OPT57\", \"IMR90SIM\", metric='contact', norm='vc', method='complete')\n",
    "# analysis.calc_XZ(\"IMR90OPT\", \"IMR90OPT57\", \"IMR90SIM\", metric='contact', norm='vc', method='average')\n",
    "# analysis.calc_XZ(\"IMR90OPT\", \"IMR90OPT57\", \"IMR90SIM\", metric='contact', norm='vc', method='weighted')\n",
    "\n",
    "# analysis.calc_XZ(\"IMR90OPT\", \"IMR90OPT57\", \"IMR90SIM\", metric='log2_contact', norm='vc', method='single')\n",
    "# analysis.calc_XZ(\"IMR90OPT\", \"IMR90OPT57\", \"IMR90SIM\", metric='log2_contact', norm='vc', method='complete')\n",
    "# analysis.calc_XZ(\"IMR90OPT\", \"IMR90OPT57\", \"IMR90SIM\", metric='log2_contact', norm='vc', method='average')\n",
    "# analysis.calc_XZ(\"IMR90OPT\", \"IMR90OPT57\", \"IMR90SIM\", metric='log2_contact', norm='vc', method='weighted')\n",
    "\n",
    "# # KR norm\n",
    "# analysis.calc_XZ(\"IMR90OPT\", \"IMR90OPT57\", \"IMR90SIM\", metric='euclidean', norm='kr', method='single')\n",
    "# analysis.calc_XZ(\"IMR90OPT\", \"IMR90OPT57\", \"IMR90SIM\", metric='euclidean', norm='kr', method='complete')\n",
    "# analysis.calc_XZ(\"IMR90OPT\", \"IMR90OPT57\", \"IMR90SIM\", metric='euclidean', norm='kr', method='average')\n",
    "# analysis.calc_XZ(\"IMR90OPT\", \"IMR90OPT57\", \"IMR90SIM\", metric='euclidean', norm='kr', method='weighted')\n",
    "\n",
    "# analysis.calc_XZ(\"IMR90OPT\", \"IMR90OPT57\", \"IMR90SIM\", metric='pearsons', norm='kr', method='single')\n",
    "# analysis.calc_XZ(\"IMR90OPT\", \"IMR90OPT57\", \"IMR90SIM\", metric='pearsons', norm='kr', method='complete')\n",
    "# analysis.calc_XZ(\"IMR90OPT\", \"IMR90OPT57\", \"IMR90SIM\", metric='pearsons', norm='kr', method='average')\n",
    "# analysis.calc_XZ(\"IMR90OPT\", \"IMR90OPT57\", \"IMR90SIM\", metric='pearsons', norm='kr', method='weighted')\n",
    "\n",
    "# analysis.calc_XZ(\"IMR90OPT\", \"IMR90OPT57\", \"IMR90SIM\", metric='spearman', norm='kr', method='single')\n",
    "# analysis.calc_XZ(\"IMR90OPT\", \"IMR90OPT57\", \"IMR90SIM\", metric='spearman', norm='kr', method='complete')\n",
    "# analysis.calc_XZ(\"IMR90OPT\", \"IMR90OPT57\", \"IMR90SIM\", metric='spearman', norm='kr', method='average')\n",
    "# analysis.calc_XZ(\"IMR90OPT\", \"IMR90OPT57\", \"IMR90SIM\", metric='spearman', norm='kr', method='weighted')\n",
    "\n",
    "# analysis.calc_XZ(\"IMR90OPT\", \"IMR90OPT57\", \"IMR90SIM\", metric='contact', norm='kr', method='single')\n",
    "# analysis.calc_XZ(\"IMR90OPT\", \"IMR90OPT57\", \"IMR90SIM\", metric='contact', norm='kr', method='complete')\n",
    "# analysis.calc_XZ(\"IMR90OPT\", \"IMR90OPT57\", \"IMR90SIM\", metric='contact', norm='kr', method='average')\n",
    "# analysis.calc_XZ(\"IMR90OPT\", \"IMR90OPT57\", \"IMR90SIM\", metric='contact', norm='kr', method='weighted')\n",
    "\n",
    "# analysis.calc_XZ(\"IMR90OPT\", \"IMR90OPT57\", \"IMR90SIM\", metric='log2_contact', norm='kr', method='single')\n",
    "# analysis.calc_XZ(\"IMR90OPT\", \"IMR90OPT57\", \"IMR90SIM\", metric='log2_contact', norm='kr', method='complete')\n",
    "# analysis.calc_XZ(\"IMR90OPT\", \"IMR90OPT57\", \"IMR90SIM\", metric='log2_contact', norm='kr', method='average')\n",
    "# analysis.calc_XZ(\"IMR90OPT\", \"IMR90OPT57\", \"IMR90SIM\", metric='log2_contact', norm='kr', method='weighted')\n"
   ]
  },
  {
   "cell_type": "markdown",
   "metadata": {},
   "source": [
    "## Clustering Analysis with Different Methods"
   ]
  },
  {
   "cell_type": "code",
   "execution_count": null,
   "metadata": {},
   "outputs": [],
   "source": [
    "clustering_methods = analysis.compute_helpers.getClusteringMethods()\n",
    "\n",
    "for method in clustering_methods:\n",
    "    result = getattr(analysis, f\"{method}_clustering\")(\"IMR90OPT\", \"IMR90SIM\", \"IMR90OPT57\")\n",
    "    print(f\"{method.capitalize()} Clustering Results:\")\n",
    "    print(result)"
   ]
  },
  {
   "cell_type": "markdown",
   "metadata": {},
   "source": [
    "## Dimensionality Reduction Analysis"
   ]
  },
  {
   "cell_type": "code",
   "execution_count": null,
   "metadata": {},
   "outputs": [],
   "source": [
    "reduction_methods = analysis.compute_helpers.getReductionMethods()\n",
    "\n",
    "for method in reduction_methods:\n",
    "    result = getattr(analysis, method)(\"IMR90OPT\", \"IMR90SIM\", \"IMR90OPT57\")\n",
    "    print(f\"{method.upper()} Results:\")\n",
    "    print(result)"
   ]
  },
  {
   "cell_type": "markdown",
   "metadata": {},
   "source": [
    "## Dendrogram"
   ]
  },
  {
   "cell_type": "code",
   "execution_count": null,
   "metadata": {},
   "outputs": [],
   "source": [
    "Z_dendro = analysis.dendogram_Z(\"IMR90OPT\", \"IMR90SIM\", \"IMR90OPT57\")"
   ]
  },
  {
   "cell_type": "markdown",
   "metadata": {},
   "source": [
    "## Distance Map"
   ]
  },
  {
   "cell_type": "code",
   "execution_count": null,
   "metadata": {},
   "outputs": [],
   "source": [
    "for dataset in [\"IMR90OPT\", \"IMR90SIM\", \"IMR90OPT57\"]:\n",
    "    dist_map = analysis.dist_map(dataset)"
   ]
  },
  {
   "cell_type": "markdown",
   "metadata": {},
   "source": [
    "## Run All Clusterings"
   ]
  },
  {
   "cell_type": "code",
   "execution_count": null,
   "metadata": {},
   "outputs": [],
   "source": [
    "all_clustering_results = analysis.run_all_clusterings(\"IMR90OPT\", \"IMR90SIM\", \"IMR90OPT57\")\n",
    "for method, result in all_clustering_results.items():\n",
    "    print(f\"{method.capitalize()} Clustering Results:\")\n",
    "    print(result)"
   ]
  }
 ],
 "metadata": {
  "kernelspec": {
   "display_name": "Python 3",
   "language": "python",
   "name": "python3"
  },
  "language_info": {
   "codemirror_mode": {
    "name": "ipython",
    "version": 3
   },
   "file_extension": ".py",
   "mimetype": "text/x-python",
   "name": "python",
   "nbconvert_exporter": "python",
   "pygments_lexer": "ipython3",
   "version": "3.12.4"
  }
 },
 "nbformat": 4,
 "nbformat_minor": 4
}
