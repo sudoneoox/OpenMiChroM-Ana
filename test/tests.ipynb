{
 "cells": [
  {
   "cell_type": "markdown",
   "metadata": {},
   "source": [
    "# Comprehensive Analysis of Datasets with Various Metrics, Norms, and Methods"
   ]
  },
  {
   "cell_type": "code",
   "execution_count": null,
   "metadata": {},
   "outputs": [],
   "source": [
    "import sys\n",
    "# sys.path.append('../')\n",
    "\n",
    "import numpy as np\n",
    "from AnalysisTools import Ana\n",
    "from AnalysisTools import ComputeHelpersCPU\n",
    "from AnalysisTools import ComputeHelpersGPU\n",
    "\n",
    "# Initialize the analysis object\n",
    "cachePath = '/home/diego/disks/ANACACHE'\n",
    "comp = ComputeHelpersCPU(memory_location=cachePath, memory_verbosity=0, n_jobs=12)\n",
    "compgpu = ComputeHelpersGPU()\n",
    "analysis = Ana(showPlots=True, execution_mode=comp, cacheStoragePath=cachePath)\n",
    "\n",
    "\n",
    "# cell lines in michrom and adam seperate / and  michrom vs adam\n",
    "\n",
    "\n",
    "# Add datasets\n",
    "# _2 is the dataset with higher error rate but looks visually better on the hic map\n",
    "\n",
    "#IMR90\n",
    "analysis.add_dataset(label=\"IMR90SIM\",folder=\"/home/diego/disks/data/cndb/IMR90SIM/output\")\n",
    "analysis.add_dataset(label='IMR90OPT',folder='/home/diego/disks/data/IMR90OPT/lambda255to256')\n",
    "# analysis.add_dataset(label=\"IMR90OPT_2\",folder='/home/diego/disks/data/IMR90OPT/lambda56to57')\n",
    "\n",
    "#GM12878\n",
    "analysis.add_dataset(label=\"GM12878SIM\",folder='/home/diego/disks/data/cndb/GM12878')\n",
    "analysis.add_dataset(label=\"GM12878OPT\",folder='/home/diego/disks/data/GM12878/lambda202to203')\n",
    "# analysis.add_dataset(label=\"GM12878OPT_2\",folder='/home/diego/disks/data/GM12878/lambda54to55')\n",
    "\n",
    "#K562\n",
    "analysis.add_dataset(label=\"K562SIM\",folder='/home/diego/disks/data/cndb/K562')\n",
    "analysis.add_dataset(label=\"K562OPT\",folder='/home/diego/disks/data/K562/lambda270to271')\n",
    "# analysis.add_dataset(label=\"K562OPT_2\", folder='/home/diego/disks/data/K562/lambda65to66')\n",
    "\n",
    "# #HELA\n",
    "# analysis.add_dataset(label=\"HELASIM\", folder='/home/diego/disks/data/cndb/HELA')\n",
    "# analysis.add_dataset(label=\"HELAOPT\", folder='/home/diego/disks/data/HELA/lambda293to294')\n",
    "# analysis.add_dataset(label=\"HELAOPT_2\", folder='/home/diego/disks/data/HELA/lambda69to70')\n",
    "\n",
    "#STEM\n",
    "analysis.add_dataset(label=\"STEMSIM\", folder='/home/diego/disks/data/cndb/STEM')\n",
    "analysis.add_dataset(label=\"STEMOPT\", folder='/home/diego/disks/data/STEM/lambda300to301')\n",
    "# analysis.add_dataset(label=\"STEMOPT_2\", folder='/home/diego/disks/data/STEM/lambda73to74')\n",
    "\n",
    "dataset_name = [\"IMR90\", \"GM12878\", \"K562\", \"STEM\"]\n",
    "\n",
    "# Process Trajectories \n",
    "for name in dataset_name:\n",
    "    if name == 'IMR90':\n",
    "        analysis.process_trajectories(label=f'{name}SIM', cache_trajs=True, filename=f'traj_chr_{name}OPT_0.cndb', folder_pattern=['iteration_', [1, 20]])        \n",
    "        analysis.process_trajectories(label=f'{name}OPT', cache_trajs=True, filename='traj_0.cndb', folder_pattern=['iteration_', [1,20]])\n",
    "        # analysis.process_trajectories(label=f'{name}OPT_2', cache_trajs=True, filename='traj_0.cndb', folder_pattern=['iteration_', [1,20]])\n",
    "        continue\n",
    "    analysis.process_trajectories(label=f'{name}OPT', cache_trajs=True, filename='traj_0.cndb', folder_pattern=['iteration_', [1,20]])\n",
    "    # analysis.process_trajectories(label=f'{name}OPT_2', cache_trajs=True, filename='traj_0.cndb', folder_pattern=['iteration_', [1,20]])\n",
    "    analysis.process_trajectories(label=f'{name}SIM', cache_trajs=True, filename=f'traj_chr_{name}_0.cndb', folder_pattern=['iteration_', [1, 20]])\n"
   ]
  },
  {
   "cell_type": "code",
   "execution_count": null,
   "metadata": {},
   "outputs": [],
   "source": [
    "# norms = ['ice', 'kr', 'log_transform', 'vc']\n",
    "# metrics = ['euclidean', 'pearsons', 'spearman', 'contact', 'log2_contact']\n",
    "\n",
    "\n",
    "norms = ['log_transform', 'vc']\n",
    "metrics = ['log2_contact', 'contact', 'euclidean']\n",
    "methods = ['single', 'weighted']\n",
    "\n",
    "# seq = [[\"IMR90OPT\", \"IMR90SIM\"], [\"K562OPT\", \"K562SIM\"],\n",
    "#        [\"HELAOPT\", \"HELASIM\"], [\"STEMOPT\",  \"STEMSIM\"], [\"GM12878OPT\", \"GM12878SIM\"] ]\n",
    "\n",
    "# seq = [[\"IMR90OPT\", \"GM12878OPT\"], [\"IMR90OPT\", \"GM12878OPT\", \"STEMOPT\"], [\"IMR90OPT\", \"GM12878OPT\", \"STEMOPT\", \"K562OPT\"]]\n",
    "seq = [[\"IMR90SIM\", \"GM12878SIM\"], [\"IMR90SIM\", \"GM12878SIM\", \"STEMSIM\"], [\"IMR90SIM\", \"GM12878SIM\", \"STEMSIM\", \"K562SIM\"]]\n",
    "\n",
    "\n",
    "# labels = [[\"IMR90 SIM\", \"IMR90 OPT\"], [\"K562 SIM\", \"K562 OPT\"], [\"HELA SIM\", \"HELA OPT\"], [\"STEM SIM\", \"STEM OPT\"], [\"GM12878 SIM\", \"GM12878 OPT\"]]\n"
   ]
  },
  {
   "cell_type": "markdown",
   "metadata": {},
   "source": [
    "## Generate and Cache Distance Matrices"
   ]
  },
  {
   "cell_type": "code",
   "execution_count": null,
   "metadata": {},
   "outputs": [],
   "source": [
    "for norm in norms:\n",
    "    for metric in metrics:\n",
    "        for method in methods:\n",
    "            for ele in seq:\n",
    "                if len(ele) == 2:\n",
    "                    analysis.calc_XZ(ele[0], ele[1], metric=metric, norm=norm, method=method)\n",
    "\n",
    "                elif len(ele) == 3:\n",
    "                    analysis.calc_XZ(ele[0], ele[1], ele[2], metric=metric, norm=norm, method=method)\n",
    "\n",
    "                elif len(ele) == 4:\n",
    "                    analysis.calc_XZ(ele[0], ele[1], ele[2], ele[3], metric=metric, norm=norm, method=method)\n",
    "\n"
   ]
  },
  {
   "cell_type": "markdown",
   "metadata": {},
   "source": [
    "## Dimensionality Reduction Techniques"
   ]
  },
  {
   "cell_type": "markdown",
   "metadata": {},
   "source": [
    "### PCA Analysis"
   ]
  },
  {
   "cell_type": "code",
   "execution_count": null,
   "metadata": {},
   "outputs": [],
   "source": [
    "for norm in norms:\n",
    "    for metric in metrics:\n",
    "        for method in methods:\n",
    "            for ele in seq:\n",
    "                if len(ele) == 2:\n",
    "                    analysis.pca(ele[0], ele[1], metric=metric, n_components=1, norm=norm, method=method, n_clusters=2, labels=seq[0])\n",
    "\n",
    "                elif len(ele) == 3:\n",
    "                    analysis.pca(ele[0], ele[1], ele[2], metric=metric, n_components=1, norm=norm, method=method, n_clusters=3, labels=seq[1])\n",
    "\n",
    "                elif len(ele) == 4:\n",
    "                    analysis.pca(ele[0], ele[1], ele[2], ele[3], metric=metric, n_components=1, norm=norm, method=method, n_clusters=4, labels=seq[2])                    \n",
    "\n",
    " \n"
   ]
  },
  {
   "cell_type": "markdown",
   "metadata": {},
   "source": [
    "## Expiremental Scaler with best pca norm x method x metric dataset"
   ]
  },
  {
   "cell_type": "code",
   "execution_count": null,
   "metadata": {},
   "outputs": [],
   "source": [
    "#_weighted_euclidean_log_transform.png\n",
    "metrics = ['euclidean', 'pearsons', 'spearman', 'contact', 'log2_contact']\n",
    "norms = ['ice', 'kr', 'log_transform', 'vc']\n",
    "from AnalysisTools.Plot_Helper import PlotHelper\n",
    "\n",
    "for norm in norms:\n",
    "    for metric in metrics:\n",
    "        X, Z = analysis.calc_XZ(\"IMR90SIM\", \"IMR90OPT\", \"IMR90OPT57\", method=\"weighted\", metric=metric, norm=norm, overrideCache=True, expiremental=True)\n",
    "        n_components = 1\n",
    "        pca, exp, com = comp.run_reduction('pca', X, 1)\n",
    "\n",
    "        plot_params = {\n",
    "            'outputFileName': f\"test00_{norm}_{metric}\",\n",
    "            'cmap': 'viridis',\n",
    "            'title': f'PCA of test',\n",
    "            'x_label': 'PC1',\n",
    "            'y_label': 'PC2' if n_components > 1 else 'Principal Component 1',\n",
    "            'z_label': 'PC3' if n_components > 2 else None,\n",
    "            'n_components': n_components,\n",
    "            'n_clusters': 2,\n",
    "            'method': \"weighted\",\n",
    "            'metric': \"euclidean\",\n",
    "            'norm': \"log_transform\",\n",
    "            'n_components_95': 1,\n",
    "            'size': 50,\n",
    "            'alpha': 0.7,\n",
    "        }\n",
    "\n",
    "        if n_components > 1:\n",
    "            plot_params['y_label'] = f'PC2 ({exp[1]:.2%} variance)'\n",
    "        else:\n",
    "            plot_params['y_label'] = 'Samples'\n",
    "\n",
    "\n",
    "        pl = PlotHelper()\n",
    "        pl.plot(plot_type=\"pcaplot\", data=(pca, exp, com), plot_params=plot_params)\n"
   ]
  },
  {
   "cell_type": "markdown",
   "metadata": {},
   "source": [
    "### UMAP Analysis"
   ]
  },
  {
   "cell_type": "markdown",
   "metadata": {},
   "source": [
    "### t-SNE Analysis"
   ]
  },
  {
   "cell_type": "code",
   "execution_count": null,
   "metadata": {},
   "outputs": [],
   "source": [
    "for norm in norms:\n",
    "    for metric in metrics:\n",
    "        for method in methods:\n",
    "            analysis.tsne(\"IMR90OPT\", \"IMR90OPT57\", \"IMR90SIM\", metric=metric, n_clusters=2, norm=norm, method=method, n_components=1)"
   ]
  },
  {
   "cell_type": "markdown",
   "metadata": {},
   "source": [
    "### MDS Analysis"
   ]
  },
  {
   "cell_type": "code",
   "execution_count": null,
   "metadata": {},
   "outputs": [],
   "source": [
    "for norm in norms:\n",
    "    for metric in metrics:\n",
    "        for method in methods:\n",
    "            analysis.mds(\"IMR90OPT\", \"IMR90OPT57\", \"IMR90SIM\", metric=metric, n_components=1, norm=norm, method=method)"
   ]
  },
  {
   "cell_type": "markdown",
   "metadata": {},
   "source": [
    "### SVD Analysis"
   ]
  },
  {
   "cell_type": "code",
   "execution_count": null,
   "metadata": {},
   "outputs": [],
   "source": [
    "for norm in norms:\n",
    "    for metric in metrics:\n",
    "        for method in methods:\n",
    "            analysis.svd(\"IMR90OPT\", \"IMR90OPT57\", \"IMR90SIM\", metric=metric, n_components=1, norm=norm, method=method, n_clusters=2)"
   ]
  },
  {
   "cell_type": "markdown",
   "metadata": {},
   "source": [
    "## Clustering Techniques"
   ]
  },
  {
   "cell_type": "markdown",
   "metadata": {},
   "source": [
    "### K-means Clustering"
   ]
  },
  {
   "cell_type": "code",
   "execution_count": null,
   "metadata": {},
   "outputs": [],
   "source": [
    "for norm in norms:\n",
    "    for metric in metrics:\n",
    "            analysis.kmeans_clustering(\"IMR90OPT\", \"IMR90OPT57\", \"IMR90SIM\", n_clusters=2, metric=metric, norm=norm)"
   ]
  },
  {
   "cell_type": "markdown",
   "metadata": {},
   "source": [
    "### DBSCAN Clustering"
   ]
  },
  {
   "cell_type": "code",
   "execution_count": null,
   "metadata": {},
   "outputs": [],
   "source": [
    "for norm in norms:\n",
    "    for metric in metrics:\n",
    "        for method in methods:\n",
    "            analysis.dbscan_clustering(\"IMR90OPT\", \"IMR90OPT56\", \"IMR90SIM\", eps=0.5, min_samples=5, metric=metric, norm=norm, method=method)"
   ]
  },
  {
   "cell_type": "markdown",
   "metadata": {},
   "source": [
    "### Hierarchical Clustering"
   ]
  },
  {
   "cell_type": "code",
   "execution_count": null,
   "metadata": {},
   "outputs": [],
   "source": [
    "for norm in norms:\n",
    "    for metric in metrics:\n",
    "        for method in methods:\n",
    "            analysis.hierarchical_clustering(\"IMR90OPT\", \"IMR90OPT56\", \"IMR90SIM\", n_clusters=5, metric=metric, norm=norm, method=method)"
   ]
  },
  {
   "cell_type": "code",
   "execution_count": null,
   "metadata": {},
   "outputs": [],
   "source": [
    "for norm in norms:\n",
    "    for metric in metrics:\n",
    "            analysis.spectral_clustering(\"IMR90OPT\", \"IMR90OPT57\", \"IMR90SIM\", n_clusters=2, n_components=2, metric=metric, norm=norm)"
   ]
  },
  {
   "cell_type": "markdown",
   "metadata": {},
   "source": [
    "### Spectral Clustering"
   ]
  },
  {
   "cell_type": "code",
   "execution_count": null,
   "metadata": {},
   "outputs": [],
   "source": [
    "for norm in norms:\n",
    "    for metric in metrics:\n",
    "            print(analysis.spectral_clustering(\"IMR90OPT\", \"IMR90OPT57\", \"IMR90SIM\", n_clusters=-1, n_components=1, metric=metric, norm=norm))"
   ]
  },
  {
   "cell_type": "markdown",
   "metadata": {},
   "source": [
    "### OPTICS Clustering"
   ]
  },
  {
   "cell_type": "code",
   "execution_count": null,
   "metadata": {},
   "outputs": [],
   "source": [
    "for norm in norms:\n",
    "    for metric in metrics:\n",
    "        for method in methods:\n",
    "            analysis.optics_clustering(\"IMR90OPT\", \"IMR90OPT56\", \"IMR90SIM\", min_samples=5, xi=0.05, min_cluster_size=0.05, metric=metric, norm=norm, method=method)"
   ]
  }
 ],
 "metadata": {
  "kernelspec": {
   "display_name": "Python 3",
   "language": "python",
   "name": "python3"
  },
  "language_info": {
   "codemirror_mode": {
    "name": "ipython",
    "version": 3
   },
   "file_extension": ".py",
   "mimetype": "text/x-python",
   "name": "python",
   "nbconvert_exporter": "python",
   "pygments_lexer": "ipython3",
   "version": "3.11.9"
  }
 },
 "nbformat": 4,
 "nbformat_minor": 4
}
