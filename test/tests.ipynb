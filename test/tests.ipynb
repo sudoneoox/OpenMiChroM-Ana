{
 "cells": [
  {
   "cell_type": "markdown",
   "metadata": {},
   "source": [
    "# Analysis of IMR90 Datasets with Various Metrics and Norms"
   ]
  },
  {
   "cell_type": "code",
   "execution_count": 2,
   "metadata": {},
   "outputs": [
    {
     "name": "stdout",
     "output_type": "stream",
     "text": [
      "CUDA is available and will be used for computations.\n",
      "Processing file: data/IMR90SIM/iteration_1/traj_chr_IMR90OPT_0.cndb\n",
      "Processing file: data/IMR90SIM/iteration_2/traj_chr_IMR90OPT_0.cndb\n",
      "Processing file: data/IMR90SIM/iteration_3/traj_chr_IMR90OPT_0.cndb\n",
      "Processing file: data/IMR90SIM/iteration_4/traj_chr_IMR90OPT_0.cndb\n",
      "Processing file: data/IMR90SIM/iteration_5/traj_chr_IMR90OPT_0.cndb\n",
      "Processing file: data/IMR90SIM/iteration_6/traj_chr_IMR90OPT_0.cndb\n",
      "Processing file: data/IMR90SIM/iteration_7/traj_chr_IMR90OPT_0.cndb\n",
      "Processing file: data/IMR90SIM/iteration_8/traj_chr_IMR90OPT_0.cndb\n",
      "Processing file: data/IMR90SIM/iteration_9/traj_chr_IMR90OPT_0.cndb\n",
      "Processing file: data/IMR90SIM/iteration_10/traj_chr_IMR90OPT_0.cndb\n",
      "Processing file: data/IMR90SIM/iteration_11/traj_chr_IMR90OPT_0.cndb\n",
      "Processing file: data/IMR90SIM/iteration_12/traj_chr_IMR90OPT_0.cndb\n",
      "Processing file: data/IMR90SIM/iteration_13/traj_chr_IMR90OPT_0.cndb\n",
      "Processing file: data/IMR90SIM/iteration_14/traj_chr_IMR90OPT_0.cndb\n",
      "Processing file: data/IMR90SIM/iteration_15/traj_chr_IMR90OPT_0.cndb\n",
      "Processing file: data/IMR90SIM/iteration_16/traj_chr_IMR90OPT_0.cndb\n",
      "Processing file: data/IMR90SIM/iteration_17/traj_chr_IMR90OPT_0.cndb\n",
      "Processing file: data/IMR90SIM/iteration_18/traj_chr_IMR90OPT_0.cndb\n",
      "Processing file: data/IMR90SIM/iteration_19/traj_chr_IMR90OPT_0.cndb\n",
      "Processing file: data/IMR90SIM/iteration_20/traj_chr_IMR90OPT_0.cndb\n",
      "Trajectory for IMR90SIM has shape (100, 1183, 3)\n",
      "Processing file: data/IMR90OPT/iteration_1/traj_0.cndb\n",
      "Processing file: data/IMR90OPT/iteration_2/traj_0.cndb\n",
      "Processing file: data/IMR90OPT/iteration_3/traj_0.cndb\n",
      "Processing file: data/IMR90OPT/iteration_4/traj_0.cndb\n",
      "Processing file: data/IMR90OPT/iteration_5/traj_0.cndb\n",
      "Processing file: data/IMR90OPT/iteration_6/traj_0.cndb\n",
      "Processing file: data/IMR90OPT/iteration_7/traj_0.cndb\n",
      "Processing file: data/IMR90OPT/iteration_8/traj_0.cndb\n",
      "Processing file: data/IMR90OPT/iteration_9/traj_0.cndb\n",
      "Processing file: data/IMR90OPT/iteration_10/traj_0.cndb\n",
      "Processing file: data/IMR90OPT/iteration_11/traj_0.cndb\n",
      "Processing file: data/IMR90OPT/iteration_12/traj_0.cndb\n",
      "Processing file: data/IMR90OPT/iteration_13/traj_0.cndb\n",
      "Processing file: data/IMR90OPT/iteration_14/traj_0.cndb\n",
      "Processing file: data/IMR90OPT/iteration_15/traj_0.cndb\n",
      "Processing file: data/IMR90OPT/iteration_16/traj_0.cndb\n",
      "Processing file: data/IMR90OPT/iteration_17/traj_0.cndb\n",
      "Processing file: data/IMR90OPT/iteration_18/traj_0.cndb\n",
      "Processing file: data/IMR90OPT/iteration_19/traj_0.cndb\n",
      "Processing file: data/IMR90OPT/iteration_20/traj_0.cndb\n",
      "Trajectory for IMR90OPT has shape (20, 1173, 3)\n",
      "Processing file: data/IMR90OPT56/iteration_1/traj_0.cndb\n",
      "Processing file: data/IMR90OPT56/iteration_2/traj_0.cndb\n",
      "Processing file: data/IMR90OPT56/iteration_3/traj_0.cndb\n",
      "Processing file: data/IMR90OPT56/iteration_4/traj_0.cndb\n",
      "Processing file: data/IMR90OPT56/iteration_5/traj_0.cndb\n",
      "Processing file: data/IMR90OPT56/iteration_6/traj_0.cndb\n",
      "Processing file: data/IMR90OPT56/iteration_7/traj_0.cndb\n",
      "Processing file: data/IMR90OPT56/iteration_8/traj_0.cndb\n",
      "Processing file: data/IMR90OPT56/iteration_9/traj_0.cndb\n",
      "Processing file: data/IMR90OPT56/iteration_10/traj_0.cndb\n",
      "Processing file: data/IMR90OPT56/iteration_11/traj_0.cndb\n",
      "Processing file: data/IMR90OPT56/iteration_12/traj_0.cndb\n",
      "Processing file: data/IMR90OPT56/iteration_13/traj_0.cndb\n",
      "Processing file: data/IMR90OPT56/iteration_14/traj_0.cndb\n",
      "Processing file: data/IMR90OPT56/iteration_15/traj_0.cndb\n",
      "Processing file: data/IMR90OPT56/iteration_16/traj_0.cndb\n",
      "Processing file: data/IMR90OPT56/iteration_17/traj_0.cndb\n",
      "Processing file: data/IMR90OPT56/iteration_18/traj_0.cndb\n",
      "Processing file: data/IMR90OPT56/iteration_19/traj_0.cndb\n",
      "Processing file: data/IMR90OPT56/iteration_20/traj_0.cndb\n",
      "Trajectory for IMR90OPT57 has shape (20, 1173, 3)\n"
     ]
    }
   ],
   "source": [
    "import sys\n",
    "sys.path.append('../')\n",
    "\n",
    "import numpy as np\n",
    "from AnalysisTools import Ana, PlotHelper\n",
    "\n",
    "\n",
    "# Initialize the analysis object\n",
    "analysis = Ana(showPlots=True, execution_mode='cuda', cacheStoragePath='/home/diego/disks/ANACACHE')\n",
    "\n",
    "# Add datasets\n",
    "analysis.add_dataset(label=\"IMR90SIM\", folder=\"data/IMR90SIM\")\n",
    "analysis.add_dataset(label='IMR90OPT', folder='data/IMR90OPT')\n",
    "analysis.add_dataset(label=\"IMR90OPT57\", folder='data/IMR90OPT56')\n",
    "\n",
    "# Process trajectories for each dataset\n",
    "analysis.process_trajectories(label=\"IMR90SIM\", filename=\"traj_chr_IMR90OPT_0.cndb\", folder_pattern=['iteration_', [1, 20]])\n",
    "analysis.process_trajectories(label=\"IMR90OPT\", filename=\"traj_0.cndb\", folder_pattern=['iteration_', [1, 20]])\n",
    "analysis.process_trajectories(label=\"IMR90OPT57\", filename=\"traj_0.cndb\", folder_pattern=['iteration_', [1, 20]])\n",
    "\n",
    "# Initialize PlotHelper\n",
    "pl = PlotHelper()"
   ]
  },
  {
   "cell_type": "markdown",
   "metadata": {},
   "source": [
    "<h1> Load all variations of norm x metric into the cache </h1>"
   ]
  },
  {
   "cell_type": "code",
   "execution_count": null,
   "metadata": {},
   "outputs": [],
   "source": [
    "norms = ['ice', 'log_transform', 'vc', 'kr']\n",
    "metrics = ['euclidean', 'pearsons', 'spearman', 'contact', 'log2_contact']\n",
    "\n",
    "for i in norms:\n",
    "    for j in metrics:\n",
    "        analysis.calc_XZ(\"IMR90OPT\", \"IMR90OPT57\", \"IMR90SIM\", metric=metrics[j], norm=norms[i], metri)"
   ]
  },
  {
   "cell_type": "markdown",
   "metadata": {},
   "source": [
    "## Spectral Clustering Analysis with Default Parameters"
   ]
  },
  {
   "cell_type": "code",
   "execution_count": null,
   "metadata": {},
   "outputs": [],
   "source": [
    "cluster_results_default = analysis.spectral_clustering(\"IMR90OPT\", \"IMR90SIM\", \"IMR90OPT57\")\n"
   ]
  },
  {
   "cell_type": "markdown",
   "metadata": {},
   "source": [
    "## Spectral Clustering Analysis with Different Norms"
   ]
  },
  {
   "cell_type": "code",
   "execution_count": null,
   "metadata": {},
   "outputs": [],
   "source": [
    "norms = [\"ice\", \"log_transform\", \"vc\", \"kr\"]\n",
    "\n",
    "for norm in norms:\n",
    "    cluster_results_norm = analysis.spectral_clustering(\"IMR90OPT\", \"IMR90SIM\", \"IMR90OPT57\", norm=norm)\n"
   ]
  },
  {
   "cell_type": "markdown",
   "metadata": {},
   "source": [
    "## Spectral Clustering Analysis with Different Metrics"
   ]
  },
  {
   "cell_type": "code",
   "execution_count": null,
   "metadata": {},
   "outputs": [],
   "source": [
    "metrics = [\"euclidean\", \"pearsons\", \"spearman\", \"contact\", \"log2_contact\"]\n",
    "\n",
    "for metric in metrics:\n",
    "    cluster_results_metric = analysis.spectral_clustering(\"IMR90OPT\", \"IMR90SIM\", \"IMR90OPT57\", metric=metric)\n"
   ]
  },
  {
   "cell_type": "markdown",
   "metadata": {},
   "source": [
    "## PCA Analysis"
   ]
  },
  {
   "cell_type": "code",
   "execution_count": null,
   "metadata": {},
   "outputs": [],
   "source": [
    "prinComp_pca, expVarRatio_pca, fclust_pca = analysis.pca(\"IMR90OPT\", \"IMR90SIM\", \"IMR90OPT57\")\n"
   ]
  },
  {
   "cell_type": "markdown",
   "metadata": {},
   "source": [
    "## t-SNE Analysis"
   ]
  },
  {
   "cell_type": "code",
   "execution_count": null,
   "metadata": {},
   "outputs": [],
   "source": [
    "tsne_res, fclust_tsne = analysis.tsne(\"IMR90OPT\", \"IMR90SIM\", \"IMR90OPT57\")\n",
    "pl.plot(plot_type=\"tsneplot\", data=[tsne_res, fclust_tsne], plot_params={\"title\": \"t-SNE Plot\"})"
   ]
  },
  {
   "cell_type": "markdown",
   "metadata": {},
   "source": [
    "## UMAP Analysis"
   ]
  },
  {
   "cell_type": "code",
   "execution_count": null,
   "metadata": {},
   "outputs": [],
   "source": [
    "umap_res, fclust_umap = analysis.umap(\"IMR90OPT\", \"IMR90SIM\", \"IMR90OPT57\")\n",
    "pl.plot(plot_type=\"umapplot\", data=[umap_res, fclust_umap], plot_params={\"title\": \"UMAP Plot\"})"
   ]
  },
  {
   "cell_type": "markdown",
   "metadata": {},
   "source": [
    "## IVIS Analysis"
   ]
  },
  {
   "cell_type": "code",
   "execution_count": null,
   "metadata": {},
   "outputs": [],
   "source": [
    "ivis_res, fclust_ivis = analysis.ivis_clustering(\"IMR90OPT\", \"IMR90SIM\", \"IMR90OPT57\")\n",
    "pl.plot(plot_type=\"ivisplot\", data=[ivis_res, fclust_ivis], plot_params={\"title\": \"IVIS Plot\"})"
   ]
  },
  {
   "cell_type": "markdown",
   "metadata": {},
   "source": [
    "## Dendrogram"
   ]
  },
  {
   "cell_type": "code",
   "execution_count": null,
   "metadata": {},
   "outputs": [],
   "source": [
    "Z_dendro = analysis.dendogram_Z(\"IMR90OPT\", \"IMR90SIM\", \"IMR90OPT57\")\n",
    "pl.plot(plot_type=\"dendrogram\", data=Z_dendro, plot_params={\"title\": \"Dendrogram\"})"
   ]
  },
  {
   "cell_type": "markdown",
   "metadata": {},
   "source": [
    "## Distance Map"
   ]
  },
  {
   "cell_type": "code",
   "execution_count": null,
   "metadata": {},
   "outputs": [],
   "source": [
    "for dataset in [\"IMR90OPT\", \"IMR90SIM\", \"IMR90OPT57\"]:\n",
    "    dist_map = analysis.dist_map(dataset)\n",
    "    pl.plot(plot_type=\"euclidiandistmap\", data=[dist_map], plot_params={\"title\": f\"{dataset} Distance Map\"})"
   ]
  }
 ],
 "metadata": {
  "kernelspec": {
   "display_name": "Python 3",
   "language": "python",
   "name": "python3"
  },
  "language_info": {
   "codemirror_mode": {
    "name": "ipython",
    "version": 3
   },
   "file_extension": ".py",
   "mimetype": "text/x-python",
   "name": "python",
   "nbconvert_exporter": "python",
   "pygments_lexer": "ipython3",
   "version": "3.12.4"
  }
 },
 "nbformat": 4,
 "nbformat_minor": 4
}
