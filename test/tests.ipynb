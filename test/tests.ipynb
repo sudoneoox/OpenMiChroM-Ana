{
 "cells": [
  {
   "cell_type": "markdown",
   "metadata": {},
   "source": [
    "# Analysis of IMR90 Datasets with Various Metrics and Norms"
   ]
  },
  {
   "cell_type": "code",
   "execution_count": 1,
   "metadata": {},
   "outputs": [
    {
     "name": "stderr",
     "output_type": "stream",
     "text": [
      "2024-07-18 01:30:32.225991: E external/local_xla/xla/stream_executor/cuda/cuda_fft.cc:485] Unable to register cuFFT factory: Attempting to register factory for plugin cuFFT when one has already been registered\n",
      "2024-07-18 01:30:32.242165: E external/local_xla/xla/stream_executor/cuda/cuda_dnn.cc:8454] Unable to register cuDNN factory: Attempting to register factory for plugin cuDNN when one has already been registered\n",
      "2024-07-18 01:30:32.248396: E external/local_xla/xla/stream_executor/cuda/cuda_blas.cc:1452] Unable to register cuBLAS factory: Attempting to register factory for plugin cuBLAS when one has already been registered\n",
      "2024-07-18 01:30:32.261552: I tensorflow/core/platform/cpu_feature_guard.cc:210] This TensorFlow binary is optimized to use available CPU instructions in performance-critical operations.\n",
      "To enable the following instructions: AVX2 FMA, in other operations, rebuild TensorFlow with the appropriate compiler flags.\n",
      "2024-07-18 01:30:32.988673: W tensorflow/compiler/tf2tensorrt/utils/py_utils.cc:38] TF-TRT Warning: Could not find TensorRT\n"
     ]
    },
    {
     "name": "stdout",
     "output_type": "stream",
     "text": [
      "Processing file: data/IMR90SIM/iteration_1/traj_chr_IMR90OPT_0.cndb\n",
      "Processing file: data/IMR90SIM/iteration_2/traj_chr_IMR90OPT_0.cndb\n",
      "Processing file: data/IMR90SIM/iteration_3/traj_chr_IMR90OPT_0.cndb\n",
      "Processing file: data/IMR90SIM/iteration_4/traj_chr_IMR90OPT_0.cndb\n",
      "Processing file: data/IMR90SIM/iteration_5/traj_chr_IMR90OPT_0.cndb\n",
      "Processing file: data/IMR90SIM/iteration_6/traj_chr_IMR90OPT_0.cndb\n",
      "Processing file: data/IMR90SIM/iteration_7/traj_chr_IMR90OPT_0.cndb\n",
      "Processing file: data/IMR90SIM/iteration_8/traj_chr_IMR90OPT_0.cndb\n",
      "Processing file: data/IMR90SIM/iteration_9/traj_chr_IMR90OPT_0.cndb\n",
      "Processing file: data/IMR90SIM/iteration_10/traj_chr_IMR90OPT_0.cndb\n",
      "Processing file: data/IMR90SIM/iteration_11/traj_chr_IMR90OPT_0.cndb\n",
      "Processing file: data/IMR90SIM/iteration_12/traj_chr_IMR90OPT_0.cndb\n",
      "Processing file: data/IMR90SIM/iteration_13/traj_chr_IMR90OPT_0.cndb\n",
      "Processing file: data/IMR90SIM/iteration_14/traj_chr_IMR90OPT_0.cndb\n",
      "Processing file: data/IMR90SIM/iteration_15/traj_chr_IMR90OPT_0.cndb\n",
      "Processing file: data/IMR90SIM/iteration_16/traj_chr_IMR90OPT_0.cndb\n",
      "Processing file: data/IMR90SIM/iteration_17/traj_chr_IMR90OPT_0.cndb\n",
      "Processing file: data/IMR90SIM/iteration_18/traj_chr_IMR90OPT_0.cndb\n",
      "Processing file: data/IMR90SIM/iteration_19/traj_chr_IMR90OPT_0.cndb\n",
      "Processing file: data/IMR90SIM/iteration_20/traj_chr_IMR90OPT_0.cndb\n",
      "Trajectory for IMR90SIM has shape (100, 1183, 3)\n",
      "Processing file: data/IMR90OPT/iteration_1/traj_0.cndb\n",
      "Processing file: data/IMR90OPT/iteration_2/traj_0.cndb\n",
      "Processing file: data/IMR90OPT/iteration_3/traj_0.cndb\n",
      "Processing file: data/IMR90OPT/iteration_4/traj_0.cndb\n",
      "Processing file: data/IMR90OPT/iteration_5/traj_0.cndb\n",
      "Processing file: data/IMR90OPT/iteration_6/traj_0.cndb\n",
      "Processing file: data/IMR90OPT/iteration_7/traj_0.cndb\n",
      "Processing file: data/IMR90OPT/iteration_8/traj_0.cndb\n",
      "Processing file: data/IMR90OPT/iteration_9/traj_0.cndb\n",
      "Processing file: data/IMR90OPT/iteration_10/traj_0.cndb\n",
      "Processing file: data/IMR90OPT/iteration_11/traj_0.cndb\n",
      "Processing file: data/IMR90OPT/iteration_12/traj_0.cndb\n",
      "Processing file: data/IMR90OPT/iteration_13/traj_0.cndb\n",
      "Processing file: data/IMR90OPT/iteration_14/traj_0.cndb\n",
      "Processing file: data/IMR90OPT/iteration_15/traj_0.cndb\n",
      "Processing file: data/IMR90OPT/iteration_16/traj_0.cndb\n",
      "Processing file: data/IMR90OPT/iteration_17/traj_0.cndb\n",
      "Processing file: data/IMR90OPT/iteration_18/traj_0.cndb\n",
      "Processing file: data/IMR90OPT/iteration_19/traj_0.cndb\n",
      "Processing file: data/IMR90OPT/iteration_20/traj_0.cndb\n",
      "Trajectory for IMR90OPT has shape (20, 1173, 3)\n",
      "Processing file: data/IMR90OPT56/iteration_1/traj_0.cndb\n",
      "Processing file: data/IMR90OPT56/iteration_2/traj_0.cndb\n",
      "Processing file: data/IMR90OPT56/iteration_3/traj_0.cndb\n",
      "Processing file: data/IMR90OPT56/iteration_4/traj_0.cndb\n",
      "Processing file: data/IMR90OPT56/iteration_5/traj_0.cndb\n",
      "Processing file: data/IMR90OPT56/iteration_6/traj_0.cndb\n",
      "Processing file: data/IMR90OPT56/iteration_7/traj_0.cndb\n",
      "Processing file: data/IMR90OPT56/iteration_8/traj_0.cndb\n",
      "Processing file: data/IMR90OPT56/iteration_9/traj_0.cndb\n",
      "Processing file: data/IMR90OPT56/iteration_10/traj_0.cndb\n",
      "Processing file: data/IMR90OPT56/iteration_11/traj_0.cndb\n",
      "Processing file: data/IMR90OPT56/iteration_12/traj_0.cndb\n",
      "Processing file: data/IMR90OPT56/iteration_13/traj_0.cndb\n",
      "Processing file: data/IMR90OPT56/iteration_14/traj_0.cndb\n",
      "Processing file: data/IMR90OPT56/iteration_15/traj_0.cndb\n",
      "Processing file: data/IMR90OPT56/iteration_16/traj_0.cndb\n",
      "Processing file: data/IMR90OPT56/iteration_17/traj_0.cndb\n",
      "Processing file: data/IMR90OPT56/iteration_18/traj_0.cndb\n",
      "Processing file: data/IMR90OPT56/iteration_19/traj_0.cndb\n",
      "Processing file: data/IMR90OPT56/iteration_20/traj_0.cndb\n",
      "Trajectory for IMR90OPT57 has shape (20, 1173, 3)\n"
     ]
    }
   ],
   "source": [
    "import sys\n",
    "sys.path.append('../')\n",
    "\n",
    "import numpy as np\n",
    "from AnalysisTools import Ana\n",
    "\n",
    "# Initialize the analysis object\n",
    "analysis = Ana(showPlots=True, execution_mode='gpu', cacheStoragePath='/home/diego/disks/ANACACHE')\n",
    "\n",
    "# Add datasets\n",
    "analysis.add_dataset(label=\"IMR90SIM\", folder=\"data/IMR90SIM\")\n",
    "analysis.add_dataset(label='IMR90OPT', folder='data/IMR90OPT')\n",
    "analysis.add_dataset(label=\"IMR90OPT57\", folder='data/IMR90OPT56')\n",
    "\n",
    "# Process trajectories for each dataset\n",
    "analysis.process_trajectories(label=\"IMR90SIM\", filename=\"traj_chr_IMR90OPT_0.cndb\", folder_pattern=['iteration_', [1, 20]])\n",
    "analysis.process_trajectories(label=\"IMR90OPT\", filename=\"traj_0.cndb\", folder_pattern=['iteration_', [1, 20]])\n",
    "analysis.process_trajectories(label=\"IMR90OPT57\", filename=\"traj_0.cndb\", folder_pattern=['iteration_', [1, 20]])"
   ]
  },
  {
   "cell_type": "markdown",
   "metadata": {},
   "source": [
    "<h2> Load all variations of norm x metric into storage cache </h2>"
   ]
  },
  {
   "cell_type": "code",
   "execution_count": 2,
   "metadata": {},
   "outputs": [
    {
     "name": "stdout",
     "output_type": "stream",
     "text": [
      "No cached data, creating cache file /home/diego/disks/ANACACHE/cache_('IMR90OPT', 'IMR90OPT57', 'IMR90SIM', 'single', 'euclidean', 'ice').pkl\n",
      "Processing IMR90OPT\n",
      "IMR90OPT has dist shape (20, 1173, 1173)\n"
     ]
    },
    {
     "ename": "TypingError",
     "evalue": "Failed in nopython mode pipeline (step: nopython frontend)\nnon-precise type pyobject\nDuring: typing of argument at /home/diego/Dev/OpenMiChroM-Ana/test/../AnalysisTools/compute_helpers.py (339)\n\nFile \"../AnalysisTools/compute_helpers.py\", line 339:\n    def vc_normalization(self, m):\n        <source elided>\n\n    @jit(nopython=True)\n    ^ \n\nThis error may have been caused by the following argument(s):\n- argument 0: Cannot determine Numba type of <class 'AnalysisTools.compute_helpers.ComputeHelpers'>\n",
     "output_type": "error",
     "traceback": [
      "\u001b[0;31m---------------------------------------------------------------------------\u001b[0m",
      "\u001b[0;31mTypingError\u001b[0m                               Traceback (most recent call last)",
      "Cell \u001b[0;32mIn[2], line 4\u001b[0m\n\u001b[1;32m      1\u001b[0m \u001b[38;5;66;03m# Combinations of norms, metrics, and methods\u001b[39;00m\n\u001b[1;32m      2\u001b[0m \n\u001b[1;32m      3\u001b[0m \u001b[38;5;66;03m# ICE norm\u001b[39;00m\n\u001b[0;32m----> 4\u001b[0m \u001b[43manalysis\u001b[49m\u001b[38;5;241;43m.\u001b[39;49m\u001b[43mcalc_XZ\u001b[49m\u001b[43m(\u001b[49m\u001b[38;5;124;43m\"\u001b[39;49m\u001b[38;5;124;43mIMR90OPT\u001b[39;49m\u001b[38;5;124;43m\"\u001b[39;49m\u001b[43m,\u001b[49m\u001b[43m \u001b[49m\u001b[38;5;124;43m\"\u001b[39;49m\u001b[38;5;124;43mIMR90OPT57\u001b[39;49m\u001b[38;5;124;43m\"\u001b[39;49m\u001b[43m,\u001b[49m\u001b[43m \u001b[49m\u001b[38;5;124;43m\"\u001b[39;49m\u001b[38;5;124;43mIMR90SIM\u001b[39;49m\u001b[38;5;124;43m\"\u001b[39;49m\u001b[43m,\u001b[49m\u001b[43m \u001b[49m\u001b[43mmetric\u001b[49m\u001b[38;5;241;43m=\u001b[39;49m\u001b[38;5;124;43m'\u001b[39;49m\u001b[38;5;124;43meuclidean\u001b[39;49m\u001b[38;5;124;43m'\u001b[39;49m\u001b[43m,\u001b[49m\u001b[43m \u001b[49m\u001b[43mnorm\u001b[49m\u001b[38;5;241;43m=\u001b[39;49m\u001b[38;5;124;43m'\u001b[39;49m\u001b[38;5;124;43mice\u001b[39;49m\u001b[38;5;124;43m'\u001b[39;49m\u001b[43m,\u001b[49m\u001b[43m \u001b[49m\u001b[43mmethod\u001b[49m\u001b[38;5;241;43m=\u001b[39;49m\u001b[38;5;124;43m'\u001b[39;49m\u001b[38;5;124;43msingle\u001b[39;49m\u001b[38;5;124;43m'\u001b[39;49m\u001b[43m)\u001b[49m\n\u001b[1;32m      5\u001b[0m analysis\u001b[38;5;241m.\u001b[39mcalc_XZ(\u001b[38;5;124m\"\u001b[39m\u001b[38;5;124mIMR90OPT\u001b[39m\u001b[38;5;124m\"\u001b[39m, \u001b[38;5;124m\"\u001b[39m\u001b[38;5;124mIMR90OPT57\u001b[39m\u001b[38;5;124m\"\u001b[39m, \u001b[38;5;124m\"\u001b[39m\u001b[38;5;124mIMR90SIM\u001b[39m\u001b[38;5;124m\"\u001b[39m, metric\u001b[38;5;241m=\u001b[39m\u001b[38;5;124m'\u001b[39m\u001b[38;5;124meuclidean\u001b[39m\u001b[38;5;124m'\u001b[39m, norm\u001b[38;5;241m=\u001b[39m\u001b[38;5;124m'\u001b[39m\u001b[38;5;124mice\u001b[39m\u001b[38;5;124m'\u001b[39m, method\u001b[38;5;241m=\u001b[39m\u001b[38;5;124m'\u001b[39m\u001b[38;5;124mcomplete\u001b[39m\u001b[38;5;124m'\u001b[39m)\n\u001b[1;32m      6\u001b[0m analysis\u001b[38;5;241m.\u001b[39mcalc_XZ(\u001b[38;5;124m\"\u001b[39m\u001b[38;5;124mIMR90OPT\u001b[39m\u001b[38;5;124m\"\u001b[39m, \u001b[38;5;124m\"\u001b[39m\u001b[38;5;124mIMR90OPT57\u001b[39m\u001b[38;5;124m\"\u001b[39m, \u001b[38;5;124m\"\u001b[39m\u001b[38;5;124mIMR90SIM\u001b[39m\u001b[38;5;124m\"\u001b[39m, metric\u001b[38;5;241m=\u001b[39m\u001b[38;5;124m'\u001b[39m\u001b[38;5;124meuclidean\u001b[39m\u001b[38;5;124m'\u001b[39m, norm\u001b[38;5;241m=\u001b[39m\u001b[38;5;124m'\u001b[39m\u001b[38;5;124mice\u001b[39m\u001b[38;5;124m'\u001b[39m, method\u001b[38;5;241m=\u001b[39m\u001b[38;5;124m'\u001b[39m\u001b[38;5;124maverage\u001b[39m\u001b[38;5;124m'\u001b[39m)\n",
      "File \u001b[0;32m~/Dev/OpenMiChroM-Ana/test/../AnalysisTools/Ana.py:491\u001b[0m, in \u001b[0;36mAna.calc_XZ\u001b[0;34m(self, method, metric, n_jobs, norm, *args)\u001b[0m\n\u001b[1;32m    488\u001b[0m dist \u001b[38;5;241m=\u001b[39m np\u001b[38;5;241m.\u001b[39marray(dist)\n\u001b[1;32m    489\u001b[0m \u001b[38;5;28mprint\u001b[39m(\u001b[38;5;124mf\u001b[39m\u001b[38;5;124m\"\u001b[39m\u001b[38;5;132;01m{\u001b[39;00mlabel\u001b[38;5;132;01m}\u001b[39;00m\u001b[38;5;124m has dist shape \u001b[39m\u001b[38;5;132;01m{\u001b[39;00mdist\u001b[38;5;241m.\u001b[39mshape\u001b[38;5;132;01m}\u001b[39;00m\u001b[38;5;124m\"\u001b[39m)\n\u001b[0;32m--> 491\u001b[0m normalized_dist \u001b[38;5;241m=\u001b[39m np\u001b[38;5;241m.\u001b[39marray([\u001b[38;5;28;43mself\u001b[39;49m\u001b[38;5;241;43m.\u001b[39;49m\u001b[43mcompute_helpers\u001b[49m\u001b[38;5;241;43m.\u001b[39;49m\u001b[43mnorm_distMatrix\u001b[49m\u001b[43m(\u001b[49m\u001b[43mmatrix\u001b[49m\u001b[38;5;241;43m=\u001b[39;49m\u001b[43mmatrix\u001b[49m\u001b[43m,\u001b[49m\u001b[43m \u001b[49m\u001b[43mnorm\u001b[49m\u001b[38;5;241;43m=\u001b[39;49m\u001b[43mnorm\u001b[49m\u001b[43m)\u001b[49m \u001b[38;5;28;01mfor\u001b[39;00m matrix \u001b[38;5;129;01min\u001b[39;00m dist])\n\u001b[1;32m    492\u001b[0m \u001b[38;5;28mself\u001b[39m\u001b[38;5;241m.\u001b[39mdatasets[label][\u001b[38;5;124m\"\u001b[39m\u001b[38;5;124mdistance_array\u001b[39m\u001b[38;5;124m\"\u001b[39m] \u001b[38;5;241m=\u001b[39m normalized_dist\n\u001b[1;32m    493\u001b[0m flat_euclid_dist_map[label] \u001b[38;5;241m=\u001b[39m normalized_dist\n",
      "File \u001b[0;32m~/Dev/OpenMiChroM-Ana/test/../AnalysisTools/compute_helpers.py:327\u001b[0m, in \u001b[0;36mComputeHelpers.norm_distMatrix\u001b[0;34m(self, matrix, norm)\u001b[0m\n\u001b[1;32m    319\u001b[0m normalization_methods \u001b[38;5;241m=\u001b[39m {\n\u001b[1;32m    320\u001b[0m     \u001b[38;5;124m'\u001b[39m\u001b[38;5;124mice\u001b[39m\u001b[38;5;124m'\u001b[39m: \u001b[38;5;28mself\u001b[39m\u001b[38;5;241m.\u001b[39mice_normalization,\n\u001b[1;32m    321\u001b[0m     \u001b[38;5;124m'\u001b[39m\u001b[38;5;124mlog_transform\u001b[39m\u001b[38;5;124m'\u001b[39m: \u001b[38;5;28mself\u001b[39m\u001b[38;5;241m.\u001b[39mlog_transform,\n\u001b[1;32m    322\u001b[0m     \u001b[38;5;124m'\u001b[39m\u001b[38;5;124mvc\u001b[39m\u001b[38;5;124m'\u001b[39m: \u001b[38;5;28mself\u001b[39m\u001b[38;5;241m.\u001b[39mvc_normalization,\n\u001b[1;32m    323\u001b[0m     \u001b[38;5;124m'\u001b[39m\u001b[38;5;124mkr\u001b[39m\u001b[38;5;124m'\u001b[39m: \u001b[38;5;28mself\u001b[39m\u001b[38;5;241m.\u001b[39mkr_norm,\n\u001b[1;32m    324\u001b[0m }\n\u001b[1;32m    326\u001b[0m \u001b[38;5;28;01mtry\u001b[39;00m:\n\u001b[0;32m--> 327\u001b[0m     \u001b[38;5;28;01mreturn\u001b[39;00m \u001b[43mnormalization_methods\u001b[49m\u001b[43m[\u001b[49m\u001b[43mnorm\u001b[49m\u001b[43m]\u001b[49m\u001b[43m(\u001b[49m\u001b[43mmatrix\u001b[49m\u001b[43m)\u001b[49m\n\u001b[1;32m    328\u001b[0m \u001b[38;5;28;01mexcept\u001b[39;00m \u001b[38;5;167;01mKeyError\u001b[39;00m:\n\u001b[1;32m    329\u001b[0m     \u001b[38;5;28;01mraise\u001b[39;00m \u001b[38;5;167;01mKeyError\u001b[39;00m(\u001b[38;5;124mf\u001b[39m\u001b[38;5;124m\"\u001b[39m\u001b[38;5;124mInvalid normalization method: \u001b[39m\u001b[38;5;132;01m{\u001b[39;00mnorm\u001b[38;5;132;01m}\u001b[39;00m\u001b[38;5;124m. Available methods are: \u001b[39m\u001b[38;5;132;01m{\u001b[39;00m\u001b[38;5;28mlist\u001b[39m(\u001b[38;5;28mself\u001b[39m\u001b[38;5;241m.\u001b[39mnormalization_methods\u001b[38;5;241m.\u001b[39mkeys())\u001b[38;5;132;01m}\u001b[39;00m\u001b[38;5;124m\"\u001b[39m)\n",
      "File \u001b[0;32m~/.conda/envs/MICROM/lib/python3.12/site-packages/numba/core/dispatcher.py:423\u001b[0m, in \u001b[0;36m_DispatcherBase._compile_for_args\u001b[0;34m(self, *args, **kws)\u001b[0m\n\u001b[1;32m    419\u001b[0m         msg \u001b[38;5;241m=\u001b[39m (\u001b[38;5;124mf\u001b[39m\u001b[38;5;124m\"\u001b[39m\u001b[38;5;132;01m{\u001b[39;00m\u001b[38;5;28mstr\u001b[39m(e)\u001b[38;5;241m.\u001b[39mrstrip()\u001b[38;5;132;01m}\u001b[39;00m\u001b[38;5;124m \u001b[39m\u001b[38;5;130;01m\\n\u001b[39;00m\u001b[38;5;130;01m\\n\u001b[39;00m\u001b[38;5;124mThis error may have been caused \u001b[39m\u001b[38;5;124m\"\u001b[39m\n\u001b[1;32m    420\u001b[0m                \u001b[38;5;124mf\u001b[39m\u001b[38;5;124m\"\u001b[39m\u001b[38;5;124mby the following argument(s):\u001b[39m\u001b[38;5;130;01m\\n\u001b[39;00m\u001b[38;5;132;01m{\u001b[39;00margs_str\u001b[38;5;132;01m}\u001b[39;00m\u001b[38;5;130;01m\\n\u001b[39;00m\u001b[38;5;124m\"\u001b[39m)\n\u001b[1;32m    421\u001b[0m         e\u001b[38;5;241m.\u001b[39mpatch_message(msg)\n\u001b[0;32m--> 423\u001b[0m     \u001b[43merror_rewrite\u001b[49m\u001b[43m(\u001b[49m\u001b[43me\u001b[49m\u001b[43m,\u001b[49m\u001b[43m \u001b[49m\u001b[38;5;124;43m'\u001b[39;49m\u001b[38;5;124;43mtyping\u001b[39;49m\u001b[38;5;124;43m'\u001b[39;49m\u001b[43m)\u001b[49m\n\u001b[1;32m    424\u001b[0m \u001b[38;5;28;01mexcept\u001b[39;00m errors\u001b[38;5;241m.\u001b[39mUnsupportedError \u001b[38;5;28;01mas\u001b[39;00m e:\n\u001b[1;32m    425\u001b[0m     \u001b[38;5;66;03m# Something unsupported is present in the user code, add help info\u001b[39;00m\n\u001b[1;32m    426\u001b[0m     error_rewrite(e, \u001b[38;5;124m'\u001b[39m\u001b[38;5;124munsupported_error\u001b[39m\u001b[38;5;124m'\u001b[39m)\n",
      "File \u001b[0;32m~/.conda/envs/MICROM/lib/python3.12/site-packages/numba/core/dispatcher.py:364\u001b[0m, in \u001b[0;36m_DispatcherBase._compile_for_args.<locals>.error_rewrite\u001b[0;34m(e, issue_type)\u001b[0m\n\u001b[1;32m    362\u001b[0m     \u001b[38;5;28;01mraise\u001b[39;00m e\n\u001b[1;32m    363\u001b[0m \u001b[38;5;28;01melse\u001b[39;00m:\n\u001b[0;32m--> 364\u001b[0m     \u001b[38;5;28;01mraise\u001b[39;00m e\u001b[38;5;241m.\u001b[39mwith_traceback(\u001b[38;5;28;01mNone\u001b[39;00m)\n",
      "\u001b[0;31mTypingError\u001b[0m: Failed in nopython mode pipeline (step: nopython frontend)\nnon-precise type pyobject\nDuring: typing of argument at /home/diego/Dev/OpenMiChroM-Ana/test/../AnalysisTools/compute_helpers.py (339)\n\nFile \"../AnalysisTools/compute_helpers.py\", line 339:\n    def vc_normalization(self, m):\n        <source elided>\n\n    @jit(nopython=True)\n    ^ \n\nThis error may have been caused by the following argument(s):\n- argument 0: Cannot determine Numba type of <class 'AnalysisTools.compute_helpers.ComputeHelpers'>\n"
     ]
    }
   ],
   "source": [
    "# Combinations of norms, metrics, and methods\n",
    "analysis.calc_XZ(\"IMR90OPT\", \"IMR90OPT57\", \"IMR90SIM\")\n",
    "\n",
    "# ICE norm\n",
    "# analysis.calc_XZ(\"IMR90OPT\", \"IMR90OPT57\", \"IMR90SIM\", metric='euclidean', norm='ice', method='single')\n",
    "# analysis.calc_XZ(\"IMR90OPT\", \"IMR90OPT57\", \"IMR90SIM\", metric='euclidean', norm='ice', method='complete')\n",
    "# analysis.calc_XZ(\"IMR90OPT\", \"IMR90OPT57\", \"IMR90SIM\", metric='euclidean', norm='ice', method='average')\n",
    "# analysis.calc_XZ(\"IMR90OPT\", \"IMR90OPT57\", \"IMR90SIM\", metric='euclidean', norm='ice', method='weighted')\n",
    "\n",
    "# analysis.calc_XZ(\"IMR90OPT\", \"IMR90OPT57\", \"IMR90SIM\", metric='pearsons', norm='ice', method='single')\n",
    "# analysis.calc_XZ(\"IMR90OPT\", \"IMR90OPT57\", \"IMR90SIM\", metric='pearsons', norm='ice', method='complete')\n",
    "# analysis.calc_XZ(\"IMR90OPT\", \"IMR90OPT57\", \"IMR90SIM\", metric='pearsons', norm='ice', method='average')\n",
    "# analysis.calc_XZ(\"IMR90OPT\", \"IMR90OPT57\", \"IMR90SIM\", metric='pearsons', norm='ice', method='weighted')\n",
    "\n",
    "# analysis.calc_XZ(\"IMR90OPT\", \"IMR90OPT57\", \"IMR90SIM\", metric='spearman', norm='ice', method='single')\n",
    "# analysis.calc_XZ(\"IMR90OPT\", \"IMR90OPT57\", \"IMR90SIM\", metric='spearman', norm='ice', method='complete')\n",
    "# analysis.calc_XZ(\"IMR90OPT\", \"IMR90OPT57\", \"IMR90SIM\", metric='spearman', norm='ice', method='average')\n",
    "# analysis.calc_XZ(\"IMR90OPT\", \"IMR90OPT57\", \"IMR90SIM\", metric='spearman', norm='ice', method='weighted')\n",
    "\n",
    "# analysis.calc_XZ(\"IMR90OPT\", \"IMR90OPT57\", \"IMR90SIM\", metric='contact', norm='ice', method='single')\n",
    "# analysis.calc_XZ(\"IMR90OPT\", \"IMR90OPT57\", \"IMR90SIM\", metric='contact', norm='ice', method='complete')\n",
    "# analysis.calc_XZ(\"IMR90OPT\", \"IMR90OPT57\", \"IMR90SIM\", metric='contact', norm='ice', method='average')\n",
    "# analysis.calc_XZ(\"IMR90OPT\", \"IMR90OPT57\", \"IMR90SIM\", metric='contact', norm='ice', method='weighted')\n",
    "\n",
    "# analysis.calc_XZ(\"IMR90OPT\", \"IMR90OPT57\", \"IMR90SIM\", metric='log2_contact', norm='ice', method='single')\n",
    "# analysis.calc_XZ(\"IMR90OPT\", \"IMR90OPT57\", \"IMR90SIM\", metric='log2_contact', norm='ice', method='complete')\n",
    "# analysis.calc_XZ(\"IMR90OPT\", \"IMR90OPT57\", \"IMR90SIM\", metric='log2_contact', norm='ice', method='average')\n",
    "# analysis.calc_XZ(\"IMR90OPT\", \"IMR90OPT57\", \"IMR90SIM\", metric='log2_contact', norm='ice', method='weighted')\n",
    "\n",
    "# # Log transform norm\n",
    "# analysis.calc_XZ(\"IMR90OPT\", \"IMR90OPT57\", \"IMR90SIM\", metric='euclidean', norm='log_transform', method='single')\n",
    "# analysis.calc_XZ(\"IMR90OPT\", \"IMR90OPT57\", \"IMR90SIM\", metric='euclidean', norm='log_transform', method='complete')\n",
    "# analysis.calc_XZ(\"IMR90OPT\", \"IMR90OPT57\", \"IMR90SIM\", metric='euclidean', norm='log_transform', method='average')\n",
    "# analysis.calc_XZ(\"IMR90OPT\", \"IMR90OPT57\", \"IMR90SIM\", metric='euclidean', norm='log_transform', method='weighted')\n",
    "\n",
    "# analysis.calc_XZ(\"IMR90OPT\", \"IMR90OPT57\", \"IMR90SIM\", metric='pearsons', norm='log_transform', method='single')\n",
    "# analysis.calc_XZ(\"IMR90OPT\", \"IMR90OPT57\", \"IMR90SIM\", metric='pearsons', norm='log_transform', method='complete')\n",
    "# analysis.calc_XZ(\"IMR90OPT\", \"IMR90OPT57\", \"IMR90SIM\", metric='pearsons', norm='log_transform', method='average')\n",
    "# analysis.calc_XZ(\"IMR90OPT\", \"IMR90OPT57\", \"IMR90SIM\", metric='pearsons', norm='log_transform', method='weighted')\n",
    "\n",
    "# analysis.calc_XZ(\"IMR90OPT\", \"IMR90OPT57\", \"IMR90SIM\", metric='spearman', norm='log_transform', method='single')\n",
    "# analysis.calc_XZ(\"IMR90OPT\", \"IMR90OPT57\", \"IMR90SIM\", metric='spearman', norm='log_transform', method='complete')\n",
    "# analysis.calc_XZ(\"IMR90OPT\", \"IMR90OPT57\", \"IMR90SIM\", metric='spearman', norm='log_transform', method='average')\n",
    "# analysis.calc_XZ(\"IMR90OPT\", \"IMR90OPT57\", \"IMR90SIM\", metric='spearman', norm='log_transform', method='weighted')\n",
    "\n",
    "# analysis.calc_XZ(\"IMR90OPT\", \"IMR90OPT57\", \"IMR90SIM\", metric='contact', norm='log_transform', method='single')\n",
    "# analysis.calc_XZ(\"IMR90OPT\", \"IMR90OPT57\", \"IMR90SIM\", metric='contact', norm='log_transform', method='complete')\n",
    "# analysis.calc_XZ(\"IMR90OPT\", \"IMR90OPT57\", \"IMR90SIM\", metric='contact', norm='log_transform', method='average')\n",
    "# analysis.calc_XZ(\"IMR90OPT\", \"IMR90OPT57\", \"IMR90SIM\", metric='contact', norm='log_transform', method='weighted')\n",
    "\n",
    "# analysis.calc_XZ(\"IMR90OPT\", \"IMR90OPT57\", \"IMR90SIM\", metric='log2_contact', norm='log_transform', method='single')\n",
    "# analysis.calc_XZ(\"IMR90OPT\", \"IMR90OPT57\", \"IMR90SIM\", metric='log2_contact', norm='log_transform', method='complete')\n",
    "# analysis.calc_XZ(\"IMR90OPT\", \"IMR90OPT57\", \"IMR90SIM\", metric='log2_contact', norm='log_transform', method='average')\n",
    "# analysis.calc_XZ(\"IMR90OPT\", \"IMR90OPT57\", \"IMR90SIM\", metric='log2_contact', norm='log_transform', method='weighted')\n",
    "\n",
    "# # VC norm\n",
    "# analysis.calc_XZ(\"IMR90OPT\", \"IMR90OPT57\", \"IMR90SIM\", metric='euclidean', norm='vc', method='single')\n",
    "# analysis.calc_XZ(\"IMR90OPT\", \"IMR90OPT57\", \"IMR90SIM\", metric='euclidean', norm='vc', method='complete')\n",
    "# analysis.calc_XZ(\"IMR90OPT\", \"IMR90OPT57\", \"IMR90SIM\", metric='euclidean', norm='vc', method='average')\n",
    "# analysis.calc_XZ(\"IMR90OPT\", \"IMR90OPT57\", \"IMR90SIM\", metric='euclidean', norm='vc', method='weighted')\n",
    "\n",
    "# analysis.calc_XZ(\"IMR90OPT\", \"IMR90OPT57\", \"IMR90SIM\", metric='pearsons', norm='vc', method='single')\n",
    "# analysis.calc_XZ(\"IMR90OPT\", \"IMR90OPT57\", \"IMR90SIM\", metric='pearsons', norm='vc', method='complete')\n",
    "# analysis.calc_XZ(\"IMR90OPT\", \"IMR90OPT57\", \"IMR90SIM\", metric='pearsons', norm='vc', method='average')\n",
    "# analysis.calc_XZ(\"IMR90OPT\", \"IMR90OPT57\", \"IMR90SIM\", metric='pearsons', norm='vc', method='weighted')\n",
    "\n",
    "# analysis.calc_XZ(\"IMR90OPT\", \"IMR90OPT57\", \"IMR90SIM\", metric='spearman', norm='vc', method='single')\n",
    "# analysis.calc_XZ(\"IMR90OPT\", \"IMR90OPT57\", \"IMR90SIM\", metric='spearman', norm='vc', method='complete')\n",
    "# analysis.calc_XZ(\"IMR90OPT\", \"IMR90OPT57\", \"IMR90SIM\", metric='spearman', norm='vc', method='average')\n",
    "# analysis.calc_XZ(\"IMR90OPT\", \"IMR90OPT57\", \"IMR90SIM\", metric='spearman', norm='vc', method='weighted')\n",
    "\n",
    "# analysis.calc_XZ(\"IMR90OPT\", \"IMR90OPT57\", \"IMR90SIM\", metric='contact', norm='vc', method='single')\n",
    "# analysis.calc_XZ(\"IMR90OPT\", \"IMR90OPT57\", \"IMR90SIM\", metric='contact', norm='vc', method='complete')\n",
    "# analysis.calc_XZ(\"IMR90OPT\", \"IMR90OPT57\", \"IMR90SIM\", metric='contact', norm='vc', method='average')\n",
    "# analysis.calc_XZ(\"IMR90OPT\", \"IMR90OPT57\", \"IMR90SIM\", metric='contact', norm='vc', method='weighted')\n",
    "\n",
    "# analysis.calc_XZ(\"IMR90OPT\", \"IMR90OPT57\", \"IMR90SIM\", metric='log2_contact', norm='vc', method='single')\n",
    "# analysis.calc_XZ(\"IMR90OPT\", \"IMR90OPT57\", \"IMR90SIM\", metric='log2_contact', norm='vc', method='complete')\n",
    "# analysis.calc_XZ(\"IMR90OPT\", \"IMR90OPT57\", \"IMR90SIM\", metric='log2_contact', norm='vc', method='average')\n",
    "# analysis.calc_XZ(\"IMR90OPT\", \"IMR90OPT57\", \"IMR90SIM\", metric='log2_contact', norm='vc', method='weighted')\n",
    "\n",
    "# # KR norm\n",
    "# analysis.calc_XZ(\"IMR90OPT\", \"IMR90OPT57\", \"IMR90SIM\", metric='euclidean', norm='kr', method='single')\n",
    "# analysis.calc_XZ(\"IMR90OPT\", \"IMR90OPT57\", \"IMR90SIM\", metric='euclidean', norm='kr', method='complete')\n",
    "# analysis.calc_XZ(\"IMR90OPT\", \"IMR90OPT57\", \"IMR90SIM\", metric='euclidean', norm='kr', method='average')\n",
    "# analysis.calc_XZ(\"IMR90OPT\", \"IMR90OPT57\", \"IMR90SIM\", metric='euclidean', norm='kr', method='weighted')\n",
    "\n",
    "# analysis.calc_XZ(\"IMR90OPT\", \"IMR90OPT57\", \"IMR90SIM\", metric='pearsons', norm='kr', method='single')\n",
    "# analysis.calc_XZ(\"IMR90OPT\", \"IMR90OPT57\", \"IMR90SIM\", metric='pearsons', norm='kr', method='complete')\n",
    "# analysis.calc_XZ(\"IMR90OPT\", \"IMR90OPT57\", \"IMR90SIM\", metric='pearsons', norm='kr', method='average')\n",
    "# analysis.calc_XZ(\"IMR90OPT\", \"IMR90OPT57\", \"IMR90SIM\", metric='pearsons', norm='kr', method='weighted')\n",
    "\n",
    "# analysis.calc_XZ(\"IMR90OPT\", \"IMR90OPT57\", \"IMR90SIM\", metric='spearman', norm='kr', method='single')\n",
    "# analysis.calc_XZ(\"IMR90OPT\", \"IMR90OPT57\", \"IMR90SIM\", metric='spearman', norm='kr', method='complete')\n",
    "# analysis.calc_XZ(\"IMR90OPT\", \"IMR90OPT57\", \"IMR90SIM\", metric='spearman', norm='kr', method='average')\n",
    "# analysis.calc_XZ(\"IMR90OPT\", \"IMR90OPT57\", \"IMR90SIM\", metric='spearman', norm='kr', method='weighted')\n",
    "\n",
    "# analysis.calc_XZ(\"IMR90OPT\", \"IMR90OPT57\", \"IMR90SIM\", metric='contact', norm='kr', method='single')\n",
    "# analysis.calc_XZ(\"IMR90OPT\", \"IMR90OPT57\", \"IMR90SIM\", metric='contact', norm='kr', method='complete')\n",
    "# analysis.calc_XZ(\"IMR90OPT\", \"IMR90OPT57\", \"IMR90SIM\", metric='contact', norm='kr', method='average')\n",
    "# analysis.calc_XZ(\"IMR90OPT\", \"IMR90OPT57\", \"IMR90SIM\", metric='contact', norm='kr', method='weighted')\n",
    "\n",
    "# analysis.calc_XZ(\"IMR90OPT\", \"IMR90OPT57\", \"IMR90SIM\", metric='log2_contact', norm='kr', method='single')\n",
    "# analysis.calc_XZ(\"IMR90OPT\", \"IMR90OPT57\", \"IMR90SIM\", metric='log2_contact', norm='kr', method='complete')\n",
    "# analysis.calc_XZ(\"IMR90OPT\", \"IMR90OPT57\", \"IMR90SIM\", metric='log2_contact', norm='kr', method='average')\n",
    "# analysis.calc_XZ(\"IMR90OPT\", \"IMR90OPT57\", \"IMR90SIM\", metric='log2_contact', norm='kr', method='weighted')\n"
   ]
  },
  {
   "cell_type": "markdown",
   "metadata": {},
   "source": [
    "## Clustering Analysis with Different Methods"
   ]
  },
  {
   "cell_type": "code",
   "execution_count": null,
   "metadata": {},
   "outputs": [],
   "source": [
    "clustering_methods = analysis.compute_helpers.getClusteringMethods()\n",
    "\n",
    "for method in clustering_methods:\n",
    "    result = getattr(analysis, f\"{method}_clustering\")(\"IMR90OPT\", \"IMR90SIM\", \"IMR90OPT57\")\n",
    "    print(f\"{method.capitalize()} Clustering Results:\")\n",
    "    print(result)"
   ]
  },
  {
   "cell_type": "markdown",
   "metadata": {},
   "source": [
    "## Dimensionality Reduction Analysis"
   ]
  },
  {
   "cell_type": "code",
   "execution_count": null,
   "metadata": {},
   "outputs": [],
   "source": [
    "reduction_methods = analysis.compute_helpers.getReductionMethods()\n",
    "\n",
    "for method in reduction_methods:\n",
    "    result = getattr(analysis, method)(\"IMR90OPT\", \"IMR90SIM\", \"IMR90OPT57\")\n",
    "    print(f\"{method.upper()} Results:\")\n",
    "    print(result)"
   ]
  },
  {
   "cell_type": "markdown",
   "metadata": {},
   "source": [
    "## Dendrogram"
   ]
  },
  {
   "cell_type": "code",
   "execution_count": null,
   "metadata": {},
   "outputs": [],
   "source": [
    "Z_dendro = analysis.dendogram_Z(\"IMR90OPT\", \"IMR90SIM\", \"IMR90OPT57\")"
   ]
  },
  {
   "cell_type": "markdown",
   "metadata": {},
   "source": [
    "## Distance Map"
   ]
  },
  {
   "cell_type": "code",
   "execution_count": null,
   "metadata": {},
   "outputs": [],
   "source": [
    "for dataset in [\"IMR90OPT\", \"IMR90SIM\", \"IMR90OPT57\"]:\n",
    "    dist_map = analysis.dist_map(dataset)"
   ]
  },
  {
   "cell_type": "markdown",
   "metadata": {},
   "source": [
    "## Run All Clusterings"
   ]
  },
  {
   "cell_type": "code",
   "execution_count": null,
   "metadata": {},
   "outputs": [],
   "source": [
    "all_clustering_results = analysis.run_all_clusterings(\"IMR90OPT\", \"IMR90SIM\", \"IMR90OPT57\")\n",
    "for method, result in all_clustering_results.items():\n",
    "    print(f\"{method.capitalize()} Clustering Results:\")\n",
    "    print(result)"
   ]
  }
 ],
 "metadata": {
  "kernelspec": {
   "display_name": "Python 3",
   "language": "python",
   "name": "python3"
  },
  "language_info": {
   "codemirror_mode": {
    "name": "ipython",
    "version": 3
   },
   "file_extension": ".py",
   "mimetype": "text/x-python",
   "name": "python",
   "nbconvert_exporter": "python",
   "pygments_lexer": "ipython3",
   "version": "3.12.4"
  }
 },
 "nbformat": 4,
 "nbformat_minor": 4
}
