{
 "cells": [
  {
   "cell_type": "markdown",
   "metadata": {},
   "source": [
    "# Comprehensive Analysis of Datasets with Various Metrics, Norms, and Methods"
   ]
  },
  {
   "cell_type": "code",
   "execution_count": 1,
   "metadata": {},
   "outputs": [
    {
     "name": "stderr",
     "output_type": "stream",
     "text": [
      "/home/diego/.conda/envs/MICROM/lib/python3.12/site-packages/tqdm/auto.py:21: TqdmWarning: IProgress not found. Please update jupyter and ipywidgets. See https://ipywidgets.readthedocs.io/en/stable/user_install.html\n",
      "  from .autonotebook import tqdm as notebook_tqdm\n",
      "2024-07-22 16:01:21.566496: I tensorflow/core/platform/cpu_feature_guard.cc:210] This TensorFlow binary is optimized to use available CPU instructions in performance-critical operations.\n",
      "To enable the following instructions: AVX2 FMA, in other operations, rebuild TensorFlow with the appropriate compiler flags.\n"
     ]
    },
    {
     "name": "stdout",
     "output_type": "stream",
     "text": [
      "Processing file: data/IMR90SIM/iteration_1/traj_chr_IMR90OPT_0.cndb\n",
      "Processing file: data/IMR90SIM/iteration_2/traj_chr_IMR90OPT_0.cndb\n",
      "Processing file: data/IMR90SIM/iteration_3/traj_chr_IMR90OPT_0.cndb\n",
      "Processing file: data/IMR90SIM/iteration_4/traj_chr_IMR90OPT_0.cndb\n",
      "Processing file: data/IMR90SIM/iteration_5/traj_chr_IMR90OPT_0.cndb\n",
      "Processing file: data/IMR90SIM/iteration_6/traj_chr_IMR90OPT_0.cndb\n",
      "Processing file: data/IMR90SIM/iteration_7/traj_chr_IMR90OPT_0.cndb\n",
      "Processing file: data/IMR90SIM/iteration_8/traj_chr_IMR90OPT_0.cndb\n",
      "Processing file: data/IMR90SIM/iteration_9/traj_chr_IMR90OPT_0.cndb\n",
      "Processing file: data/IMR90SIM/iteration_10/traj_chr_IMR90OPT_0.cndb\n",
      "Processing file: data/IMR90SIM/iteration_11/traj_chr_IMR90OPT_0.cndb\n",
      "Processing file: data/IMR90SIM/iteration_12/traj_chr_IMR90OPT_0.cndb\n",
      "Processing file: data/IMR90SIM/iteration_13/traj_chr_IMR90OPT_0.cndb\n",
      "Processing file: data/IMR90SIM/iteration_14/traj_chr_IMR90OPT_0.cndb\n",
      "Processing file: data/IMR90SIM/iteration_15/traj_chr_IMR90OPT_0.cndb\n",
      "Processing file: data/IMR90SIM/iteration_16/traj_chr_IMR90OPT_0.cndb\n",
      "Processing file: data/IMR90SIM/iteration_17/traj_chr_IMR90OPT_0.cndb\n",
      "Processing file: data/IMR90SIM/iteration_18/traj_chr_IMR90OPT_0.cndb\n",
      "Processing file: data/IMR90SIM/iteration_19/traj_chr_IMR90OPT_0.cndb\n",
      "Processing file: data/IMR90SIM/iteration_20/traj_chr_IMR90OPT_0.cndb\n",
      "Trajectory for IMR90SIM has shape (100, 1183, 3)\n",
      "Processing file: data/IMR90OPT/iteration_1/traj_0.cndb\n",
      "Processing file: data/IMR90OPT/iteration_2/traj_0.cndb\n",
      "Processing file: data/IMR90OPT/iteration_3/traj_0.cndb\n",
      "Processing file: data/IMR90OPT/iteration_4/traj_0.cndb\n",
      "Processing file: data/IMR90OPT/iteration_5/traj_0.cndb\n",
      "Processing file: data/IMR90OPT/iteration_6/traj_0.cndb\n",
      "Processing file: data/IMR90OPT/iteration_7/traj_0.cndb\n",
      "Processing file: data/IMR90OPT/iteration_8/traj_0.cndb\n",
      "Processing file: data/IMR90OPT/iteration_9/traj_0.cndb\n",
      "Processing file: data/IMR90OPT/iteration_10/traj_0.cndb\n",
      "Processing file: data/IMR90OPT/iteration_11/traj_0.cndb\n",
      "Processing file: data/IMR90OPT/iteration_12/traj_0.cndb\n",
      "Processing file: data/IMR90OPT/iteration_13/traj_0.cndb\n",
      "Processing file: data/IMR90OPT/iteration_14/traj_0.cndb\n",
      "Processing file: data/IMR90OPT/iteration_15/traj_0.cndb\n",
      "Processing file: data/IMR90OPT/iteration_16/traj_0.cndb\n",
      "Processing file: data/IMR90OPT/iteration_17/traj_0.cndb\n",
      "Processing file: data/IMR90OPT/iteration_18/traj_0.cndb\n",
      "Processing file: data/IMR90OPT/iteration_19/traj_0.cndb\n",
      "Processing file: data/IMR90OPT/iteration_20/traj_0.cndb\n",
      "Trajectory for IMR90OPT has shape (20, 1173, 3)\n",
      "Processing file: data/IMR90OPT56/iteration_1/traj_0.cndb\n",
      "Processing file: data/IMR90OPT56/iteration_2/traj_0.cndb\n",
      "Processing file: data/IMR90OPT56/iteration_3/traj_0.cndb\n",
      "Processing file: data/IMR90OPT56/iteration_4/traj_0.cndb\n",
      "Processing file: data/IMR90OPT56/iteration_5/traj_0.cndb\n",
      "Processing file: data/IMR90OPT56/iteration_6/traj_0.cndb\n",
      "Processing file: data/IMR90OPT56/iteration_7/traj_0.cndb\n",
      "Processing file: data/IMR90OPT56/iteration_8/traj_0.cndb\n",
      "Processing file: data/IMR90OPT56/iteration_9/traj_0.cndb\n",
      "Processing file: data/IMR90OPT56/iteration_10/traj_0.cndb\n",
      "Processing file: data/IMR90OPT56/iteration_11/traj_0.cndb\n",
      "Processing file: data/IMR90OPT56/iteration_12/traj_0.cndb\n",
      "Processing file: data/IMR90OPT56/iteration_13/traj_0.cndb\n",
      "Processing file: data/IMR90OPT56/iteration_14/traj_0.cndb\n",
      "Processing file: data/IMR90OPT56/iteration_15/traj_0.cndb\n",
      "Processing file: data/IMR90OPT56/iteration_16/traj_0.cndb\n",
      "Processing file: data/IMR90OPT56/iteration_17/traj_0.cndb\n",
      "Processing file: data/IMR90OPT56/iteration_18/traj_0.cndb\n",
      "Processing file: data/IMR90OPT56/iteration_19/traj_0.cndb\n",
      "Processing file: data/IMR90OPT56/iteration_20/traj_0.cndb\n",
      "Trajectory for IMR90OPT57 has shape (20, 1173, 3)\n"
     ]
    }
   ],
   "source": [
    "import sys\n",
    "sys.path.append('../')\n",
    "\n",
    "import numpy as np\n",
    "from AnalysisTools import Ana\n",
    "from AnalysisTools import ComputeHelpersCPU\n",
    "\n",
    "# Initialize the analysis object\n",
    "cachePath = '/home/diego/disks/ANACACHE'\n",
    "comp = ComputeHelpersCPU(memory_location=cachePath, memory_verbosity=0, n_jobs=8)\n",
    "analysis = Ana(showPlots=True, execution_mode=comp, cacheStoragePath=cachePath)\n",
    "\n",
    "# Add datasets\n",
    "analysis.add_dataset(label=\"IMR90SIM\", folder=\"data/IMR90SIM\")\n",
    "analysis.add_dataset(label='IMR90OPT', folder='data/IMR90OPT')\n",
    "analysis.add_dataset(label=\"IMR90OPT57\", folder='data/IMR90OPT56')\n",
    "\n",
    "# Process trajectories for each dataset\n",
    "analysis.process_trajectories(label=\"IMR90SIM\", filename=\"traj_chr_IMR90OPT_0.cndb\", folder_pattern=['iteration_', [1, 20]])\n",
    "analysis.process_trajectories(label=\"IMR90OPT\", filename=\"traj_0.cndb\", folder_pattern=['iteration_', [1, 20]])\n",
    "analysis.process_trajectories(label=\"IMR90OPT57\", filename=\"traj_0.cndb\", folder_pattern=['iteration_', [1, 20]])"
   ]
  },
  {
   "cell_type": "markdown",
   "metadata": {},
   "source": [
    "## Define norm x method x metrix"
   ]
  },
  {
   "cell_type": "code",
   "execution_count": 2,
   "metadata": {},
   "outputs": [],
   "source": [
    "norms = ['ice', 'kr', 'log_transform', 'vc']\n",
    "metrics = ['euclidean', 'pearsons', 'spearman', 'contact', 'log2_contact']\n",
    "methods = ['single', 'complete', 'average', 'weighted']"
   ]
  },
  {
   "cell_type": "markdown",
   "metadata": {},
   "source": [
    "## Generate and Cache Distance Matrices"
   ]
  },
  {
   "cell_type": "code",
   "execution_count": null,
   "metadata": {},
   "outputs": [],
   "source": [
    "#! note single/spearman/ice leads to division of 0 and all data gets set to 1 to avoid division of 0 error\n",
    "#! note single/log2_contact/ice leads to division of 0 and all data divided by zero will be set to 0\n",
    "for norm in norms:\n",
    "    for metric in metrics:\n",
    "        for method in methods:\n",
    "            analysis.calc_XZ(\"IMR90OPT\", \"IMR90OPT57\", \"IMR90SIM\", metric=metric, norm=norm, method=method)"
   ]
  },
  {
   "cell_type": "markdown",
   "metadata": {},
   "source": [
    "## Dimensionality Reduction Techniques"
   ]
  },
  {
   "cell_type": "markdown",
   "metadata": {},
   "source": [
    "### PCA Analysis"
   ]
  },
  {
   "cell_type": "code",
   "execution_count": null,
   "metadata": {},
   "outputs": [],
   "source": [
    "for norm in norms:\n",
    "    for metric in metrics:\n",
    "        analysis.pca(\"IMR90OPT\", \"IMR90OPT57\", \"IMR90SIM\", metric=metric, n_components=1, norm=norm, n_clusters=2)"
   ]
  },
  {
   "cell_type": "markdown",
   "metadata": {},
   "source": [
    "## Expiremental Scaler with best pca norm x method x metric dataset"
   ]
  },
  {
   "cell_type": "code",
   "execution_count": null,
   "metadata": {},
   "outputs": [],
   "source": [
    "#_weighted_euclidean_log_transform.png\n",
    "metrics = ['euclidean', 'pearsons', 'spearman', 'contact', 'log2_contact']\n",
    "norms = ['ice', 'kr', 'log_transform', 'vc']\n",
    "from AnalysisTools.Plot_Helper import PlotHelper\n",
    "\n",
    "for norm in norms:\n",
    "    for metric in metrics:\n",
    "        X, Z = analysis.calc_XZ(\"IMR90SIM\", \"IMR90OPT\", \"IMR90OPT57\", method=\"weighted\", metric=metric, norm=norm, overrideCache=True, expiremental=True)\n",
    "        n_components = 1\n",
    "        pca, exp, com = comp.run_reduction('pca', X, 1)\n",
    "\n",
    "        plot_params = {\n",
    "            'outputFileName': f\"test00_{norm}_{metric}\",\n",
    "            'cmap': 'viridis',\n",
    "            'title': f'PCA of test',\n",
    "            'x_label': 'PC1',\n",
    "            'y_label': 'PC2' if n_components > 1 else 'Principal Component 1',\n",
    "            'z_label': 'PC3' if n_components > 2 else None,\n",
    "            'n_components': n_components,\n",
    "            'n_clusters': 2,\n",
    "            'method': \"weighted\",\n",
    "            'metric': \"euclidean\",\n",
    "            'norm': \"log_transform\",\n",
    "            'n_components_95': 1,\n",
    "            'size': 50,\n",
    "            'alpha': 0.7,\n",
    "        }\n",
    "\n",
    "        if n_components > 1:\n",
    "            plot_params['y_label'] = f'PC2 ({exp[1]:.2%} variance)'\n",
    "        else:\n",
    "            plot_params['y_label'] = 'Samples'\n",
    "\n",
    "\n",
    "        pl = PlotHelper()\n",
    "        pl.plot(plot_type=\"pcaplot\", data=(pca, exp, com), plot_params=plot_params)\n"
   ]
  },
  {
   "cell_type": "markdown",
   "metadata": {},
   "source": [
    "### UMAP Analysis"
   ]
  },
  {
   "cell_type": "code",
   "execution_count": null,
   "metadata": {},
   "outputs": [],
   "source": [
    "for norm in norms:\n",
    "    for metric in metrics:\n",
    "        for method in methods:\n",
    "            analysis.umap(\"IMR90OPT\", \"IMR90OPT57\", \"IMR90SIM\", metric=metric, n_clusters=2, norm=norm, method=method, n_components=1)"
   ]
  },
  {
   "cell_type": "markdown",
   "metadata": {},
   "source": [
    "### t-SNE Analysis"
   ]
  },
  {
   "cell_type": "code",
   "execution_count": null,
   "metadata": {},
   "outputs": [],
   "source": [
    "for norm in norms:\n",
    "    for metric in metrics:\n",
    "        for method in methods:\n",
    "            analysis.tsne(\"IMR90OPT\", \"IMR90OPT57\", \"IMR90SIM\", metric=metric, n_clusters=2, norm=norm, method=method, n_components=1)"
   ]
  },
  {
   "cell_type": "markdown",
   "metadata": {},
   "source": [
    "### MDS Analysis"
   ]
  },
  {
   "cell_type": "code",
   "execution_count": null,
   "metadata": {},
   "outputs": [],
   "source": [
    "for norm in norms:\n",
    "    for metric in metrics:\n",
    "        for method in methods:\n",
    "            analysis.mds(\"IMR90OPT\", \"IMR90OPT57\", \"IMR90SIM\", metric=metric, n_components=1, norm=norm, method=method)"
   ]
  },
  {
   "cell_type": "markdown",
   "metadata": {},
   "source": [
    "### SVD Analysis"
   ]
  },
  {
   "cell_type": "code",
   "execution_count": null,
   "metadata": {},
   "outputs": [],
   "source": [
    "for norm in norms:\n",
    "    for metric in metrics:\n",
    "        for method in methods:\n",
    "            analysis.svd(\"IMR90OPT\", \"IMR90OPT57\", \"IMR90SIM\", metric=metric, n_components=1, norm=norm, method=method, n_clusters=2)"
   ]
  },
  {
   "cell_type": "markdown",
   "metadata": {},
   "source": [
    "### IVIS Analysis"
   ]
  },
  {
   "cell_type": "code",
   "execution_count": 4,
   "metadata": {},
   "outputs": [],
   "source": [
    "for norm in norms:\n",
    "    for metric in metrics:\n",
    "        for method in methods:\n",
    "            analysis.ivis_clustering(\"IMR90OPT\", \"IMR90OPT57\", \"IMR90SIM\", metric=metric, n_components=1, norm=norm, method=method, n_clusters=2)"
   ]
  },
  {
   "cell_type": "markdown",
   "metadata": {},
   "source": [
    "## Clustering Techniques"
   ]
  },
  {
   "cell_type": "markdown",
   "metadata": {},
   "source": [
    "### K-means Clustering"
   ]
  },
  {
   "cell_type": "code",
   "execution_count": null,
   "metadata": {},
   "outputs": [],
   "source": [
    "for norm in norms:\n",
    "    for metric in metrics:\n",
    "        for method in methods:\n",
    "            analysis.kmeans_clustering(\"IMR90OPT\", \"IMR90OPT56\", \"IMR90SIM\", n_clusters=5, metric=metric, norm=norm, method=method)"
   ]
  },
  {
   "cell_type": "markdown",
   "metadata": {},
   "source": [
    "### DBSCAN Clustering"
   ]
  },
  {
   "cell_type": "code",
   "execution_count": null,
   "metadata": {},
   "outputs": [],
   "source": [
    "for norm in norms:\n",
    "    for metric in metrics:\n",
    "        for method in methods:\n",
    "            analysis.dbscan_clustering(\"IMR90OPT\", \"IMR90OPT56\", \"IMR90SIM\", eps=0.5, min_samples=5, metric=metric, norm=norm, method=method)"
   ]
  },
  {
   "cell_type": "markdown",
   "metadata": {},
   "source": [
    "### Hierarchical Clustering"
   ]
  },
  {
   "cell_type": "code",
   "execution_count": null,
   "metadata": {},
   "outputs": [],
   "source": [
    "for norm in norms:\n",
    "    for metric in metrics:\n",
    "        for method in methods:\n",
    "            analysis.hierarchical_clustering(\"IMR90OPT\", \"IMR90OPT56\", \"IMR90SIM\", n_clusters=5, metric=metric, norm=norm, method=method)"
   ]
  },
  {
   "cell_type": "markdown",
   "metadata": {},
   "source": [
    "### Spectral Clustering"
   ]
  },
  {
   "cell_type": "code",
   "execution_count": null,
   "metadata": {},
   "outputs": [],
   "source": [
    "for norm in norms:\n",
    "    for metric in metrics:\n",
    "        for method in methods:\n",
    "            analysis.spectral_clustering(\"IMR90OPT\", \"IMR90OPT56\", \"IMR90SIM\", num_clusters=-1, metric=metric, norm=norm, method=method)"
   ]
  },
  {
   "cell_type": "markdown",
   "metadata": {},
   "source": [
    "### OPTICS Clustering"
   ]
  },
  {
   "cell_type": "code",
   "execution_count": null,
   "metadata": {},
   "outputs": [],
   "source": [
    "for norm in norms:\n",
    "    for metric in metrics:\n",
    "        for method in methods:\n",
    "            analysis.optics_clustering(\"IMR90OPT\", \"IMR90OPT56\", \"IMR90SIM\", min_samples=5, xi=0.05, min_cluster_size=0.05, metric=metric, norm=norm, method=method)"
   ]
  }
 ],
 "metadata": {
  "kernelspec": {
   "display_name": "Python 3",
   "language": "python",
   "name": "python3"
  },
  "language_info": {
   "codemirror_mode": {
    "name": "ipython",
    "version": 3
   },
   "file_extension": ".py",
   "mimetype": "text/x-python",
   "name": "python",
   "nbconvert_exporter": "python",
   "pygments_lexer": "ipython3",
   "version": "3.12.4"
  }
 },
 "nbformat": 4,
 "nbformat_minor": 4
}
