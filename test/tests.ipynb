{
 "cells": [
  {
   "cell_type": "markdown",
   "metadata": {},
   "source": [
    "# Analysis of IMR90 Datasets with Various Metrics and Norms"
   ]
  },
  {
   "cell_type": "code",
   "execution_count": null,
   "metadata": {},
   "outputs": [],
   "source": [
    "import sys\n",
    "sys.path.append('../')\n",
    "\n",
    "import numpy as np\n",
    "from AnalysisTools import Ana, PlotHelper\n",
    "\n",
    "\n",
    "# Initialize the analysis object\n",
    "analysis = Ana(showPlots=True, execution_mode='cpu')\n",
    "\n",
    "# Add datasets\n",
    "analysis.add_dataset(label=\"IMR90SIM\", folder=\"data/IMR90SIM\")\n",
    "analysis.add_dataset(label='IMR90OPT', folder='data/IMR90OPT')\n",
    "analysis.add_dataset(label=\"IMR90OPT57\", folder='data/IMR90OPT56')\n",
    "\n",
    "# Process trajectories for each dataset\n",
    "analysis.process_trajectories(label=\"IMR90SIM\", filename=\"traj_chr_IMR90OPT_0.cndb\", folder_pattern=['iteration_', [1, 20]])\n",
    "analysis.process_trajectories(label=\"IMR90OPT\", filename=\"traj_0.cndb\", folder_pattern=['iteration_', [1, 20]])\n",
    "analysis.process_trajectories(label=\"IMR90OPT57\", filename=\"traj_0.cndb\", folder_pattern=['iteration_', [1, 20]])\n",
    "\n",
    "# Initialize PlotHelper\n",
    "pl = PlotHelper()"
   ]
  },
  {
   "cell_type": "markdown",
   "metadata": {},
   "source": [
    "## Spectral Clustering Analysis with Default Parameters"
   ]
  },
  {
   "cell_type": "code",
   "execution_count": null,
   "metadata": {},
   "outputs": [],
   "source": [
    "cluster_results_default = analysis.spectral_clustering(\"IMR90OPT\", \"IMR90SIM\", \"IMR90OPT57\")\n",
    "# pl.plot(plot_type=\"spectralclusteringplot\", data=[X_default, cluster_results_default], plot_params={\"title\": \"Default Spectral Clustering\"})"
   ]
  },
  {
   "cell_type": "markdown",
   "metadata": {},
   "source": [
    "## Spectral Clustering Analysis with Different Norms"
   ]
  },
  {
   "cell_type": "code",
   "execution_count": null,
   "metadata": {},
   "outputs": [],
   "source": [
    "norms = [\"ice\", \"log_transform\", \"vc\", \"kr\"]\n",
    "\n",
    "for norm in norms:\n",
    "    cluster_results_norm = analysis.spectral_clustering(\"IMR90OPT\", \"IMR90SIM\", \"IMR90OPT57\", norm=norm)\n"
   ]
  },
  {
   "cell_type": "markdown",
   "metadata": {},
   "source": [
    "## Spectral Clustering Analysis with Different Metrics"
   ]
  },
  {
   "cell_type": "code",
   "execution_count": null,
   "metadata": {},
   "outputs": [],
   "source": [
    "metrics = [\"euclidean\", \"pearsons\", \"spearman\", \"contact\", \"log2_contact\"]\n",
    "\n",
    "for metric in metrics:\n",
    "    cluster_results_metric = analysis.spectral_clustering(\"IMR90OPT\", \"IMR90SIM\", \"IMR90OPT57\", metric=metric)\n"
   ]
  },
  {
   "cell_type": "markdown",
   "metadata": {},
   "source": [
    "## PCA Analysis"
   ]
  },
  {
   "cell_type": "code",
   "execution_count": null,
   "metadata": {},
   "outputs": [],
   "source": [
    "prinComp_pca, expVarRatio_pca, fclust_pca = analysis.pca(\"IMR90OPT\", \"IMR90SIM\", \"IMR90OPT57\")\n",
    "pl.plot(plot_type=\"pcaplot\", data=[prinComp_pca, expVarRatio_pca, fclust_pca], plot_params={\"title\": \"PCA Plot\"})"
   ]
  },
  {
   "cell_type": "markdown",
   "metadata": {},
   "source": [
    "## t-SNE Analysis"
   ]
  },
  {
   "cell_type": "code",
   "execution_count": null,
   "metadata": {},
   "outputs": [],
   "source": [
    "tsne_res, fclust_tsne = analysis.tsne(\"IMR90OPT\", \"IMR90SIM\", \"IMR90OPT57\")\n",
    "pl.plot(plot_type=\"tsneplot\", data=[tsne_res, fclust_tsne], plot_params={\"title\": \"t-SNE Plot\"})"
   ]
  },
  {
   "cell_type": "markdown",
   "metadata": {},
   "source": [
    "## UMAP Analysis"
   ]
  },
  {
   "cell_type": "code",
   "execution_count": null,
   "metadata": {},
   "outputs": [],
   "source": [
    "umap_res, fclust_umap = analysis.umap(\"IMR90OPT\", \"IMR90SIM\", \"IMR90OPT57\")\n",
    "pl.plot(plot_type=\"umapplot\", data=[umap_res, fclust_umap], plot_params={\"title\": \"UMAP Plot\"})"
   ]
  },
  {
   "cell_type": "markdown",
   "metadata": {},
   "source": [
    "## IVIS Analysis"
   ]
  },
  {
   "cell_type": "code",
   "execution_count": null,
   "metadata": {},
   "outputs": [],
   "source": [
    "ivis_res, fclust_ivis = analysis.ivis_clustering(\"IMR90OPT\", \"IMR90SIM\", \"IMR90OPT57\")\n",
    "pl.plot(plot_type=\"ivisplot\", data=[ivis_res, fclust_ivis], plot_params={\"title\": \"IVIS Plot\"})"
   ]
  },
  {
   "cell_type": "markdown",
   "metadata": {},
   "source": [
    "## Dendrogram"
   ]
  },
  {
   "cell_type": "code",
   "execution_count": null,
   "metadata": {},
   "outputs": [],
   "source": [
    "Z_dendro = analysis.dendogram_Z(\"IMR90OPT\", \"IMR90SIM\", \"IMR90OPT57\")\n",
    "pl.plot(plot_type=\"dendrogram\", data=Z_dendro, plot_params={\"title\": \"Dendrogram\"})"
   ]
  },
  {
   "cell_type": "markdown",
   "metadata": {},
   "source": [
    "## Distance Map"
   ]
  },
  {
   "cell_type": "code",
   "execution_count": null,
   "metadata": {},
   "outputs": [],
   "source": [
    "for dataset in [\"IMR90OPT\", \"IMR90SIM\", \"IMR90OPT57\"]:\n",
    "    dist_map = analysis.dist_map(dataset)\n",
    "    pl.plot(plot_type=\"euclidiandistmap\", data=[dist_map], plot_params={\"title\": f\"{dataset} Distance Map\"})"
   ]
  }
 ],
 "metadata": {
  "kernelspec": {
   "display_name": "Python 3",
   "language": "python",
   "name": "python3"
  },
  "language_info": {
   "codemirror_mode": {
    "name": "ipython",
    "version": 3
   },
   "file_extension": ".py",
   "mimetype": "text/x-python",
   "name": "python",
   "nbconvert_exporter": "python",
   "pygments_lexer": "ipython3",
   "version": "3.12.4"
  }
 },
 "nbformat": 4,
 "nbformat_minor": 4
}
