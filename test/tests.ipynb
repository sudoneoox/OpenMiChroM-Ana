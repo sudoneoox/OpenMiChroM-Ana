{
 "cells": [
  {
   "cell_type": "markdown",
   "metadata": {},
   "source": [
    "# Comprehensive Analysis of Datasets with Various Metrics, Norms, and Methods"
   ]
  },
  {
   "cell_type": "code",
   "execution_count": 1,
   "metadata": {},
   "outputs": [
    {
     "name": "stderr",
     "output_type": "stream",
     "text": [
      "/home/diego/.conda/envs/MICROM/lib/python3.12/site-packages/tqdm/auto.py:21: TqdmWarning: IProgress not found. Please update jupyter and ipywidgets. See https://ipywidgets.readthedocs.io/en/stable/user_install.html\n",
      "  from .autonotebook import tqdm as notebook_tqdm\n",
      "2024-07-25 02:19:58.624121: I tensorflow/core/platform/cpu_feature_guard.cc:210] This TensorFlow binary is optimized to use available CPU instructions in performance-critical operations.\n",
      "To enable the following instructions: AVX2 FMA, in other operations, rebuild TensorFlow with the appropriate compiler flags.\n"
     ]
    },
    {
     "name": "stdout",
     "output_type": "stream",
     "text": [
      "Processing file: /home/diego/disks/data/cndb/IMR90SIM/output/iteration_1/traj_chr_IMR90OPT_0.cndb\n",
      "Processing file: /home/diego/disks/data/cndb/IMR90SIM/output/iteration_2/traj_chr_IMR90OPT_0.cndb\n",
      "Processing file: /home/diego/disks/data/cndb/IMR90SIM/output/iteration_3/traj_chr_IMR90OPT_0.cndb\n",
      "Processing file: /home/diego/disks/data/cndb/IMR90SIM/output/iteration_4/traj_chr_IMR90OPT_0.cndb\n",
      "Processing file: /home/diego/disks/data/cndb/IMR90SIM/output/iteration_5/traj_chr_IMR90OPT_0.cndb\n",
      "Processing file: /home/diego/disks/data/cndb/IMR90SIM/output/iteration_6/traj_chr_IMR90OPT_0.cndb\n",
      "Processing file: /home/diego/disks/data/cndb/IMR90SIM/output/iteration_7/traj_chr_IMR90OPT_0.cndb\n",
      "Processing file: /home/diego/disks/data/cndb/IMR90SIM/output/iteration_8/traj_chr_IMR90OPT_0.cndb\n",
      "Processing file: /home/diego/disks/data/cndb/IMR90SIM/output/iteration_9/traj_chr_IMR90OPT_0.cndb\n",
      "Processing file: /home/diego/disks/data/cndb/IMR90SIM/output/iteration_10/traj_chr_IMR90OPT_0.cndb\n",
      "Processing file: /home/diego/disks/data/cndb/IMR90SIM/output/iteration_11/traj_chr_IMR90OPT_0.cndb\n",
      "Processing file: /home/diego/disks/data/cndb/IMR90SIM/output/iteration_12/traj_chr_IMR90OPT_0.cndb\n",
      "Processing file: /home/diego/disks/data/cndb/IMR90SIM/output/iteration_13/traj_chr_IMR90OPT_0.cndb\n",
      "Processing file: /home/diego/disks/data/cndb/IMR90SIM/output/iteration_14/traj_chr_IMR90OPT_0.cndb\n",
      "Processing file: /home/diego/disks/data/cndb/IMR90SIM/output/iteration_15/traj_chr_IMR90OPT_0.cndb\n",
      "Processing file: /home/diego/disks/data/cndb/IMR90SIM/output/iteration_16/traj_chr_IMR90OPT_0.cndb\n",
      "Processing file: /home/diego/disks/data/cndb/IMR90SIM/output/iteration_17/traj_chr_IMR90OPT_0.cndb\n",
      "Processing file: /home/diego/disks/data/cndb/IMR90SIM/output/iteration_18/traj_chr_IMR90OPT_0.cndb\n",
      "Processing file: /home/diego/disks/data/cndb/IMR90SIM/output/iteration_19/traj_chr_IMR90OPT_0.cndb\n",
      "Processing file: /home/diego/disks/data/cndb/IMR90SIM/output/iteration_20/traj_chr_IMR90OPT_0.cndb\n",
      "Trajectory for IMR90SIM has shape (100, 1183, 3)\n",
      "Processing file: /home/diego/disks/data/IMR90OPT/lambda255to256/iteration_1/traj_0.cndb\n",
      "Processing file: /home/diego/disks/data/IMR90OPT/lambda255to256/iteration_2/traj_0.cndb\n",
      "Processing file: /home/diego/disks/data/IMR90OPT/lambda255to256/iteration_3/traj_0.cndb\n",
      "Processing file: /home/diego/disks/data/IMR90OPT/lambda255to256/iteration_4/traj_0.cndb\n",
      "Processing file: /home/diego/disks/data/IMR90OPT/lambda255to256/iteration_5/traj_0.cndb\n",
      "Processing file: /home/diego/disks/data/IMR90OPT/lambda255to256/iteration_6/traj_0.cndb\n",
      "Processing file: /home/diego/disks/data/IMR90OPT/lambda255to256/iteration_7/traj_0.cndb\n",
      "Processing file: /home/diego/disks/data/IMR90OPT/lambda255to256/iteration_8/traj_0.cndb\n",
      "Processing file: /home/diego/disks/data/IMR90OPT/lambda255to256/iteration_9/traj_0.cndb\n",
      "Processing file: /home/diego/disks/data/IMR90OPT/lambda255to256/iteration_10/traj_0.cndb\n",
      "Processing file: /home/diego/disks/data/IMR90OPT/lambda255to256/iteration_11/traj_0.cndb\n",
      "Processing file: /home/diego/disks/data/IMR90OPT/lambda255to256/iteration_12/traj_0.cndb\n",
      "Processing file: /home/diego/disks/data/IMR90OPT/lambda255to256/iteration_13/traj_0.cndb\n",
      "Processing file: /home/diego/disks/data/IMR90OPT/lambda255to256/iteration_14/traj_0.cndb\n",
      "Processing file: /home/diego/disks/data/IMR90OPT/lambda255to256/iteration_15/traj_0.cndb\n",
      "Processing file: /home/diego/disks/data/IMR90OPT/lambda255to256/iteration_16/traj_0.cndb\n",
      "Processing file: /home/diego/disks/data/IMR90OPT/lambda255to256/iteration_17/traj_0.cndb\n",
      "Processing file: /home/diego/disks/data/IMR90OPT/lambda255to256/iteration_18/traj_0.cndb\n",
      "Processing file: /home/diego/disks/data/IMR90OPT/lambda255to256/iteration_19/traj_0.cndb\n",
      "Processing file: /home/diego/disks/data/IMR90OPT/lambda255to256/iteration_20/traj_0.cndb\n",
      "Trajectory for IMR90OPT has shape (20, 1173, 3)\n",
      "Processing file: /home/diego/disks/data/IMR90OPT/lambda56to57/iteration_1/traj_0.cndb\n",
      "Processing file: /home/diego/disks/data/IMR90OPT/lambda56to57/iteration_2/traj_0.cndb\n",
      "Processing file: /home/diego/disks/data/IMR90OPT/lambda56to57/iteration_3/traj_0.cndb\n",
      "Processing file: /home/diego/disks/data/IMR90OPT/lambda56to57/iteration_4/traj_0.cndb\n",
      "Processing file: /home/diego/disks/data/IMR90OPT/lambda56to57/iteration_5/traj_0.cndb\n",
      "Processing file: /home/diego/disks/data/IMR90OPT/lambda56to57/iteration_6/traj_0.cndb\n",
      "Processing file: /home/diego/disks/data/IMR90OPT/lambda56to57/iteration_7/traj_0.cndb\n",
      "Processing file: /home/diego/disks/data/IMR90OPT/lambda56to57/iteration_8/traj_0.cndb\n",
      "Processing file: /home/diego/disks/data/IMR90OPT/lambda56to57/iteration_9/traj_0.cndb\n",
      "Processing file: /home/diego/disks/data/IMR90OPT/lambda56to57/iteration_10/traj_0.cndb\n",
      "Processing file: /home/diego/disks/data/IMR90OPT/lambda56to57/iteration_11/traj_0.cndb\n",
      "Processing file: /home/diego/disks/data/IMR90OPT/lambda56to57/iteration_12/traj_0.cndb\n",
      "Processing file: /home/diego/disks/data/IMR90OPT/lambda56to57/iteration_13/traj_0.cndb\n",
      "Processing file: /home/diego/disks/data/IMR90OPT/lambda56to57/iteration_14/traj_0.cndb\n",
      "Processing file: /home/diego/disks/data/IMR90OPT/lambda56to57/iteration_15/traj_0.cndb\n",
      "Processing file: /home/diego/disks/data/IMR90OPT/lambda56to57/iteration_16/traj_0.cndb\n",
      "Processing file: /home/diego/disks/data/IMR90OPT/lambda56to57/iteration_17/traj_0.cndb\n",
      "Processing file: /home/diego/disks/data/IMR90OPT/lambda56to57/iteration_18/traj_0.cndb\n",
      "Processing file: /home/diego/disks/data/IMR90OPT/lambda56to57/iteration_19/traj_0.cndb\n",
      "Processing file: /home/diego/disks/data/IMR90OPT/lambda56to57/iteration_20/traj_0.cndb\n",
      "Trajectory for IMR90OPT_2 has shape (20, 1173, 3)\n",
      "Processing file: /home/diego/disks/data/GM12878/lambda202to203/iteration_1/traj_0.cndb\n",
      "Processing file: /home/diego/disks/data/GM12878/lambda202to203/iteration_2/traj_0.cndb\n",
      "Processing file: /home/diego/disks/data/GM12878/lambda202to203/iteration_3/traj_0.cndb\n",
      "Processing file: /home/diego/disks/data/GM12878/lambda202to203/iteration_4/traj_0.cndb\n",
      "Processing file: /home/diego/disks/data/GM12878/lambda202to203/iteration_5/traj_0.cndb\n",
      "Processing file: /home/diego/disks/data/GM12878/lambda202to203/iteration_6/traj_0.cndb\n",
      "Processing file: /home/diego/disks/data/GM12878/lambda202to203/iteration_7/traj_0.cndb\n",
      "Processing file: /home/diego/disks/data/GM12878/lambda202to203/iteration_8/traj_0.cndb\n",
      "Processing file: /home/diego/disks/data/GM12878/lambda202to203/iteration_9/traj_0.cndb\n",
      "Processing file: /home/diego/disks/data/GM12878/lambda202to203/iteration_10/traj_0.cndb\n",
      "Processing file: /home/diego/disks/data/GM12878/lambda202to203/iteration_11/traj_0.cndb\n",
      "Processing file: /home/diego/disks/data/GM12878/lambda202to203/iteration_12/traj_0.cndb\n",
      "Processing file: /home/diego/disks/data/GM12878/lambda202to203/iteration_13/traj_0.cndb\n",
      "Processing file: /home/diego/disks/data/GM12878/lambda202to203/iteration_14/traj_0.cndb\n",
      "Processing file: /home/diego/disks/data/GM12878/lambda202to203/iteration_15/traj_0.cndb\n",
      "Processing file: /home/diego/disks/data/GM12878/lambda202to203/iteration_16/traj_0.cndb\n",
      "Processing file: /home/diego/disks/data/GM12878/lambda202to203/iteration_17/traj_0.cndb\n",
      "Processing file: /home/diego/disks/data/GM12878/lambda202to203/iteration_18/traj_0.cndb\n",
      "Processing file: /home/diego/disks/data/GM12878/lambda202to203/iteration_19/traj_0.cndb\n",
      "Processing file: /home/diego/disks/data/GM12878/lambda202to203/iteration_20/traj_0.cndb\n",
      "Trajectory for GM12878OPT has shape (20, 1173, 3)\n",
      "Processing file: /home/diego/disks/data/GM12878/lambda54to55/iteration_1/traj_0.cndb\n",
      "Processing file: /home/diego/disks/data/GM12878/lambda54to55/iteration_2/traj_0.cndb\n",
      "Processing file: /home/diego/disks/data/GM12878/lambda54to55/iteration_3/traj_0.cndb\n",
      "Processing file: /home/diego/disks/data/GM12878/lambda54to55/iteration_4/traj_0.cndb\n",
      "Processing file: /home/diego/disks/data/GM12878/lambda54to55/iteration_5/traj_0.cndb\n",
      "Processing file: /home/diego/disks/data/GM12878/lambda54to55/iteration_6/traj_0.cndb\n",
      "Processing file: /home/diego/disks/data/GM12878/lambda54to55/iteration_7/traj_0.cndb\n",
      "Processing file: /home/diego/disks/data/GM12878/lambda54to55/iteration_8/traj_0.cndb\n",
      "Processing file: /home/diego/disks/data/GM12878/lambda54to55/iteration_9/traj_0.cndb\n",
      "Processing file: /home/diego/disks/data/GM12878/lambda54to55/iteration_10/traj_0.cndb\n",
      "Processing file: /home/diego/disks/data/GM12878/lambda54to55/iteration_11/traj_0.cndb\n",
      "Processing file: /home/diego/disks/data/GM12878/lambda54to55/iteration_12/traj_0.cndb\n",
      "Processing file: /home/diego/disks/data/GM12878/lambda54to55/iteration_13/traj_0.cndb\n",
      "Processing file: /home/diego/disks/data/GM12878/lambda54to55/iteration_14/traj_0.cndb\n",
      "Processing file: /home/diego/disks/data/GM12878/lambda54to55/iteration_15/traj_0.cndb\n",
      "Processing file: /home/diego/disks/data/GM12878/lambda54to55/iteration_16/traj_0.cndb\n",
      "Processing file: /home/diego/disks/data/GM12878/lambda54to55/iteration_17/traj_0.cndb\n",
      "Processing file: /home/diego/disks/data/GM12878/lambda54to55/iteration_18/traj_0.cndb\n",
      "Processing file: /home/diego/disks/data/GM12878/lambda54to55/iteration_19/traj_0.cndb\n",
      "Processing file: /home/diego/disks/data/GM12878/lambda54to55/iteration_20/traj_0.cndb\n",
      "Trajectory for GM12878OPT_2 has shape (20, 1173, 3)\n",
      "Processing file: /home/diego/disks/data/cndb/GM12878/iteration_1/traj_chr_GM12878_0.cndb\n",
      "Processing file: /home/diego/disks/data/cndb/GM12878/iteration_2/traj_chr_GM12878_0.cndb\n",
      "Processing file: /home/diego/disks/data/cndb/GM12878/iteration_3/traj_chr_GM12878_0.cndb\n",
      "Processing file: /home/diego/disks/data/cndb/GM12878/iteration_4/traj_chr_GM12878_0.cndb\n",
      "Processing file: /home/diego/disks/data/cndb/GM12878/iteration_5/traj_chr_GM12878_0.cndb\n",
      "Processing file: /home/diego/disks/data/cndb/GM12878/iteration_6/traj_chr_GM12878_0.cndb\n",
      "Processing file: /home/diego/disks/data/cndb/GM12878/iteration_7/traj_chr_GM12878_0.cndb\n",
      "Processing file: /home/diego/disks/data/cndb/GM12878/iteration_8/traj_chr_GM12878_0.cndb\n",
      "Processing file: /home/diego/disks/data/cndb/GM12878/iteration_9/traj_chr_GM12878_0.cndb\n",
      "Processing file: /home/diego/disks/data/cndb/GM12878/iteration_10/traj_chr_GM12878_0.cndb\n",
      "Processing file: /home/diego/disks/data/cndb/GM12878/iteration_11/traj_chr_GM12878_0.cndb\n",
      "Processing file: /home/diego/disks/data/cndb/GM12878/iteration_12/traj_chr_GM12878_0.cndb\n",
      "Processing file: /home/diego/disks/data/cndb/GM12878/iteration_13/traj_chr_GM12878_0.cndb\n",
      "Processing file: /home/diego/disks/data/cndb/GM12878/iteration_14/traj_chr_GM12878_0.cndb\n",
      "Processing file: /home/diego/disks/data/cndb/GM12878/iteration_15/traj_chr_GM12878_0.cndb\n",
      "Processing file: /home/diego/disks/data/cndb/GM12878/iteration_16/traj_chr_GM12878_0.cndb\n",
      "Processing file: /home/diego/disks/data/cndb/GM12878/iteration_17/traj_chr_GM12878_0.cndb\n",
      "Processing file: /home/diego/disks/data/cndb/GM12878/iteration_18/traj_chr_GM12878_0.cndb\n",
      "Processing file: /home/diego/disks/data/cndb/GM12878/iteration_19/traj_chr_GM12878_0.cndb\n",
      "Processing file: /home/diego/disks/data/cndb/GM12878/iteration_20/traj_chr_GM12878_0.cndb\n",
      "Trajectory for GM12878SIM has shape (100, 1183, 3)\n",
      "Processing file: /home/diego/disks/data/K562/lambda270to271/iteration_1/traj_0.cndb\n",
      "Processing file: /home/diego/disks/data/K562/lambda270to271/iteration_2/traj_0.cndb\n",
      "Processing file: /home/diego/disks/data/K562/lambda270to271/iteration_3/traj_0.cndb\n",
      "Processing file: /home/diego/disks/data/K562/lambda270to271/iteration_4/traj_0.cndb\n",
      "Processing file: /home/diego/disks/data/K562/lambda270to271/iteration_5/traj_0.cndb\n",
      "Processing file: /home/diego/disks/data/K562/lambda270to271/iteration_6/traj_0.cndb\n",
      "Processing file: /home/diego/disks/data/K562/lambda270to271/iteration_7/traj_0.cndb\n",
      "Processing file: /home/diego/disks/data/K562/lambda270to271/iteration_8/traj_0.cndb\n",
      "Processing file: /home/diego/disks/data/K562/lambda270to271/iteration_9/traj_0.cndb\n",
      "Processing file: /home/diego/disks/data/K562/lambda270to271/iteration_10/traj_0.cndb\n",
      "Processing file: /home/diego/disks/data/K562/lambda270to271/iteration_11/traj_0.cndb\n",
      "Processing file: /home/diego/disks/data/K562/lambda270to271/iteration_12/traj_0.cndb\n",
      "Processing file: /home/diego/disks/data/K562/lambda270to271/iteration_13/traj_0.cndb\n",
      "Processing file: /home/diego/disks/data/K562/lambda270to271/iteration_14/traj_0.cndb\n",
      "Processing file: /home/diego/disks/data/K562/lambda270to271/iteration_15/traj_0.cndb\n",
      "Processing file: /home/diego/disks/data/K562/lambda270to271/iteration_16/traj_0.cndb\n",
      "Processing file: /home/diego/disks/data/K562/lambda270to271/iteration_17/traj_0.cndb\n",
      "Processing file: /home/diego/disks/data/K562/lambda270to271/iteration_18/traj_0.cndb\n",
      "Processing file: /home/diego/disks/data/K562/lambda270to271/iteration_19/traj_0.cndb\n",
      "Processing file: /home/diego/disks/data/K562/lambda270to271/iteration_20/traj_0.cndb\n",
      "Trajectory for K562OPT has shape (20, 1173, 3)\n",
      "Processing file: /home/diego/disks/data/K562/lambda65to66/iteration_1/traj_0.cndb\n",
      "Processing file: /home/diego/disks/data/K562/lambda65to66/iteration_2/traj_0.cndb\n",
      "Processing file: /home/diego/disks/data/K562/lambda65to66/iteration_3/traj_0.cndb\n",
      "Processing file: /home/diego/disks/data/K562/lambda65to66/iteration_4/traj_0.cndb\n",
      "Processing file: /home/diego/disks/data/K562/lambda65to66/iteration_5/traj_0.cndb\n",
      "Processing file: /home/diego/disks/data/K562/lambda65to66/iteration_6/traj_0.cndb\n",
      "Processing file: /home/diego/disks/data/K562/lambda65to66/iteration_7/traj_0.cndb\n",
      "Processing file: /home/diego/disks/data/K562/lambda65to66/iteration_8/traj_0.cndb\n",
      "Processing file: /home/diego/disks/data/K562/lambda65to66/iteration_9/traj_0.cndb\n",
      "Processing file: /home/diego/disks/data/K562/lambda65to66/iteration_10/traj_0.cndb\n",
      "Processing file: /home/diego/disks/data/K562/lambda65to66/iteration_11/traj_0.cndb\n",
      "Processing file: /home/diego/disks/data/K562/lambda65to66/iteration_12/traj_0.cndb\n",
      "Processing file: /home/diego/disks/data/K562/lambda65to66/iteration_13/traj_0.cndb\n",
      "Processing file: /home/diego/disks/data/K562/lambda65to66/iteration_14/traj_0.cndb\n",
      "Processing file: /home/diego/disks/data/K562/lambda65to66/iteration_15/traj_0.cndb\n",
      "Processing file: /home/diego/disks/data/K562/lambda65to66/iteration_16/traj_0.cndb\n",
      "Processing file: /home/diego/disks/data/K562/lambda65to66/iteration_17/traj_0.cndb\n",
      "Processing file: /home/diego/disks/data/K562/lambda65to66/iteration_18/traj_0.cndb\n",
      "Processing file: /home/diego/disks/data/K562/lambda65to66/iteration_19/traj_0.cndb\n",
      "Processing file: /home/diego/disks/data/K562/lambda65to66/iteration_20/traj_0.cndb\n",
      "Trajectory for K562OPT_2 has shape (20, 1173, 3)\n",
      "Processing file: /home/diego/disks/data/cndb/K562/iteration_1/traj_chr_K562_0.cndb\n",
      "Processing file: /home/diego/disks/data/cndb/K562/iteration_2/traj_chr_K562_0.cndb\n",
      "Processing file: /home/diego/disks/data/cndb/K562/iteration_3/traj_chr_K562_0.cndb\n",
      "Processing file: /home/diego/disks/data/cndb/K562/iteration_4/traj_chr_K562_0.cndb\n",
      "Processing file: /home/diego/disks/data/cndb/K562/iteration_5/traj_chr_K562_0.cndb\n",
      "Processing file: /home/diego/disks/data/cndb/K562/iteration_6/traj_chr_K562_0.cndb\n",
      "Processing file: /home/diego/disks/data/cndb/K562/iteration_7/traj_chr_K562_0.cndb\n",
      "Processing file: /home/diego/disks/data/cndb/K562/iteration_8/traj_chr_K562_0.cndb\n",
      "Processing file: /home/diego/disks/data/cndb/K562/iteration_9/traj_chr_K562_0.cndb\n",
      "Processing file: /home/diego/disks/data/cndb/K562/iteration_10/traj_chr_K562_0.cndb\n",
      "Processing file: /home/diego/disks/data/cndb/K562/iteration_11/traj_chr_K562_0.cndb\n",
      "Processing file: /home/diego/disks/data/cndb/K562/iteration_12/traj_chr_K562_0.cndb\n",
      "Processing file: /home/diego/disks/data/cndb/K562/iteration_13/traj_chr_K562_0.cndb\n",
      "Processing file: /home/diego/disks/data/cndb/K562/iteration_14/traj_chr_K562_0.cndb\n",
      "Processing file: /home/diego/disks/data/cndb/K562/iteration_15/traj_chr_K562_0.cndb\n",
      "Processing file: /home/diego/disks/data/cndb/K562/iteration_16/traj_chr_K562_0.cndb\n",
      "Processing file: /home/diego/disks/data/cndb/K562/iteration_17/traj_chr_K562_0.cndb\n",
      "Processing file: /home/diego/disks/data/cndb/K562/iteration_18/traj_chr_K562_0.cndb\n",
      "Processing file: /home/diego/disks/data/cndb/K562/iteration_19/traj_chr_K562_0.cndb\n",
      "Processing file: /home/diego/disks/data/cndb/K562/iteration_20/traj_chr_K562_0.cndb\n",
      "Trajectory for K562SIM has shape (100, 1173, 3)\n",
      "Processing file: /home/diego/disks/data/HELA/lambda293to294/iteration_1/traj_0.cndb\n",
      "Processing file: /home/diego/disks/data/HELA/lambda293to294/iteration_2/traj_0.cndb\n",
      "Processing file: /home/diego/disks/data/HELA/lambda293to294/iteration_3/traj_0.cndb\n",
      "Processing file: /home/diego/disks/data/HELA/lambda293to294/iteration_4/traj_0.cndb\n",
      "Processing file: /home/diego/disks/data/HELA/lambda293to294/iteration_5/traj_0.cndb\n",
      "Processing file: /home/diego/disks/data/HELA/lambda293to294/iteration_6/traj_0.cndb\n",
      "Processing file: /home/diego/disks/data/HELA/lambda293to294/iteration_7/traj_0.cndb\n",
      "Processing file: /home/diego/disks/data/HELA/lambda293to294/iteration_8/traj_0.cndb\n",
      "Processing file: /home/diego/disks/data/HELA/lambda293to294/iteration_9/traj_0.cndb\n",
      "Processing file: /home/diego/disks/data/HELA/lambda293to294/iteration_10/traj_0.cndb\n",
      "Processing file: /home/diego/disks/data/HELA/lambda293to294/iteration_11/traj_0.cndb\n",
      "Processing file: /home/diego/disks/data/HELA/lambda293to294/iteration_12/traj_0.cndb\n",
      "Processing file: /home/diego/disks/data/HELA/lambda293to294/iteration_13/traj_0.cndb\n",
      "Processing file: /home/diego/disks/data/HELA/lambda293to294/iteration_14/traj_0.cndb\n",
      "Processing file: /home/diego/disks/data/HELA/lambda293to294/iteration_15/traj_0.cndb\n",
      "Processing file: /home/diego/disks/data/HELA/lambda293to294/iteration_16/traj_0.cndb\n",
      "Processing file: /home/diego/disks/data/HELA/lambda293to294/iteration_17/traj_0.cndb\n",
      "Processing file: /home/diego/disks/data/HELA/lambda293to294/iteration_18/traj_0.cndb\n",
      "Processing file: /home/diego/disks/data/HELA/lambda293to294/iteration_19/traj_0.cndb\n",
      "Processing file: /home/diego/disks/data/HELA/lambda293to294/iteration_20/traj_0.cndb\n",
      "Trajectory for HELAOPT has shape (20, 1172, 3)\n",
      "Processing file: /home/diego/disks/data/HELA/lambda69to70/iteration_1/traj_0.cndb\n",
      "Processing file: /home/diego/disks/data/HELA/lambda69to70/iteration_2/traj_0.cndb\n",
      "Processing file: /home/diego/disks/data/HELA/lambda69to70/iteration_3/traj_0.cndb\n",
      "Processing file: /home/diego/disks/data/HELA/lambda69to70/iteration_4/traj_0.cndb\n",
      "Processing file: /home/diego/disks/data/HELA/lambda69to70/iteration_5/traj_0.cndb\n",
      "Processing file: /home/diego/disks/data/HELA/lambda69to70/iteration_6/traj_0.cndb\n",
      "Processing file: /home/diego/disks/data/HELA/lambda69to70/iteration_7/traj_0.cndb\n",
      "Processing file: /home/diego/disks/data/HELA/lambda69to70/iteration_8/traj_0.cndb\n",
      "Processing file: /home/diego/disks/data/HELA/lambda69to70/iteration_9/traj_0.cndb\n",
      "Processing file: /home/diego/disks/data/HELA/lambda69to70/iteration_10/traj_0.cndb\n",
      "Processing file: /home/diego/disks/data/HELA/lambda69to70/iteration_11/traj_0.cndb\n",
      "Processing file: /home/diego/disks/data/HELA/lambda69to70/iteration_12/traj_0.cndb\n",
      "Processing file: /home/diego/disks/data/HELA/lambda69to70/iteration_13/traj_0.cndb\n",
      "Processing file: /home/diego/disks/data/HELA/lambda69to70/iteration_14/traj_0.cndb\n",
      "Processing file: /home/diego/disks/data/HELA/lambda69to70/iteration_15/traj_0.cndb\n",
      "Processing file: /home/diego/disks/data/HELA/lambda69to70/iteration_16/traj_0.cndb\n",
      "Processing file: /home/diego/disks/data/HELA/lambda69to70/iteration_17/traj_0.cndb\n",
      "Processing file: /home/diego/disks/data/HELA/lambda69to70/iteration_18/traj_0.cndb\n",
      "Processing file: /home/diego/disks/data/HELA/lambda69to70/iteration_19/traj_0.cndb\n",
      "Processing file: /home/diego/disks/data/HELA/lambda69to70/iteration_20/traj_0.cndb\n",
      "Trajectory for HELAOPT_2 has shape (20, 1172, 3)\n",
      "Processing file: /home/diego/disks/data/cndb/HELA/iteration_1/traj_chr_HELA_0.cndb\n",
      "Processing file: /home/diego/disks/data/cndb/HELA/iteration_2/traj_chr_HELA_0.cndb\n",
      "Processing file: /home/diego/disks/data/cndb/HELA/iteration_3/traj_chr_HELA_0.cndb\n",
      "Processing file: /home/diego/disks/data/cndb/HELA/iteration_4/traj_chr_HELA_0.cndb\n",
      "Processing file: /home/diego/disks/data/cndb/HELA/iteration_5/traj_chr_HELA_0.cndb\n",
      "Processing file: /home/diego/disks/data/cndb/HELA/iteration_6/traj_chr_HELA_0.cndb\n",
      "Processing file: /home/diego/disks/data/cndb/HELA/iteration_7/traj_chr_HELA_0.cndb\n",
      "Processing file: /home/diego/disks/data/cndb/HELA/iteration_8/traj_chr_HELA_0.cndb\n",
      "Processing file: /home/diego/disks/data/cndb/HELA/iteration_9/traj_chr_HELA_0.cndb\n",
      "Processing file: /home/diego/disks/data/cndb/HELA/iteration_10/traj_chr_HELA_0.cndb\n",
      "Processing file: /home/diego/disks/data/cndb/HELA/iteration_11/traj_chr_HELA_0.cndb\n",
      "Processing file: /home/diego/disks/data/cndb/HELA/iteration_12/traj_chr_HELA_0.cndb\n",
      "Processing file: /home/diego/disks/data/cndb/HELA/iteration_13/traj_chr_HELA_0.cndb\n",
      "Processing file: /home/diego/disks/data/cndb/HELA/iteration_14/traj_chr_HELA_0.cndb\n",
      "Processing file: /home/diego/disks/data/cndb/HELA/iteration_15/traj_chr_HELA_0.cndb\n",
      "Processing file: /home/diego/disks/data/cndb/HELA/iteration_16/traj_chr_HELA_0.cndb\n",
      "Processing file: /home/diego/disks/data/cndb/HELA/iteration_17/traj_chr_HELA_0.cndb\n",
      "Processing file: /home/diego/disks/data/cndb/HELA/iteration_18/traj_chr_HELA_0.cndb\n",
      "Processing file: /home/diego/disks/data/cndb/HELA/iteration_19/traj_chr_HELA_0.cndb\n",
      "Processing file: /home/diego/disks/data/cndb/HELA/iteration_20/traj_chr_HELA_0.cndb\n",
      "Trajectory for HELASIM has shape (100, 1173, 3)\n",
      "Processing file: /home/diego/disks/data/STEM/lambda300to301/iteration_1/traj_0.cndb\n",
      "Processing file: /home/diego/disks/data/STEM/lambda300to301/iteration_2/traj_0.cndb\n",
      "Processing file: /home/diego/disks/data/STEM/lambda300to301/iteration_3/traj_0.cndb\n",
      "Processing file: /home/diego/disks/data/STEM/lambda300to301/iteration_4/traj_0.cndb\n",
      "Processing file: /home/diego/disks/data/STEM/lambda300to301/iteration_5/traj_0.cndb\n",
      "Processing file: /home/diego/disks/data/STEM/lambda300to301/iteration_6/traj_0.cndb\n",
      "Processing file: /home/diego/disks/data/STEM/lambda300to301/iteration_7/traj_0.cndb\n",
      "Processing file: /home/diego/disks/data/STEM/lambda300to301/iteration_8/traj_0.cndb\n",
      "Processing file: /home/diego/disks/data/STEM/lambda300to301/iteration_9/traj_0.cndb\n",
      "Processing file: /home/diego/disks/data/STEM/lambda300to301/iteration_10/traj_0.cndb\n",
      "Processing file: /home/diego/disks/data/STEM/lambda300to301/iteration_11/traj_0.cndb\n",
      "Processing file: /home/diego/disks/data/STEM/lambda300to301/iteration_12/traj_0.cndb\n",
      "Processing file: /home/diego/disks/data/STEM/lambda300to301/iteration_13/traj_0.cndb\n",
      "Processing file: /home/diego/disks/data/STEM/lambda300to301/iteration_14/traj_0.cndb\n",
      "Processing file: /home/diego/disks/data/STEM/lambda300to301/iteration_15/traj_0.cndb\n",
      "Processing file: /home/diego/disks/data/STEM/lambda300to301/iteration_16/traj_0.cndb\n",
      "Processing file: /home/diego/disks/data/STEM/lambda300to301/iteration_17/traj_0.cndb\n",
      "Processing file: /home/diego/disks/data/STEM/lambda300to301/iteration_18/traj_0.cndb\n",
      "Processing file: /home/diego/disks/data/STEM/lambda300to301/iteration_19/traj_0.cndb\n",
      "Processing file: /home/diego/disks/data/STEM/lambda300to301/iteration_20/traj_0.cndb\n",
      "Trajectory for STEMOPT has shape (20, 1172, 3)\n",
      "Processing file: /home/diego/disks/data/STEM/lambda73to74/iteration_1/traj_0.cndb\n",
      "Processing file: /home/diego/disks/data/STEM/lambda73to74/iteration_2/traj_0.cndb\n",
      "Processing file: /home/diego/disks/data/STEM/lambda73to74/iteration_3/traj_0.cndb\n",
      "Processing file: /home/diego/disks/data/STEM/lambda73to74/iteration_4/traj_0.cndb\n",
      "Processing file: /home/diego/disks/data/STEM/lambda73to74/iteration_5/traj_0.cndb\n",
      "Processing file: /home/diego/disks/data/STEM/lambda73to74/iteration_6/traj_0.cndb\n",
      "Processing file: /home/diego/disks/data/STEM/lambda73to74/iteration_7/traj_0.cndb\n",
      "Processing file: /home/diego/disks/data/STEM/lambda73to74/iteration_8/traj_0.cndb\n",
      "Processing file: /home/diego/disks/data/STEM/lambda73to74/iteration_9/traj_0.cndb\n",
      "Processing file: /home/diego/disks/data/STEM/lambda73to74/iteration_10/traj_0.cndb\n",
      "Processing file: /home/diego/disks/data/STEM/lambda73to74/iteration_11/traj_0.cndb\n",
      "Processing file: /home/diego/disks/data/STEM/lambda73to74/iteration_12/traj_0.cndb\n",
      "Processing file: /home/diego/disks/data/STEM/lambda73to74/iteration_13/traj_0.cndb\n",
      "Processing file: /home/diego/disks/data/STEM/lambda73to74/iteration_14/traj_0.cndb\n",
      "Processing file: /home/diego/disks/data/STEM/lambda73to74/iteration_15/traj_0.cndb\n",
      "Processing file: /home/diego/disks/data/STEM/lambda73to74/iteration_16/traj_0.cndb\n",
      "Processing file: /home/diego/disks/data/STEM/lambda73to74/iteration_17/traj_0.cndb\n",
      "Processing file: /home/diego/disks/data/STEM/lambda73to74/iteration_18/traj_0.cndb\n",
      "Processing file: /home/diego/disks/data/STEM/lambda73to74/iteration_19/traj_0.cndb\n",
      "Processing file: /home/diego/disks/data/STEM/lambda73to74/iteration_20/traj_0.cndb\n",
      "Trajectory for STEMOPT_2 has shape (20, 1172, 3)\n",
      "Processing file: /home/diego/disks/data/cndb/STEM/iteration_1/traj_chr_STEM_0.cndb\n",
      "Processing file: /home/diego/disks/data/cndb/STEM/iteration_2/traj_chr_STEM_0.cndb\n",
      "Processing file: /home/diego/disks/data/cndb/STEM/iteration_3/traj_chr_STEM_0.cndb\n",
      "Processing file: /home/diego/disks/data/cndb/STEM/iteration_4/traj_chr_STEM_0.cndb\n",
      "Processing file: /home/diego/disks/data/cndb/STEM/iteration_5/traj_chr_STEM_0.cndb\n",
      "Processing file: /home/diego/disks/data/cndb/STEM/iteration_6/traj_chr_STEM_0.cndb\n",
      "Processing file: /home/diego/disks/data/cndb/STEM/iteration_7/traj_chr_STEM_0.cndb\n",
      "Processing file: /home/diego/disks/data/cndb/STEM/iteration_8/traj_chr_STEM_0.cndb\n",
      "Processing file: /home/diego/disks/data/cndb/STEM/iteration_9/traj_chr_STEM_0.cndb\n",
      "Processing file: /home/diego/disks/data/cndb/STEM/iteration_10/traj_chr_STEM_0.cndb\n",
      "Processing file: /home/diego/disks/data/cndb/STEM/iteration_11/traj_chr_STEM_0.cndb\n",
      "Processing file: /home/diego/disks/data/cndb/STEM/iteration_12/traj_chr_STEM_0.cndb\n",
      "Processing file: /home/diego/disks/data/cndb/STEM/iteration_13/traj_chr_STEM_0.cndb\n",
      "Processing file: /home/diego/disks/data/cndb/STEM/iteration_14/traj_chr_STEM_0.cndb\n",
      "Processing file: /home/diego/disks/data/cndb/STEM/iteration_15/traj_chr_STEM_0.cndb\n",
      "Processing file: /home/diego/disks/data/cndb/STEM/iteration_16/traj_chr_STEM_0.cndb\n",
      "Processing file: /home/diego/disks/data/cndb/STEM/iteration_17/traj_chr_STEM_0.cndb\n",
      "Processing file: /home/diego/disks/data/cndb/STEM/iteration_18/traj_chr_STEM_0.cndb\n",
      "Processing file: /home/diego/disks/data/cndb/STEM/iteration_19/traj_chr_STEM_0.cndb\n",
      "Processing file: /home/diego/disks/data/cndb/STEM/iteration_20/traj_chr_STEM_0.cndb\n",
      "Trajectory for STEMSIM has shape (100, 1173, 3)\n"
     ]
    }
   ],
   "source": [
    "import sys\n",
    "sys.path.append('../')\n",
    "\n",
    "import numpy as np\n",
    "from AnalysisTools import Ana\n",
    "from AnalysisTools import ComputeHelpersCPU\n",
    "\n",
    "\n",
    "# Initialize the analysis object\n",
    "cachePath = '/home/diego/disks/ANACACHE'\n",
    "comp = ComputeHelpersCPU(memory_location=cachePath, memory_verbosity=0, n_jobs=16)\n",
    "\n",
    "analysis = Ana(showPlots=True, execution_mode=comp, cacheStoragePath=cachePath)\n",
    "\n",
    "# Add datasets\n",
    "# _2 is the dataset with higher error rate but looks visually better on the hic map\n",
    "\n",
    "#IMR90\n",
    "analysis.add_dataset(label=\"IMR90SIM\", folder=\"/home/diego/disks/data/cndb/IMR90SIM/output\")\n",
    "analysis.add_dataset(label='IMR90OPT', folder='/home/diego/disks/data/IMR90OPT/lambda255to256')\n",
    "analysis.add_dataset(label=\"IMR90OPT_2\", folder='/home/diego/disks/data/IMR90OPT/lambda56to57')\n",
    "\n",
    "#GM12878\n",
    "analysis.add_dataset(label=\"GM12878SIM\", folder='/home/diego/disks/data/cndb/GM12878')\n",
    "analysis.add_dataset(label=\"GM12878OPT\", folder='/home/diego/disks/data/GM12878/lambda202to203')\n",
    "analysis.add_dataset(label=\"GM12878OPT_2\", folder='/home/diego/disks/data/GM12878/lambda54to55')\n",
    "\n",
    "#K562\n",
    "analysis.add_dataset(label=\"K562SIM\", folder='/home/diego/disks/data/cndb/K562')\n",
    "analysis.add_dataset(label=\"K562OPT\", folder='/home/diego/disks/data/K562/lambda270to271')\n",
    "analysis.add_dataset(label=\"K562OPT_2\", folder='/home/diego/disks/data/K562/lambda65to66')\n",
    "\n",
    "#HELA\n",
    "analysis.add_dataset(label=\"HELASIM\", folder='/home/diego/disks/data/cndb/HELA')\n",
    "analysis.add_dataset(label=\"HELAOPT\", folder='/home/diego/disks/data/HELA/lambda293to294')\n",
    "analysis.add_dataset(label=\"HELAOPT_2\", folder='/home/diego/disks/data/HELA/lambda69to70')\n",
    "\n",
    "#STEM\n",
    "analysis.add_dataset(label=\"STEMSIM\", folder='/home/diego/disks/data/cndb/STEM')\n",
    "analysis.add_dataset(label=\"STEMOPT\", folder='/home/diego/disks/data/STEM/lambda300to301')\n",
    "analysis.add_dataset(label=\"STEMOPT_2\", folder='/home/diego/disks/data/STEM/lambda73to74')\n",
    "\n",
    "dataset_name = [\"IMR90\", \"GM12878\", \"K562\", \"HELA\", \"STEM\"]\n",
    "\n",
    "# Process Trajectories \n",
    "for name in dataset_name:\n",
    "    if name == 'IMR90':\n",
    "        analysis.process_trajectories(label=f'{name}SIM', filename=f'traj_chr_{name}OPT_0.cndb', folder_pattern=['iteration_', [1, 20]])        \n",
    "        analysis.process_trajectories(label=f'{name}OPT', filename='traj_0.cndb', folder_pattern=['iteration_', [1,20]])\n",
    "        analysis.process_trajectories(label=f'{name}OPT_2', filename='traj_0.cndb', folder_pattern=['iteration_', [1,20]])\n",
    "        continue\n",
    "    analysis.process_trajectories(label=f'{name}OPT', filename='traj_0.cndb', folder_pattern=['iteration_', [1,20]])\n",
    "    analysis.process_trajectories(label=f'{name}OPT_2', filename='traj_0.cndb', folder_pattern=['iteration_', [1,20]])\n",
    "    analysis.process_trajectories(label=f'{name}SIM', filename=f'traj_chr_{name}_0.cndb', folder_pattern=['iteration_', [1, 20]])\n"
   ]
  },
  {
   "cell_type": "markdown",
   "metadata": {},
   "source": [
    "## Define norm x method x metrix"
   ]
  },
  {
   "cell_type": "code",
   "execution_count": 2,
   "metadata": {},
   "outputs": [
    {
     "name": "stdout",
     "output_type": "stream",
     "text": [
      "16\n"
     ]
    }
   ],
   "source": [
    "\n",
    "print(comp.getCpuCount())"
   ]
  },
  {
   "cell_type": "markdown",
   "metadata": {},
   "source": [
    "## Generate and Cache Distance Matrices"
   ]
  },
  {
   "cell_type": "code",
   "execution_count": 3,
   "metadata": {},
   "outputs": [
    {
     "name": "stdout",
     "output_type": "stream",
     "text": [
      "Using cached data: /home/diego/disks/ANACACHE/cache_('IMR90OPT', 'IMR90OPT_2', 'IMR90SIM', 'weighted', 'euclidean', 'ice').pkl.npz\n",
      "Using cached data: /home/diego/disks/ANACACHE/cache_('K562OPT', 'K562OPT_2', 'K562SIM', 'weighted', 'euclidean', 'ice').pkl.npz\n",
      "Using cached data: /home/diego/disks/ANACACHE/cache_('HELAOPT', 'HELAOPT_2', 'HELASIM', 'weighted', 'euclidean', 'ice').pkl.npz\n",
      "Using cached data: /home/diego/disks/ANACACHE/cache_('STEMOPT', 'STEMOPT_2', 'STEMSIM', 'weighted', 'euclidean', 'ice').pkl.npz\n",
      "Using cached data: /home/diego/disks/ANACACHE/cache_('GM12878OPT', 'GM12878OPT_2', 'GM12878SIM', 'weighted', 'euclidean', 'ice').pkl.npz\n",
      "Using cached data: /home/diego/disks/ANACACHE/cache_('IMR90OPT', 'IMR90OPT_2', 'IMR90SIM', 'weighted', 'pearsons', 'ice').pkl.npz\n",
      "Using cached data: /home/diego/disks/ANACACHE/cache_('K562OPT', 'K562OPT_2', 'K562SIM', 'weighted', 'pearsons', 'ice').pkl.npz\n",
      "Using cached data: /home/diego/disks/ANACACHE/cache_('HELAOPT', 'HELAOPT_2', 'HELASIM', 'weighted', 'pearsons', 'ice').pkl.npz\n",
      "Using cached data: /home/diego/disks/ANACACHE/cache_('STEMOPT', 'STEMOPT_2', 'STEMSIM', 'weighted', 'pearsons', 'ice').pkl.npz\n",
      "Using cached data: /home/diego/disks/ANACACHE/cache_('GM12878OPT', 'GM12878OPT_2', 'GM12878SIM', 'weighted', 'pearsons', 'ice').pkl.npz\n",
      "Using cached data: /home/diego/disks/ANACACHE/cache_('IMR90OPT', 'IMR90OPT_2', 'IMR90SIM', 'weighted', 'spearman', 'ice').pkl.npz\n",
      "Using cached data: /home/diego/disks/ANACACHE/cache_('K562OPT', 'K562OPT_2', 'K562SIM', 'weighted', 'spearman', 'ice').pkl.npz\n",
      "Using cached data: /home/diego/disks/ANACACHE/cache_('HELAOPT', 'HELAOPT_2', 'HELASIM', 'weighted', 'spearman', 'ice').pkl.npz\n",
      "Using cached data: /home/diego/disks/ANACACHE/cache_('STEMOPT', 'STEMOPT_2', 'STEMSIM', 'weighted', 'spearman', 'ice').pkl.npz\n",
      "Using cached data: /home/diego/disks/ANACACHE/cache_('GM12878OPT', 'GM12878OPT_2', 'GM12878SIM', 'weighted', 'spearman', 'ice').pkl.npz\n",
      "Using cached data: /home/diego/disks/ANACACHE/cache_('IMR90OPT', 'IMR90OPT_2', 'IMR90SIM', 'weighted', 'contact', 'ice').pkl.npz\n",
      "Using cached data: /home/diego/disks/ANACACHE/cache_('K562OPT', 'K562OPT_2', 'K562SIM', 'weighted', 'contact', 'ice').pkl.npz\n",
      "Using cached data: /home/diego/disks/ANACACHE/cache_('HELAOPT', 'HELAOPT_2', 'HELASIM', 'weighted', 'contact', 'ice').pkl.npz\n",
      "Using cached data: /home/diego/disks/ANACACHE/cache_('STEMOPT', 'STEMOPT_2', 'STEMSIM', 'weighted', 'contact', 'ice').pkl.npz\n",
      "Using cached data: /home/diego/disks/ANACACHE/cache_('GM12878OPT', 'GM12878OPT_2', 'GM12878SIM', 'weighted', 'contact', 'ice').pkl.npz\n",
      "Using cached data: /home/diego/disks/ANACACHE/cache_('IMR90OPT', 'IMR90OPT_2', 'IMR90SIM', 'weighted', 'log2_contact', 'ice').pkl.npz\n",
      "Using cached data: /home/diego/disks/ANACACHE/cache_('K562OPT', 'K562OPT_2', 'K562SIM', 'weighted', 'log2_contact', 'ice').pkl.npz\n",
      "Using cached data: /home/diego/disks/ANACACHE/cache_('HELAOPT', 'HELAOPT_2', 'HELASIM', 'weighted', 'log2_contact', 'ice').pkl.npz\n",
      "Using cached data: /home/diego/disks/ANACACHE/cache_('STEMOPT', 'STEMOPT_2', 'STEMSIM', 'weighted', 'log2_contact', 'ice').pkl.npz\n",
      "Using cached data: /home/diego/disks/ANACACHE/cache_('GM12878OPT', 'GM12878OPT_2', 'GM12878SIM', 'weighted', 'log2_contact', 'ice').pkl.npz\n",
      "Using cached data: /home/diego/disks/ANACACHE/cache_('IMR90OPT', 'IMR90OPT_2', 'IMR90SIM', 'weighted', 'euclidean', 'kr').pkl.npz\n",
      "Using cached data: /home/diego/disks/ANACACHE/cache_('K562OPT', 'K562OPT_2', 'K562SIM', 'weighted', 'euclidean', 'kr').pkl.npz\n",
      "Using cached data: /home/diego/disks/ANACACHE/cache_('HELAOPT', 'HELAOPT_2', 'HELASIM', 'weighted', 'euclidean', 'kr').pkl.npz\n",
      "Using cached data: /home/diego/disks/ANACACHE/cache_('STEMOPT', 'STEMOPT_2', 'STEMSIM', 'weighted', 'euclidean', 'kr').pkl.npz\n",
      "Using cached data: /home/diego/disks/ANACACHE/cache_('GM12878OPT', 'GM12878OPT_2', 'GM12878SIM', 'weighted', 'euclidean', 'kr').pkl.npz\n",
      "Using cached data: /home/diego/disks/ANACACHE/cache_('IMR90OPT', 'IMR90OPT_2', 'IMR90SIM', 'weighted', 'pearsons', 'kr').pkl.npz\n",
      "Using cached data: /home/diego/disks/ANACACHE/cache_('K562OPT', 'K562OPT_2', 'K562SIM', 'weighted', 'pearsons', 'kr').pkl.npz\n",
      "Using cached data: /home/diego/disks/ANACACHE/cache_('HELAOPT', 'HELAOPT_2', 'HELASIM', 'weighted', 'pearsons', 'kr').pkl.npz\n",
      "Using cached data: /home/diego/disks/ANACACHE/cache_('STEMOPT', 'STEMOPT_2', 'STEMSIM', 'weighted', 'pearsons', 'kr').pkl.npz\n",
      "Using cached data: /home/diego/disks/ANACACHE/cache_('GM12878OPT', 'GM12878OPT_2', 'GM12878SIM', 'weighted', 'pearsons', 'kr').pkl.npz\n",
      "Using cached data: /home/diego/disks/ANACACHE/cache_('IMR90OPT', 'IMR90OPT_2', 'IMR90SIM', 'weighted', 'spearman', 'kr').pkl.npz\n",
      "Using cached data: /home/diego/disks/ANACACHE/cache_('K562OPT', 'K562OPT_2', 'K562SIM', 'weighted', 'spearman', 'kr').pkl.npz\n",
      "Using cached data: /home/diego/disks/ANACACHE/cache_('HELAOPT', 'HELAOPT_2', 'HELASIM', 'weighted', 'spearman', 'kr').pkl.npz\n",
      "Using cached data: /home/diego/disks/ANACACHE/cache_('STEMOPT', 'STEMOPT_2', 'STEMSIM', 'weighted', 'spearman', 'kr').pkl.npz\n",
      "Using cached data: /home/diego/disks/ANACACHE/cache_('GM12878OPT', 'GM12878OPT_2', 'GM12878SIM', 'weighted', 'spearman', 'kr').pkl.npz\n",
      "Using cached data: /home/diego/disks/ANACACHE/cache_('IMR90OPT', 'IMR90OPT_2', 'IMR90SIM', 'weighted', 'contact', 'kr').pkl.npz\n",
      "Using cached data: /home/diego/disks/ANACACHE/cache_('K562OPT', 'K562OPT_2', 'K562SIM', 'weighted', 'contact', 'kr').pkl.npz\n",
      "Using cached data: /home/diego/disks/ANACACHE/cache_('HELAOPT', 'HELAOPT_2', 'HELASIM', 'weighted', 'contact', 'kr').pkl.npz\n",
      "Using cached data: /home/diego/disks/ANACACHE/cache_('STEMOPT', 'STEMOPT_2', 'STEMSIM', 'weighted', 'contact', 'kr').pkl.npz\n",
      "Using cached data: /home/diego/disks/ANACACHE/cache_('GM12878OPT', 'GM12878OPT_2', 'GM12878SIM', 'weighted', 'contact', 'kr').pkl.npz\n",
      "Using cached data: /home/diego/disks/ANACACHE/cache_('IMR90OPT', 'IMR90OPT_2', 'IMR90SIM', 'weighted', 'log2_contact', 'kr').pkl.npz\n",
      "Using cached data: /home/diego/disks/ANACACHE/cache_('K562OPT', 'K562OPT_2', 'K562SIM', 'weighted', 'log2_contact', 'kr').pkl.npz\n",
      "Using cached data: /home/diego/disks/ANACACHE/cache_('HELAOPT', 'HELAOPT_2', 'HELASIM', 'weighted', 'log2_contact', 'kr').pkl.npz\n",
      "Using cached data: /home/diego/disks/ANACACHE/cache_('STEMOPT', 'STEMOPT_2', 'STEMSIM', 'weighted', 'log2_contact', 'kr').pkl.npz\n",
      "Using cached data: /home/diego/disks/ANACACHE/cache_('GM12878OPT', 'GM12878OPT_2', 'GM12878SIM', 'weighted', 'log2_contact', 'kr').pkl.npz\n",
      "Using cached data: /home/diego/disks/ANACACHE/cache_('IMR90OPT', 'IMR90OPT_2', 'IMR90SIM', 'weighted', 'euclidean', 'log_transform').pkl.npz\n",
      "Using cached data: /home/diego/disks/ANACACHE/cache_('K562OPT', 'K562OPT_2', 'K562SIM', 'weighted', 'euclidean', 'log_transform').pkl.npz\n",
      "Using cached data: /home/diego/disks/ANACACHE/cache_('HELAOPT', 'HELAOPT_2', 'HELASIM', 'weighted', 'euclidean', 'log_transform').pkl.npz\n",
      "Using cached data: /home/diego/disks/ANACACHE/cache_('STEMOPT', 'STEMOPT_2', 'STEMSIM', 'weighted', 'euclidean', 'log_transform').pkl.npz\n",
      "Using cached data: /home/diego/disks/ANACACHE/cache_('GM12878OPT', 'GM12878OPT_2', 'GM12878SIM', 'weighted', 'euclidean', 'log_transform').pkl.npz\n",
      "No cached data, creating cache file /home/diego/disks/ANACACHE/cache_('IMR90OPT', 'IMR90OPT_2', 'IMR90SIM', 'weighted', 'pearsons', 'log_transform').pkl\n",
      "Processing IMR90OPT\n",
      "IMR90OPT has dist shape (20, 1173, 1173)\n"
     ]
    },
    {
     "name": "stderr",
     "output_type": "stream",
     "text": [
      "/home/diego/Dev/OpenMiChroM-Ana/test/../AnalysisTools/CompHelperCPU.py:362: RuntimeWarning: invalid value encountered in log2\n",
      "  return np.log2(m + 1)\n"
     ]
    },
    {
     "name": "stdout",
     "output_type": "stream",
     "text": [
      "Processing IMR90OPT_2\n",
      "IMR90OPT_2 has dist shape (20, 1173, 1173)\n",
      "Processing IMR90SIM\n",
      "IMR90SIM has dist shape (100, 1183, 1183)\n"
     ]
    },
    {
     "name": "stderr",
     "output_type": "stream",
     "text": [
      "/home/diego/Dev/OpenMiChroM-Ana/test/../AnalysisTools/CompHelperCPU.py:362: RuntimeWarning: divide by zero encountered in log2\n",
      "  return np.log2(m + 1)\n"
     ]
    },
    {
     "ename": "ValueError",
     "evalue": "all the input array dimensions except for the concatenation axis must match exactly, but along dimension 1, the array at index 0 has size 687378 and the array at index 40 has size 699153",
     "output_type": "error",
     "traceback": [
      "\u001b[0;31m---------------------------------------------------------------------------\u001b[0m",
      "\u001b[0;31mValueError\u001b[0m                                Traceback (most recent call last)",
      "Cell \u001b[0;32mIn[3], line 8\u001b[0m\n\u001b[1;32m      6\u001b[0m \u001b[38;5;28;01mfor\u001b[39;00m metric \u001b[38;5;129;01min\u001b[39;00m metrics:\n\u001b[1;32m      7\u001b[0m     \u001b[38;5;28;01mfor\u001b[39;00m ele \u001b[38;5;129;01min\u001b[39;00m seq:\n\u001b[0;32m----> 8\u001b[0m         \u001b[43manalysis\u001b[49m\u001b[38;5;241;43m.\u001b[39;49m\u001b[43mcalc_XZ\u001b[49m\u001b[43m(\u001b[49m\u001b[43mele\u001b[49m\u001b[43m[\u001b[49m\u001b[38;5;241;43m0\u001b[39;49m\u001b[43m]\u001b[49m\u001b[43m,\u001b[49m\u001b[43m \u001b[49m\u001b[43mele\u001b[49m\u001b[43m[\u001b[49m\u001b[38;5;241;43m1\u001b[39;49m\u001b[43m]\u001b[49m\u001b[43m,\u001b[49m\u001b[43m \u001b[49m\u001b[43mele\u001b[49m\u001b[43m[\u001b[49m\u001b[38;5;241;43m2\u001b[39;49m\u001b[43m]\u001b[49m\u001b[43m,\u001b[49m\u001b[43m \u001b[49m\u001b[43mmetric\u001b[49m\u001b[38;5;241;43m=\u001b[39;49m\u001b[43mmetric\u001b[49m\u001b[43m,\u001b[49m\u001b[43m \u001b[49m\u001b[43mnorm\u001b[49m\u001b[38;5;241;43m=\u001b[39;49m\u001b[43mnorm\u001b[49m\u001b[43m)\u001b[49m\n",
      "File \u001b[0;32m~/Dev/OpenMiChroM-Ana/test/../AnalysisTools/Ana.py:759\u001b[0m, in \u001b[0;36mAna.calc_XZ\u001b[0;34m(self, method, metric, norm, overrideCache, *args)\u001b[0m\n\u001b[1;32m    752\u001b[0m \u001b[38;5;66;03m# Flatten and stack distance matrices\u001b[39;00m\n\u001b[1;32m    753\u001b[0m flat_euclid_dist_map \u001b[38;5;241m=\u001b[39m {\n\u001b[1;32m    754\u001b[0m     label: [truncated_flat_euclid_dist_map[label][val][np\u001b[38;5;241m.\u001b[39mtriu_indices_from(truncated_flat_euclid_dist_map[label][val], k\u001b[38;5;241m=\u001b[39m\u001b[38;5;241m1\u001b[39m)]\u001b[38;5;241m.\u001b[39mflatten()\n\u001b[1;32m    755\u001b[0m             \u001b[38;5;28;01mfor\u001b[39;00m val \u001b[38;5;129;01min\u001b[39;00m \u001b[38;5;28mrange\u001b[39m(\u001b[38;5;28mlen\u001b[39m(truncated_flat_euclid_dist_map[label]))]\n\u001b[1;32m    756\u001b[0m     \u001b[38;5;28;01mfor\u001b[39;00m label \u001b[38;5;129;01min\u001b[39;00m args\n\u001b[1;32m    757\u001b[0m }\n\u001b[0;32m--> 759\u001b[0m X \u001b[38;5;241m=\u001b[39m \u001b[43mnp\u001b[49m\u001b[38;5;241;43m.\u001b[39;49m\u001b[43mvstack\u001b[49m\u001b[43m(\u001b[49m\u001b[43m[\u001b[49m\u001b[43mitem\u001b[49m\u001b[43m \u001b[49m\u001b[38;5;28;43;01mfor\u001b[39;49;00m\u001b[43m \u001b[49m\u001b[43msublist\u001b[49m\u001b[43m \u001b[49m\u001b[38;5;129;43;01min\u001b[39;49;00m\u001b[43m \u001b[49m\u001b[43mflat_euclid_dist_map\u001b[49m\u001b[38;5;241;43m.\u001b[39;49m\u001b[43mvalues\u001b[49m\u001b[43m(\u001b[49m\u001b[43m)\u001b[49m\u001b[43m \u001b[49m\u001b[38;5;28;43;01mfor\u001b[39;49;00m\u001b[43m \u001b[49m\u001b[43mitem\u001b[49m\u001b[43m \u001b[49m\u001b[38;5;129;43;01min\u001b[39;49;00m\u001b[43m \u001b[49m\u001b[43msublist\u001b[49m\u001b[43m]\u001b[49m\u001b[43m)\u001b[49m\n\u001b[1;32m    760\u001b[0m \u001b[38;5;28mprint\u001b[39m(\u001b[38;5;124mf\u001b[39m\u001b[38;5;124m\"\u001b[39m\u001b[38;5;124mFlattened distance array has shape: \u001b[39m\u001b[38;5;132;01m{\u001b[39;00mX\u001b[38;5;241m.\u001b[39mshape\u001b[38;5;132;01m}\u001b[39;00m\u001b[38;5;124m\"\u001b[39m)\n\u001b[1;32m    762\u001b[0m  \u001b[38;5;66;03m# Final check for non-finite values\u001b[39;00m\n",
      "File \u001b[0;32m~/.conda/envs/MICROM/lib/python3.12/site-packages/numpy/core/shape_base.py:289\u001b[0m, in \u001b[0;36mvstack\u001b[0;34m(tup, dtype, casting)\u001b[0m\n\u001b[1;32m    287\u001b[0m \u001b[38;5;28;01mif\u001b[39;00m \u001b[38;5;129;01mnot\u001b[39;00m \u001b[38;5;28misinstance\u001b[39m(arrs, \u001b[38;5;28mlist\u001b[39m):\n\u001b[1;32m    288\u001b[0m     arrs \u001b[38;5;241m=\u001b[39m [arrs]\n\u001b[0;32m--> 289\u001b[0m \u001b[38;5;28;01mreturn\u001b[39;00m \u001b[43m_nx\u001b[49m\u001b[38;5;241;43m.\u001b[39;49m\u001b[43mconcatenate\u001b[49m\u001b[43m(\u001b[49m\u001b[43marrs\u001b[49m\u001b[43m,\u001b[49m\u001b[43m \u001b[49m\u001b[38;5;241;43m0\u001b[39;49m\u001b[43m,\u001b[49m\u001b[43m \u001b[49m\u001b[43mdtype\u001b[49m\u001b[38;5;241;43m=\u001b[39;49m\u001b[43mdtype\u001b[49m\u001b[43m,\u001b[49m\u001b[43m \u001b[49m\u001b[43mcasting\u001b[49m\u001b[38;5;241;43m=\u001b[39;49m\u001b[43mcasting\u001b[49m\u001b[43m)\u001b[49m\n",
      "\u001b[0;31mValueError\u001b[0m: all the input array dimensions except for the concatenation axis must match exactly, but along dimension 1, the array at index 0 has size 687378 and the array at index 40 has size 699153"
     ]
    }
   ],
   "source": [
    "norms = ['ice', 'kr', 'log_transform', 'vc']\n",
    "metrics = ['euclidean', 'pearsons', 'spearman', 'contact', 'log2_contact']\n",
    "seq = [[\"IMR90OPT\", \"IMR90OPT_2\", \"IMR90SIM\"], [\"K562OPT\", \"K562OPT_2\", \"K562SIM\"],\n",
    "       [\"HELAOPT\", \"HELAOPT_2\", \"HELASIM\"], [\"STEMOPT\", \"STEMOPT_2\", \"STEMSIM\"], [\"GM12878OPT\", \"GM12878OPT_2\", \"GM12878SIM\"]]\n",
    "for norm in norms:\n",
    "    for metric in metrics:\n",
    "        for ele in seq:\n",
    "            analysis.calc_XZ(ele[0], ele[1], ele[2], metric=metric, norm=norm)"
   ]
  },
  {
   "cell_type": "markdown",
   "metadata": {},
   "source": [
    "## Dimensionality Reduction Techniques"
   ]
  },
  {
   "cell_type": "markdown",
   "metadata": {},
   "source": [
    "### PCA Analysis"
   ]
  },
  {
   "cell_type": "code",
   "execution_count": null,
   "metadata": {},
   "outputs": [],
   "source": [
    "for norm in norms:\n",
    "    for metric in metrics:\n",
    "        analysis.pca(\"IMR90OPT\", \"IMR90OPT57\", \"IMR90SIM\", metric=metric, n_components=1, norm=norm, n_clusters=2)"
   ]
  },
  {
   "cell_type": "markdown",
   "metadata": {},
   "source": [
    "## Expiremental Scaler with best pca norm x method x metric dataset"
   ]
  },
  {
   "cell_type": "code",
   "execution_count": null,
   "metadata": {},
   "outputs": [],
   "source": [
    "#_weighted_euclidean_log_transform.png\n",
    "metrics = ['euclidean', 'pearsons', 'spearman', 'contact', 'log2_contact']\n",
    "norms = ['ice', 'kr', 'log_transform', 'vc']\n",
    "from AnalysisTools.Plot_Helper import PlotHelper\n",
    "\n",
    "for norm in norms:\n",
    "    for metric in metrics:\n",
    "        X, Z = analysis.calc_XZ(\"IMR90SIM\", \"IMR90OPT\", \"IMR90OPT57\", method=\"weighted\", metric=metric, norm=norm, overrideCache=True, expiremental=True)\n",
    "        n_components = 1\n",
    "        pca, exp, com = comp.run_reduction('pca', X, 1)\n",
    "\n",
    "        plot_params = {\n",
    "            'outputFileName': f\"test00_{norm}_{metric}\",\n",
    "            'cmap': 'viridis',\n",
    "            'title': f'PCA of test',\n",
    "            'x_label': 'PC1',\n",
    "            'y_label': 'PC2' if n_components > 1 else 'Principal Component 1',\n",
    "            'z_label': 'PC3' if n_components > 2 else None,\n",
    "            'n_components': n_components,\n",
    "            'n_clusters': 2,\n",
    "            'method': \"weighted\",\n",
    "            'metric': \"euclidean\",\n",
    "            'norm': \"log_transform\",\n",
    "            'n_components_95': 1,\n",
    "            'size': 50,\n",
    "            'alpha': 0.7,\n",
    "        }\n",
    "\n",
    "        if n_components > 1:\n",
    "            plot_params['y_label'] = f'PC2 ({exp[1]:.2%} variance)'\n",
    "        else:\n",
    "            plot_params['y_label'] = 'Samples'\n",
    "\n",
    "\n",
    "        pl = PlotHelper()\n",
    "        pl.plot(plot_type=\"pcaplot\", data=(pca, exp, com), plot_params=plot_params)\n"
   ]
  },
  {
   "cell_type": "markdown",
   "metadata": {},
   "source": [
    "### UMAP Analysis"
   ]
  },
  {
   "cell_type": "code",
   "execution_count": null,
   "metadata": {},
   "outputs": [],
   "source": [
    "for norm in norms:\n",
    "    for metric in metrics:\n",
    "        for method in methods:\n",
    "            analysis.umap(\"IMR90OPT\", \"IMR90OPT57\", \"IMR90SIM\", metric=metric, n_clusters=2, norm=norm, method=method, n_components=1)"
   ]
  },
  {
   "cell_type": "markdown",
   "metadata": {},
   "source": [
    "### t-SNE Analysis"
   ]
  },
  {
   "cell_type": "code",
   "execution_count": null,
   "metadata": {},
   "outputs": [],
   "source": [
    "for norm in norms:\n",
    "    for metric in metrics:\n",
    "        for method in methods:\n",
    "            analysis.tsne(\"IMR90OPT\", \"IMR90OPT57\", \"IMR90SIM\", metric=metric, n_clusters=2, norm=norm, method=method, n_components=1)"
   ]
  },
  {
   "cell_type": "markdown",
   "metadata": {},
   "source": [
    "### MDS Analysis"
   ]
  },
  {
   "cell_type": "code",
   "execution_count": null,
   "metadata": {},
   "outputs": [],
   "source": [
    "for norm in norms:\n",
    "    for metric in metrics:\n",
    "        for method in methods:\n",
    "            analysis.mds(\"IMR90OPT\", \"IMR90OPT57\", \"IMR90SIM\", metric=metric, n_components=1, norm=norm, method=method)"
   ]
  },
  {
   "cell_type": "markdown",
   "metadata": {},
   "source": [
    "### SVD Analysis"
   ]
  },
  {
   "cell_type": "code",
   "execution_count": null,
   "metadata": {},
   "outputs": [],
   "source": [
    "for norm in norms:\n",
    "    for metric in metrics:\n",
    "        for method in methods:\n",
    "            analysis.svd(\"IMR90OPT\", \"IMR90OPT57\", \"IMR90SIM\", metric=metric, n_components=1, norm=norm, method=method, n_clusters=2)"
   ]
  },
  {
   "cell_type": "markdown",
   "metadata": {},
   "source": [
    "## Clustering Techniques"
   ]
  },
  {
   "cell_type": "markdown",
   "metadata": {},
   "source": [
    "### K-means Clustering"
   ]
  },
  {
   "cell_type": "code",
   "execution_count": null,
   "metadata": {},
   "outputs": [],
   "source": [
    "for norm in norms:\n",
    "    for metric in metrics:\n",
    "            analysis.kmeans_clustering(\"IMR90OPT\", \"IMR90OPT57\", \"IMR90SIM\", n_clusters=2, metric=metric, norm=norm)"
   ]
  },
  {
   "cell_type": "markdown",
   "metadata": {},
   "source": [
    "### DBSCAN Clustering"
   ]
  },
  {
   "cell_type": "code",
   "execution_count": null,
   "metadata": {},
   "outputs": [],
   "source": [
    "for norm in norms:\n",
    "    for metric in metrics:\n",
    "        for method in methods:\n",
    "            analysis.dbscan_clustering(\"IMR90OPT\", \"IMR90OPT56\", \"IMR90SIM\", eps=0.5, min_samples=5, metric=metric, norm=norm, method=method)"
   ]
  },
  {
   "cell_type": "markdown",
   "metadata": {},
   "source": [
    "### Hierarchical Clustering"
   ]
  },
  {
   "cell_type": "code",
   "execution_count": null,
   "metadata": {},
   "outputs": [],
   "source": [
    "for norm in norms:\n",
    "    for metric in metrics:\n",
    "        for method in methods:\n",
    "            analysis.hierarchical_clustering(\"IMR90OPT\", \"IMR90OPT56\", \"IMR90SIM\", n_clusters=5, metric=metric, norm=norm, method=method)"
   ]
  },
  {
   "cell_type": "code",
   "execution_count": null,
   "metadata": {},
   "outputs": [],
   "source": [
    "for norm in norms:\n",
    "    for metric in metrics:\n",
    "            analysis.spectral_clustering(\"IMR90OPT\", \"IMR90OPT57\", \"IMR90SIM\", n_clusters=2, n_components=2, metric=metric, norm=norm)"
   ]
  },
  {
   "cell_type": "markdown",
   "metadata": {},
   "source": [
    "### Spectral Clustering"
   ]
  },
  {
   "cell_type": "code",
   "execution_count": null,
   "metadata": {},
   "outputs": [],
   "source": [
    "for norm in norms:\n",
    "    for metric in metrics:\n",
    "            print(analysis.spectral_clustering(\"IMR90OPT\", \"IMR90OPT57\", \"IMR90SIM\", n_clusters=-1, n_components=1, metric=metric, norm=norm))"
   ]
  },
  {
   "cell_type": "markdown",
   "metadata": {},
   "source": [
    "### OPTICS Clustering"
   ]
  },
  {
   "cell_type": "code",
   "execution_count": null,
   "metadata": {},
   "outputs": [],
   "source": [
    "for norm in norms:\n",
    "    for metric in metrics:\n",
    "        for method in methods:\n",
    "            analysis.optics_clustering(\"IMR90OPT\", \"IMR90OPT56\", \"IMR90SIM\", min_samples=5, xi=0.05, min_cluster_size=0.05, metric=metric, norm=norm, method=method)"
   ]
  }
 ],
 "metadata": {
  "kernelspec": {
   "display_name": "Python 3",
   "language": "python",
   "name": "python3"
  },
  "language_info": {
   "codemirror_mode": {
    "name": "ipython",
    "version": 3
   },
   "file_extension": ".py",
   "mimetype": "text/x-python",
   "name": "python",
   "nbconvert_exporter": "python",
   "pygments_lexer": "ipython3",
   "version": "3.12.4"
  }
 },
 "nbformat": 4,
 "nbformat_minor": 4
}
