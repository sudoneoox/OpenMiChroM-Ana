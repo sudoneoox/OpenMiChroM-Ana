{
 "cells": [
  {
   "cell_type": "markdown",
   "metadata": {},
   "source": [
    "# Comprehensive Analysis of Datasets with Various Metrics, Norms, and Methods"
   ]
  },
  {
   "cell_type": "code",
   "execution_count": 3,
   "metadata": {},
   "outputs": [
    {
     "ename": "ImportError",
     "evalue": "cannot import name 'ComputeHelpers' from 'AnalysisTools.Comp_Helper_CPU' (/home/diego/Dev/OpenMiChroM-Ana/test/../AnalysisTools/Comp_Helper_CPU.py)",
     "output_type": "error",
     "traceback": [
      "\u001b[0;31m---------------------------------------------------------------------------\u001b[0m",
      "\u001b[0;31mImportError\u001b[0m                               Traceback (most recent call last)",
      "Cell \u001b[0;32mIn[3], line 5\u001b[0m\n\u001b[1;32m      2\u001b[0m sys\u001b[38;5;241m.\u001b[39mpath\u001b[38;5;241m.\u001b[39mappend(\u001b[38;5;124m'\u001b[39m\u001b[38;5;124m../\u001b[39m\u001b[38;5;124m'\u001b[39m)\n\u001b[1;32m      4\u001b[0m \u001b[38;5;28;01mimport\u001b[39;00m \u001b[38;5;21;01mnumpy\u001b[39;00m \u001b[38;5;28;01mas\u001b[39;00m \u001b[38;5;21;01mnp\u001b[39;00m\n\u001b[0;32m----> 5\u001b[0m \u001b[38;5;28;01mfrom\u001b[39;00m \u001b[38;5;21;01mAnalysisTools\u001b[39;00m \u001b[38;5;28;01mimport\u001b[39;00m Ana\n\u001b[1;32m      6\u001b[0m \u001b[38;5;28;01mfrom\u001b[39;00m \u001b[38;5;21;01mAnalysisTools\u001b[39;00m \u001b[38;5;28;01mimport\u001b[39;00m Comp_Helper_CPU \u001b[38;5;28;01mas\u001b[39;00m ComputeHelpersCPU\n\u001b[1;32m      8\u001b[0m \u001b[38;5;66;03m# Initialize the analysis object\u001b[39;00m\n",
      "File \u001b[0;32m~/Dev/OpenMiChroM-Ana/test/../AnalysisTools/__init__.py:34\u001b[0m\n\u001b[1;32m      2\u001b[0m \u001b[38;5;124;03m\"\"\"\u001b[39;00m\n\u001b[1;32m      3\u001b[0m \u001b[38;5;124;03mOpenMiChroM-Ana: A package for analyzing chromosome structure data.\u001b[39;00m\n\u001b[1;32m      4\u001b[0m \n\u001b[0;32m   (...)\u001b[0m\n\u001b[1;32m     30\u001b[0m \u001b[38;5;124;03mNote: GPU support requires a CUDA-enabled GPU and appropriate CUDA toolkit installation.\u001b[39;00m\n\u001b[1;32m     31\u001b[0m \u001b[38;5;124;03m\"\"\"\u001b[39;00m\n\u001b[0;32m---> 34\u001b[0m \u001b[38;5;28;01mfrom\u001b[39;00m \u001b[38;5;21;01m.\u001b[39;00m\u001b[38;5;21;01mComp_Helper_CPU\u001b[39;00m \u001b[38;5;28;01mimport\u001b[39;00m ComputeHelpers\n\u001b[1;32m     35\u001b[0m \u001b[38;5;66;03m# from .Comp_Helper_GPU import ComputeHelpersGPU\u001b[39;00m\n\u001b[1;32m     37\u001b[0m \u001b[38;5;28;01mfrom\u001b[39;00m \u001b[38;5;21;01m.\u001b[39;00m\u001b[38;5;21;01mPlot_Helper\u001b[39;00m \u001b[38;5;28;01mimport\u001b[39;00m PlotHelper\n",
      "\u001b[0;31mImportError\u001b[0m: cannot import name 'ComputeHelpers' from 'AnalysisTools.Comp_Helper_CPU' (/home/diego/Dev/OpenMiChroM-Ana/test/../AnalysisTools/Comp_Helper_CPU.py)"
     ]
    }
   ],
   "source": [
    "import sys\n",
    "sys.path.append('../')\n",
    "\n",
    "import numpy as np\n",
    "from AnalysisTools import Ana\n",
    "from AnalysisTools import ComputeHelpersCPU\n",
    "\n",
    "# Initialize the analysis object\n",
    "cachePath = '/home/diego/disks/ANACACHE'\n",
    "comp = ComputeHelpersCPU(memory_location=cachePath, memory_verbosity=0, n_jobs=8)\n",
    "analysis = Ana(showPlots=True, execution_mode=comp, cacheStoragePath=cachePath)\n",
    "\n",
    "# Add datasets\n",
    "analysis.add_dataset(label=\"IMR90SIM\", folder=\"data/IMR90SIM\")\n",
    "analysis.add_dataset(label='IMR90OPT', folder='data/IMR90OPT')\n",
    "analysis.add_dataset(label=\"IMR90OPT57\", folder='data/IMR90OPT56')\n",
    "\n",
    "# Process trajectories for each dataset\n",
    "analysis.process_trajectories(label=\"IMR90SIM\", filename=\"traj_chr_IMR90OPT_0.cndb\", folder_pattern=['iteration_', [1, 20]])\n",
    "analysis.process_trajectories(label=\"IMR90OPT\", filename=\"traj_0.cndb\", folder_pattern=['iteration_', [1, 20]])\n",
    "analysis.process_trajectories(label=\"IMR90OPT57\", filename=\"traj_0.cndb\", folder_pattern=['iteration_', [1, 20]])"
   ]
  },
  {
   "cell_type": "markdown",
   "metadata": {},
   "source": [
    "## Generate and Cache Distance Matrices"
   ]
  },
  {
   "cell_type": "code",
   "execution_count": 2,
   "metadata": {},
   "outputs": [
    {
     "name": "stdout",
     "output_type": "stream",
     "text": [
      "Using cached data: /home/diego/disks/ANACACHE/cache_('IMR90OPT', 'IMR90OPT57', 'IMR90SIM', 'single', 'euclidean', 'ice').pkl.npz\n",
      "Using cached data: /home/diego/disks/ANACACHE/cache_('IMR90OPT', 'IMR90OPT57', 'IMR90SIM', 'complete', 'euclidean', 'ice').pkl.npz\n",
      "Using cached data: /home/diego/disks/ANACACHE/cache_('IMR90OPT', 'IMR90OPT57', 'IMR90SIM', 'average', 'euclidean', 'ice').pkl.npz\n",
      "Using cached data: /home/diego/disks/ANACACHE/cache_('IMR90OPT', 'IMR90OPT57', 'IMR90SIM', 'weighted', 'euclidean', 'ice').pkl.npz\n",
      "Using cached data: /home/diego/disks/ANACACHE/cache_('IMR90OPT', 'IMR90OPT57', 'IMR90SIM', 'single', 'pearsons', 'ice').pkl.npz\n",
      "Using cached data: /home/diego/disks/ANACACHE/cache_('IMR90OPT', 'IMR90OPT57', 'IMR90SIM', 'complete', 'pearsons', 'ice').pkl.npz\n",
      "Using cached data: /home/diego/disks/ANACACHE/cache_('IMR90OPT', 'IMR90OPT57', 'IMR90SIM', 'average', 'pearsons', 'ice').pkl.npz\n",
      "Using cached data: /home/diego/disks/ANACACHE/cache_('IMR90OPT', 'IMR90OPT57', 'IMR90SIM', 'weighted', 'pearsons', 'ice').pkl.npz\n",
      "Using cached data: /home/diego/disks/ANACACHE/cache_('IMR90OPT', 'IMR90OPT57', 'IMR90SIM', 'single', 'spearman', 'ice').pkl.npz\n",
      "Using cached data: /home/diego/disks/ANACACHE/cache_('IMR90OPT', 'IMR90OPT57', 'IMR90SIM', 'complete', 'spearman', 'ice').pkl.npz\n",
      "Using cached data: /home/diego/disks/ANACACHE/cache_('IMR90OPT', 'IMR90OPT57', 'IMR90SIM', 'average', 'spearman', 'ice').pkl.npz\n",
      "Using cached data: /home/diego/disks/ANACACHE/cache_('IMR90OPT', 'IMR90OPT57', 'IMR90SIM', 'weighted', 'spearman', 'ice').pkl.npz\n",
      "Using cached data: /home/diego/disks/ANACACHE/cache_('IMR90OPT', 'IMR90OPT57', 'IMR90SIM', 'single', 'contact', 'ice').pkl.npz\n",
      "Using cached data: /home/diego/disks/ANACACHE/cache_('IMR90OPT', 'IMR90OPT57', 'IMR90SIM', 'complete', 'contact', 'ice').pkl.npz\n",
      "Using cached data: /home/diego/disks/ANACACHE/cache_('IMR90OPT', 'IMR90OPT57', 'IMR90SIM', 'average', 'contact', 'ice').pkl.npz\n",
      "Using cached data: /home/diego/disks/ANACACHE/cache_('IMR90OPT', 'IMR90OPT57', 'IMR90SIM', 'weighted', 'contact', 'ice').pkl.npz\n",
      "Using cached data: /home/diego/disks/ANACACHE/cache_('IMR90OPT', 'IMR90OPT57', 'IMR90SIM', 'single', 'log2_contact', 'ice').pkl.npz\n",
      "Using cached data: /home/diego/disks/ANACACHE/cache_('IMR90OPT', 'IMR90OPT57', 'IMR90SIM', 'complete', 'log2_contact', 'ice').pkl.npz\n",
      "Using cached data: /home/diego/disks/ANACACHE/cache_('IMR90OPT', 'IMR90OPT57', 'IMR90SIM', 'average', 'log2_contact', 'ice').pkl.npz\n",
      "Using cached data: /home/diego/disks/ANACACHE/cache_('IMR90OPT', 'IMR90OPT57', 'IMR90SIM', 'weighted', 'log2_contact', 'ice').pkl.npz\n",
      "Using cached data: /home/diego/disks/ANACACHE/cache_('IMR90OPT', 'IMR90OPT57', 'IMR90SIM', 'single', 'euclidean', 'kr').pkl.npz\n",
      "Using cached data: /home/diego/disks/ANACACHE/cache_('IMR90OPT', 'IMR90OPT57', 'IMR90SIM', 'complete', 'euclidean', 'kr').pkl.npz\n",
      "Using cached data: /home/diego/disks/ANACACHE/cache_('IMR90OPT', 'IMR90OPT57', 'IMR90SIM', 'average', 'euclidean', 'kr').pkl.npz\n",
      "Using cached data: /home/diego/disks/ANACACHE/cache_('IMR90OPT', 'IMR90OPT57', 'IMR90SIM', 'weighted', 'euclidean', 'kr').pkl.npz\n",
      "Using cached data: /home/diego/disks/ANACACHE/cache_('IMR90OPT', 'IMR90OPT57', 'IMR90SIM', 'single', 'pearsons', 'kr').pkl.npz\n",
      "Using cached data: /home/diego/disks/ANACACHE/cache_('IMR90OPT', 'IMR90OPT57', 'IMR90SIM', 'complete', 'pearsons', 'kr').pkl.npz\n",
      "Using cached data: /home/diego/disks/ANACACHE/cache_('IMR90OPT', 'IMR90OPT57', 'IMR90SIM', 'average', 'pearsons', 'kr').pkl.npz\n",
      "Using cached data: /home/diego/disks/ANACACHE/cache_('IMR90OPT', 'IMR90OPT57', 'IMR90SIM', 'weighted', 'pearsons', 'kr').pkl.npz\n",
      "No cached data, creating cache file /home/diego/disks/ANACACHE/cache_('IMR90OPT', 'IMR90OPT57', 'IMR90SIM', 'single', 'spearman', 'kr').pkl\n",
      "Processing IMR90OPT\n"
     ]
    },
    {
     "name": "stderr",
     "output_type": "stream",
     "text": [
      "2024-07-21 03:26:51.497959: E external/local_xla/xla/stream_executor/cuda/cuda_fft.cc:485] Unable to register cuFFT factory: Attempting to register factory for plugin cuFFT when one has already been registered\n",
      "2024-07-21 03:26:51.519362: E external/local_xla/xla/stream_executor/cuda/cuda_dnn.cc:8454] Unable to register cuDNN factory: Attempting to register factory for plugin cuDNN when one has already been registered\n",
      "2024-07-21 03:26:51.526192: E external/local_xla/xla/stream_executor/cuda/cuda_blas.cc:1452] Unable to register cuBLAS factory: Attempting to register factory for plugin cuBLAS when one has already been registered\n",
      "2024-07-21 03:26:51.539954: I tensorflow/core/platform/cpu_feature_guard.cc:210] This TensorFlow binary is optimized to use available CPU instructions in performance-critical operations.\n",
      "To enable the following instructions: AVX2 FMA, in other operations, rebuild TensorFlow with the appropriate compiler flags.\n",
      "2024-07-21 03:26:51.668647: E external/local_xla/xla/stream_executor/cuda/cuda_fft.cc:485] Unable to register cuFFT factory: Attempting to register factory for plugin cuFFT when one has already been registered\n",
      "2024-07-21 03:26:51.669592: E external/local_xla/xla/stream_executor/cuda/cuda_fft.cc:485] Unable to register cuFFT factory: Attempting to register factory for plugin cuFFT when one has already been registered\n",
      "2024-07-21 03:26:51.692163: E external/local_xla/xla/stream_executor/cuda/cuda_dnn.cc:8454] Unable to register cuDNN factory: Attempting to register factory for plugin cuDNN when one has already been registered\n",
      "2024-07-21 03:26:51.695575: E external/local_xla/xla/stream_executor/cuda/cuda_dnn.cc:8454] Unable to register cuDNN factory: Attempting to register factory for plugin cuDNN when one has already been registered\n",
      "2024-07-21 03:26:51.699806: E external/local_xla/xla/stream_executor/cuda/cuda_blas.cc:1452] Unable to register cuBLAS factory: Attempting to register factory for plugin cuBLAS when one has already been registered\n",
      "2024-07-21 03:26:51.703774: E external/local_xla/xla/stream_executor/cuda/cuda_blas.cc:1452] Unable to register cuBLAS factory: Attempting to register factory for plugin cuBLAS when one has already been registered\n",
      "2024-07-21 03:26:51.716440: I tensorflow/core/platform/cpu_feature_guard.cc:210] This TensorFlow binary is optimized to use available CPU instructions in performance-critical operations.\n",
      "To enable the following instructions: AVX2 FMA, in other operations, rebuild TensorFlow with the appropriate compiler flags.\n",
      "2024-07-21 03:26:51.720353: I tensorflow/core/platform/cpu_feature_guard.cc:210] This TensorFlow binary is optimized to use available CPU instructions in performance-critical operations.\n",
      "To enable the following instructions: AVX2 FMA, in other operations, rebuild TensorFlow with the appropriate compiler flags.\n",
      "2024-07-21 03:26:51.759149: E external/local_xla/xla/stream_executor/cuda/cuda_fft.cc:485] Unable to register cuFFT factory: Attempting to register factory for plugin cuFFT when one has already been registered\n",
      "2024-07-21 03:26:51.772057: E external/local_xla/xla/stream_executor/cuda/cuda_fft.cc:485] Unable to register cuFFT factory: Attempting to register factory for plugin cuFFT when one has already been registered\n",
      "2024-07-21 03:26:51.781783: E external/local_xla/xla/stream_executor/cuda/cuda_dnn.cc:8454] Unable to register cuDNN factory: Attempting to register factory for plugin cuDNN when one has already been registered\n",
      "2024-07-21 03:26:51.789023: E external/local_xla/xla/stream_executor/cuda/cuda_blas.cc:1452] Unable to register cuBLAS factory: Attempting to register factory for plugin cuBLAS when one has already been registered\n",
      "2024-07-21 03:26:51.793234: E external/local_xla/xla/stream_executor/cuda/cuda_fft.cc:485] Unable to register cuFFT factory: Attempting to register factory for plugin cuFFT when one has already been registered\n",
      "2024-07-21 03:26:51.808830: I tensorflow/core/platform/cpu_feature_guard.cc:210] This TensorFlow binary is optimized to use available CPU instructions in performance-critical operations.\n",
      "To enable the following instructions: AVX2 FMA, in other operations, rebuild TensorFlow with the appropriate compiler flags.\n",
      "2024-07-21 03:26:51.818709: E external/local_xla/xla/stream_executor/cuda/cuda_dnn.cc:8454] Unable to register cuDNN factory: Attempting to register factory for plugin cuDNN when one has already been registered\n",
      "2024-07-21 03:26:51.823723: E external/local_xla/xla/stream_executor/cuda/cuda_dnn.cc:8454] Unable to register cuDNN factory: Attempting to register factory for plugin cuDNN when one has already been registered\n",
      "2024-07-21 03:26:51.826109: E external/local_xla/xla/stream_executor/cuda/cuda_blas.cc:1452] Unable to register cuBLAS factory: Attempting to register factory for plugin cuBLAS when one has already been registered\n",
      "2024-07-21 03:26:51.831040: E external/local_xla/xla/stream_executor/cuda/cuda_blas.cc:1452] Unable to register cuBLAS factory: Attempting to register factory for plugin cuBLAS when one has already been registered\n",
      "2024-07-21 03:26:51.847427: I tensorflow/core/platform/cpu_feature_guard.cc:210] This TensorFlow binary is optimized to use avai2024-07-21 03:26:51.847427: I tensorflow/core/platform/cpu_feature_guard.cc:210] This TensorFlow binary is optimized to use available CPU instructions in performance-critical operations.\n",
      "To enable the following instructions: AVX2 FMA, in other operations, rebuild TensorFlow with the appropriate compiler flags.\n",
      "lable CPU instructions in performance-critical operations.\n",
      "To enable the following instructions: AVX2 FMA, in other operations, rebuild TensorFlow with the appropriate compiler flags.\n",
      "2024-07-21 03:26:51.859137: E external/local_xla/xla/stream_executor/cuda/cuda_fft.cc:485] Unable to register cuFFT factory: Attempting to register factory for plugin cuFFT when one has already been registered\n",
      "2024-07-21 03:26:51.870474: E external/local_xla/xla/stream_executor/cuda/cuda_fft.cc:485] Unable to register cuFFT factory: Attempting to register factory for plugin cuFFT when one has already been registered\n",
      "2024-07-21 03:26:51.883712: E external/local_xla/xla/stream_executor/cuda/cuda_dnn.cc:8454] Unable to register cuDNN factory: Attempting to register factory for plugin cuDNN when one has already been registered\n",
      "2024-07-21 03:26:51.891052: E external/local_xla/xla/stream_executor/cuda/cuda_blas.cc:1452] Unable to register cuBLAS factory: Attempting to register factory for plugin cuBLAS when one has already been registered\n",
      "2024-07-21 03:26:51.891875: E external/local_xla/xla/stream_executor/cuda/cuda_dnn.cc:8454] Unable to register cuDNN factory: Attempting to register factory for plugin cuDNN when one has already been registered\n",
      "2024-07-21 03:26:51.898111: E external/local_xla/xla/stream_executor/cuda/cuda_blas.cc:1452] Unable to register cuBLAS factory: Attempting to register factory for plugin cuBLAS when one has already been registered\n",
      "2024-07-21 03:26:51.910339: I tensorflow/core/platform/cpu_feature_guard.cc:210] This TensorFlow binary is optimized to use available CPU instructions in performance-critical operations.\n",
      "To enable the following instructions: AVX2 FMA, in other operations, rebuild TensorFlow with the appropriate compiler flags.\n",
      "2024-07-21 03:26:51.913970: I tensorflow/core/platform/cpu_feature_guard.cc:210] This TensorFlow binary is optimized to use available CPU instructions in performance-critical operations.\n",
      "To enable the following instructions: AVX2 FMA, in other operations, rebuild TensorFlow with the appropriate compiler flags.\n",
      "2024-07-21 03:26:51.977253: E external/local_xla/xla/stream_executor/cuda/cuda_fft.cc:485] Unable to register cuFFT factory: Attempting to register factory for plugin cuFFT when one has already been registered\n",
      "2024-07-21 03:26:52.003096: E external/local_xla/xla/stream_executor/cuda/cuda_dnn.cc:8454] Unable to register cuDNN factory: Attempting to register factory for plugin cuDNN when one has already been registered\n",
      "2024-07-21 03:26:52.010011: E external/local_xla/xla/stream_executor/cuda/cuda_blas.cc:1452] Unable to register cuBLAS factory: Attempting to register factory for plugin cuBLAS when one has already been registered\n",
      "2024-07-21 03:26:52.028199: I tensorflow/core/platform/cpu_feature_guard.cc:210] This TensorFlow binary is optimized to use available CPU instructions in performance-critical operations.\n",
      "To enable the following instructions: AVX2 FMA, in other operations, rebuild TensorFlow with the appropriate compiler flags.\n",
      "2024-07-21 03:26:52.271606: E external/local_xla/xla/stream_executor/cuda/cuda_fft.cc:485] Unable to register cuFFT factory: Attempting to register factory for plugin cuFFT when one has already been registered\n",
      "2024-07-21 03:26:52.308398: E external/local_xla/xla/stream_executor/cuda/cuda_dnn.cc:8454] Unable to register cuDNN factory: Attempting to register factory for plugin cuDNN when one has already been registered\n",
      "2024-07-21 03:26:52.318795: E external/local_xla/xla/stream_executor/cuda/cuda_blas.cc:1452] Unable to register cuBLAS factory: Attempting to register factory for plugin cuBLAS when one has already been registered\n",
      "2024-07-21 03:26:52.345175: I tensorflow/core/platform/cpu_feature_guard.cc:210] This TensorFlow binary is optimized to use available CPU instructions in performance-critical operations.\n",
      "To enable the following instructions: AVX2 FMA, in other operations, rebuild TensorFlow with the appropriate compiler flags.\n",
      "2024-07-21 03:26:52.743860: W tensorflow/compiler/tf2tensorrt/utils/py_utils.cc:38] TF-TRT Warning: Could not find TensorRT\n",
      "2024-07-21 03:26:52.761812: E external/local_xla/xla/stream_executor/cuda/cuda_fft.cc:485] Unable to register cuFFT factory: Attempting to register factory for plugin cuFFT when one has already been registered\n",
      "2024-07-21 03:26:52.786624: E external/local_xla/xla/stream_executor/cuda/cuda_dnn.cc:8454] Unable to register cuDNN factory: Attempting to register factory for plugin cuDNN when one has already been registered\n",
      "2024-07-21 03:26:52.794082: E external/local_xla/xla/stream_executor/cuda/cuda_blas.cc:1452] Unable to register cuBLAS factory: Attempting to register factory for plugin cuBLAS when one has already been registered\n",
      "2024-07-21 03:26:52.810906: I tensorflow/core/platform/cpu_feature_guard.cc:210] This TensorFlow binary is optimized to use available CPU instructions in performance-critical operations.\n",
      "To enable the following instructions: AVX2 FMA, in other operations, rebuild TensorFlow with the appropriate compiler flags.\n",
      "2024-07-21 03:26:52.886987: E external/local_xla/xla/stream_executor/cuda/cuda_fft.cc:485] Unable to register cuFFT factory: Attempting to register factory for plugin cuFFT when one has already been registered\n",
      "2024-07-21 03:26:52.910339: E external/local_xla/xla/stream_executor/cuda/cuda_dnn.cc:8454] Unable to register cuDNN factory: Attempting to register factory for plugin cuDNN when one has already been registered\n",
      "2024-07-21 03:26:52.923974: E external/local_xla/xla/stream_executor/cuda/cuda_blas.cc:1452] Unable to register cuBLAS factory: Attempting to register factory for plugin cuBLAS when one has already been registered\n",
      "2024-07-21 03:26:52.949046: I tensorflow/core/platform/cpu_feature_guard.cc:210] This TensorFlow binary is optimized to use available CPU instructions in performance-critical operations.\n",
      "To enable the following instructions: AVX2 FMA, in other operations, rebuild TensorFlow with the appropriate compiler flags.\n",
      "2024-07-21 03:26:52.992919: W tensorflow/compiler/tf2tensorrt/utils/py_utils.cc:38] TF-TRT Warning: Could not find TensorRT\n",
      "2024-07-21 03:26:53.078105: W tensorflow/compiler/tf2tensorrt/utils/py_utils.cc:38] TF-TRT Warning: Could not find TensorRT\n",
      "2024-07-21 03:26:53.165071: W tensorflow/compiler/tf2tensorrt/utils/py_utils.cc:38] TF-TRT Warning: Could not find TensorRT\n",
      "2024-07-21 03:26:53.187515: W tensorflow/compiler/tf2tensorrt/utils/py_utils.cc:38] TF-TRT Warning: Could not find TensorRT\n",
      "2024-07-21 03:26:53.252568: W tensorflow/compiler/tf2tensorrt/utils/py_utils.cc:38] TF-TRT Warning: Could not find TensorRT\n",
      "2024-07-21 03:26:53.306961: W tensorflow/compiler/tf2tensorrt/utils/py_utils.cc:38] TF-TRT Warning: Could not find TensorRT\n",
      "2024-07-21 03:26:53.365646: W tensorflow/compiler/tf2tensorrt/utils/py_utils.cc:38] TF-TRT Warning: Could not find TensorRT\n",
      "2024-07-21 03:26:53.458424: W tensorflow/compiler/tf2tensorrt/utils/py_utils.cc:38] TF-TRT Warning: Could not find TensorRT\n",
      "2024-07-21 03:26:53.807420: W tensorflow/compiler/tf2tensorrt/utils/py_utils.cc:38] TF-TRT Warning: Could not find TensorRT\n",
      "2024-07-21 03:26:54.206115: W tensorflow/compiler/tf2tensorrt/utils/py_utils.cc:38] TF-TRT Warning: Could not find TensorRT\n",
      "2024-07-21 03:26:54.283874: W tensorflow/compiler/tf2tensorrt/utils/py_utils.cc:38] TF-TRT Warning: Could not find TensorRT\n"
     ]
    },
    {
     "name": "stdout",
     "output_type": "stream",
     "text": [
      "IMR90OPT has dist shape (20, 1173, 1173)\n",
      "Processing IMR90OPT57\n",
      "IMR90OPT57 has dist shape (20, 1173, 1173)\n",
      "Processing IMR90SIM\n",
      "IMR90SIM has dist shape (100, 1183, 1183)\n",
      "Flattened distance array has shape: (140, 699153)\n",
      "No cached data, creating cache file /home/diego/disks/ANACACHE/cache_('IMR90OPT', 'IMR90OPT57', 'IMR90SIM', 'complete', 'spearman', 'kr').pkl\n",
      "Processing IMR90OPT\n",
      "IMR90OPT has dist shape (20, 1173, 1173)\n",
      "Processing IMR90OPT57\n",
      "IMR90OPT57 has dist shape (20, 1173, 1173)\n",
      "Processing IMR90SIM\n",
      "IMR90SIM has dist shape (100, 1183, 1183)\n",
      "Flattened distance array has shape: (140, 699153)\n",
      "No cached data, creating cache file /home/diego/disks/ANACACHE/cache_('IMR90OPT', 'IMR90OPT57', 'IMR90SIM', 'average', 'spearman', 'kr').pkl\n",
      "Processing IMR90OPT\n",
      "IMR90OPT has dist shape (20, 1173, 1173)\n",
      "Processing IMR90OPT57\n",
      "IMR90OPT57 has dist shape (20, 1173, 1173)\n",
      "Processing IMR90SIM\n",
      "IMR90SIM has dist shape (100, 1183, 1183)\n",
      "Flattened distance array has shape: (140, 699153)\n",
      "No cached data, creating cache file /home/diego/disks/ANACACHE/cache_('IMR90OPT', 'IMR90OPT57', 'IMR90SIM', 'weighted', 'spearman', 'kr').pkl\n",
      "Processing IMR90OPT\n",
      "IMR90OPT has dist shape (20, 1173, 1173)\n",
      "Processing IMR90OPT57\n",
      "IMR90OPT57 has dist shape (20, 1173, 1173)\n",
      "Processing IMR90SIM\n",
      "IMR90SIM has dist shape (100, 1183, 1183)\n",
      "Flattened distance array has shape: (140, 699153)\n",
      "No cached data, creating cache file /home/diego/disks/ANACACHE/cache_('IMR90OPT', 'IMR90OPT57', 'IMR90SIM', 'single', 'contact', 'kr').pkl\n",
      "Processing IMR90OPT\n",
      "IMR90OPT has dist shape (20, 1173, 1173)\n",
      "Processing IMR90OPT57\n",
      "IMR90OPT57 has dist shape (20, 1173, 1173)\n",
      "Processing IMR90SIM\n",
      "IMR90SIM has dist shape (100, 1183, 1183)\n",
      "Flattened distance array has shape: (140, 699153)\n",
      "No cached data, creating cache file /home/diego/disks/ANACACHE/cache_('IMR90OPT', 'IMR90OPT57', 'IMR90SIM', 'complete', 'contact', 'kr').pkl\n",
      "Processing IMR90OPT\n",
      "IMR90OPT has dist shape (20, 1173, 1173)\n",
      "Processing IMR90OPT57\n",
      "IMR90OPT57 has dist shape (20, 1173, 1173)\n",
      "Processing IMR90SIM\n",
      "IMR90SIM has dist shape (100, 1183, 1183)\n",
      "Flattened distance array has shape: (140, 699153)\n",
      "No cached data, creating cache file /home/diego/disks/ANACACHE/cache_('IMR90OPT', 'IMR90OPT57', 'IMR90SIM', 'average', 'contact', 'kr').pkl\n",
      "Processing IMR90OPT\n",
      "IMR90OPT has dist shape (20, 1173, 1173)\n",
      "Processing IMR90OPT57\n",
      "IMR90OPT57 has dist shape (20, 1173, 1173)\n",
      "Processing IMR90SIM\n",
      "IMR90SIM has dist shape (100, 1183, 1183)\n",
      "Flattened distance array has shape: (140, 699153)\n",
      "No cached data, creating cache file /home/diego/disks/ANACACHE/cache_('IMR90OPT', 'IMR90OPT57', 'IMR90SIM', 'weighted', 'contact', 'kr').pkl\n",
      "Processing IMR90OPT\n",
      "IMR90OPT has dist shape (20, 1173, 1173)\n",
      "Processing IMR90OPT57\n",
      "IMR90OPT57 has dist shape (20, 1173, 1173)\n",
      "Processing IMR90SIM\n",
      "IMR90SIM has dist shape (100, 1183, 1183)\n",
      "Flattened distance array has shape: (140, 699153)\n",
      "No cached data, creating cache file /home/diego/disks/ANACACHE/cache_('IMR90OPT', 'IMR90OPT57', 'IMR90SIM', 'single', 'log2_contact', 'kr').pkl\n",
      "Processing IMR90OPT\n"
     ]
    },
    {
     "name": "stderr",
     "output_type": "stream",
     "text": [
      "/home/diego/Dev/OpenMiChroM-Ana/test/../AnalysisTools/Comp_Helper_CPU.py:320: RuntimeWarning: invalid value encountered in log2\n",
      "  epsilon = np.finfo(float).eps\n",
      "/home/diego/Dev/OpenMiChroM-Ana/test/../AnalysisTools/Comp_Helper_CPU.py:320: RuntimeWarning: invalid value encountered in log2\n",
      "  epsilon = np.finfo(float).eps\n",
      "/home/diego/Dev/OpenMiChroM-Ana/test/../AnalysisTools/Comp_Helper_CPU.py:320: RuntimeWarning: invalid value encountered in log2\n",
      "  epsilon = np.finfo(float).eps\n",
      "/home/diego/Dev/OpenMiChroM-Ana/test/../AnalysisTools/Comp_Helper_CPU.py:320: RuntimeWarning: invalid value encountered in log2\n",
      "  epsilon = np.finfo(float).eps\n",
      "/home/diego/Dev/OpenMiChroM-Ana/test/../AnalysisTools/Comp_Helper_CPU.py:320: RuntimeWarning: invalid value encountered in log2\n",
      "  epsilon = np.finfo(float).eps\n",
      "/home/diego/Dev/OpenMiChroM-Ana/test/../AnalysisTools/Comp_Helper_CPU.py:320: RuntimeWarning: invalid value encountered in log2\n",
      "  epsilon = np.finfo(float).eps\n",
      "/home/diego/Dev/OpenMiChroM-Ana/test/../AnalysisTools/Comp_Helper_CPU.py:320: RuntimeWarning: invalid value encountered in log2\n",
      "  epsilon = np.finfo(float).eps\n",
      "/home/diego/Dev/OpenMiChroM-Ana/test/../AnalysisTools/Comp_Helper_CPU.py:320: RuntimeWarning: invalid value encountered in log2\n",
      "  epsilon = np.finfo(float).eps\n",
      "/home/diego/Dev/OpenMiChroM-Ana/test/../AnalysisTools/Comp_Helper_CPU.py:320: RuntimeWarning: invalid value encountered in log2\n",
      "  epsilon = np.finfo(float).eps\n",
      "/home/diego/Dev/OpenMiChroM-Ana/test/../AnalysisTools/Comp_Helper_CPU.py:320: RuntimeWarning: invalid value encountered in log2\n",
      "  epsilon = np.finfo(float).eps\n",
      "/home/diego/Dev/OpenMiChroM-Ana/test/../AnalysisTools/Comp_Helper_CPU.py:320: RuntimeWarning: invalid value encountered in log2\n",
      "  epsilon = np.finfo(float).eps\n",
      "/home/diego/Dev/OpenMiChroM-Ana/test/../AnalysisTools/Comp_Helper_CPU.py:320: RuntimeWarning: invalid value encountered in log2\n",
      "  epsilon = np.finfo(float).eps\n"
     ]
    },
    {
     "name": "stdout",
     "output_type": "stream",
     "text": [
      "IMR90OPT has dist shape (20, 1173, 1173)\n",
      "Processing IMR90OPT57\n",
      "IMR90OPT57 has dist shape (20, 1173, 1173)\n",
      "Processing IMR90SIM\n",
      "IMR90SIM has dist shape (100, 1183, 1183)\n",
      "Flattened distance array has shape: (140, 699153)\n",
      "No cached data, creating cache file /home/diego/disks/ANACACHE/cache_('IMR90OPT', 'IMR90OPT57', 'IMR90SIM', 'complete', 'log2_contact', 'kr').pkl\n",
      "Processing IMR90OPT\n",
      "IMR90OPT has dist shape (20, 1173, 1173)\n",
      "Processing IMR90OPT57\n",
      "IMR90OPT57 has dist shape (20, 1173, 1173)\n",
      "Processing IMR90SIM\n",
      "IMR90SIM has dist shape (100, 1183, 1183)\n",
      "Flattened distance array has shape: (140, 699153)\n",
      "No cached data, creating cache file /home/diego/disks/ANACACHE/cache_('IMR90OPT', 'IMR90OPT57', 'IMR90SIM', 'average', 'log2_contact', 'kr').pkl\n",
      "Processing IMR90OPT\n",
      "IMR90OPT has dist shape (20, 1173, 1173)\n",
      "Processing IMR90OPT57\n",
      "IMR90OPT57 has dist shape (20, 1173, 1173)\n",
      "Processing IMR90SIM\n",
      "IMR90SIM has dist shape (100, 1183, 1183)\n",
      "Flattened distance array has shape: (140, 699153)\n",
      "No cached data, creating cache file /home/diego/disks/ANACACHE/cache_('IMR90OPT', 'IMR90OPT57', 'IMR90SIM', 'weighted', 'log2_contact', 'kr').pkl\n",
      "Processing IMR90OPT\n",
      "IMR90OPT has dist shape (20, 1173, 1173)\n",
      "Processing IMR90OPT57\n",
      "IMR90OPT57 has dist shape (20, 1173, 1173)\n",
      "Processing IMR90SIM\n",
      "IMR90SIM has dist shape (100, 1183, 1183)\n",
      "Flattened distance array has shape: (140, 699153)\n",
      "No cached data, creating cache file /home/diego/disks/ANACACHE/cache_('IMR90OPT', 'IMR90OPT57', 'IMR90SIM', 'single', 'euclidean', 'log_transform').pkl\n",
      "Processing IMR90OPT\n",
      "IMR90OPT has dist shape (20, 1173, 1173)\n",
      "Processing IMR90OPT57\n",
      "IMR90OPT57 has dist shape (20, 1173, 1173)\n",
      "Processing IMR90SIM\n",
      "IMR90SIM has dist shape (100, 1183, 1183)\n",
      "Flattened distance array has shape: (140, 699153)\n",
      "No cached data, creating cache file /home/diego/disks/ANACACHE/cache_('IMR90OPT', 'IMR90OPT57', 'IMR90SIM', 'complete', 'euclidean', 'log_transform').pkl\n",
      "Processing IMR90OPT\n",
      "IMR90OPT has dist shape (20, 1173, 1173)\n",
      "Processing IMR90OPT57\n",
      "IMR90OPT57 has dist shape (20, 1173, 1173)\n",
      "Processing IMR90SIM\n",
      "IMR90SIM has dist shape (100, 1183, 1183)\n",
      "Flattened distance array has shape: (140, 699153)\n",
      "No cached data, creating cache file /home/diego/disks/ANACACHE/cache_('IMR90OPT', 'IMR90OPT57', 'IMR90SIM', 'average', 'euclidean', 'log_transform').pkl\n",
      "Processing IMR90OPT\n",
      "IMR90OPT has dist shape (20, 1173, 1173)\n",
      "Processing IMR90OPT57\n",
      "IMR90OPT57 has dist shape (20, 1173, 1173)\n",
      "Processing IMR90SIM\n",
      "IMR90SIM has dist shape (100, 1183, 1183)\n",
      "Flattened distance array has shape: (140, 699153)\n",
      "No cached data, creating cache file /home/diego/disks/ANACACHE/cache_('IMR90OPT', 'IMR90OPT57', 'IMR90SIM', 'weighted', 'euclidean', 'log_transform').pkl\n",
      "Processing IMR90OPT\n",
      "IMR90OPT has dist shape (20, 1173, 1173)\n",
      "Processing IMR90OPT57\n",
      "IMR90OPT57 has dist shape (20, 1173, 1173)\n",
      "Processing IMR90SIM\n",
      "IMR90SIM has dist shape (100, 1183, 1183)\n",
      "Flattened distance array has shape: (140, 699153)\n",
      "No cached data, creating cache file /home/diego/disks/ANACACHE/cache_('IMR90OPT', 'IMR90OPT57', 'IMR90SIM', 'single', 'pearsons', 'log_transform').pkl\n",
      "Processing IMR90OPT\n",
      "IMR90OPT has dist shape (20, 1173, 1173)\n",
      "Processing IMR90OPT57\n",
      "IMR90OPT57 has dist shape (20, 1173, 1173)\n",
      "Processing IMR90SIM\n",
      "IMR90SIM has dist shape (100, 1183, 1183)\n",
      "Flattened distance array has shape: (140, 699153)\n",
      "No cached data, creating cache file /home/diego/disks/ANACACHE/cache_('IMR90OPT', 'IMR90OPT57', 'IMR90SIM', 'complete', 'pearsons', 'log_transform').pkl\n",
      "Processing IMR90OPT\n",
      "IMR90OPT has dist shape (20, 1173, 1173)\n",
      "Processing IMR90OPT57\n",
      "IMR90OPT57 has dist shape (20, 1173, 1173)\n",
      "Processing IMR90SIM\n",
      "IMR90SIM has dist shape (100, 1183, 1183)\n",
      "Flattened distance array has shape: (140, 699153)\n",
      "No cached data, creating cache file /home/diego/disks/ANACACHE/cache_('IMR90OPT', 'IMR90OPT57', 'IMR90SIM', 'average', 'pearsons', 'log_transform').pkl\n",
      "Processing IMR90OPT\n",
      "IMR90OPT has dist shape (20, 1173, 1173)\n",
      "Processing IMR90OPT57\n",
      "IMR90OPT57 has dist shape (20, 1173, 1173)\n",
      "Processing IMR90SIM\n",
      "IMR90SIM has dist shape (100, 1183, 1183)\n",
      "Flattened distance array has shape: (140, 699153)\n",
      "No cached data, creating cache file /home/diego/disks/ANACACHE/cache_('IMR90OPT', 'IMR90OPT57', 'IMR90SIM', 'weighted', 'pearsons', 'log_transform').pkl\n",
      "Processing IMR90OPT\n",
      "IMR90OPT has dist shape (20, 1173, 1173)\n",
      "Processing IMR90OPT57\n",
      "IMR90OPT57 has dist shape (20, 1173, 1173)\n",
      "Processing IMR90SIM\n",
      "IMR90SIM has dist shape (100, 1183, 1183)\n",
      "Flattened distance array has shape: (140, 699153)\n",
      "No cached data, creating cache file /home/diego/disks/ANACACHE/cache_('IMR90OPT', 'IMR90OPT57', 'IMR90SIM', 'single', 'spearman', 'log_transform').pkl\n",
      "Processing IMR90OPT\n",
      "IMR90OPT has dist shape (20, 1173, 1173)\n",
      "Processing IMR90OPT57\n",
      "IMR90OPT57 has dist shape (20, 1173, 1173)\n",
      "Processing IMR90SIM\n",
      "IMR90SIM has dist shape (100, 1183, 1183)\n",
      "Flattened distance array has shape: (140, 699153)\n",
      "No cached data, creating cache file /home/diego/disks/ANACACHE/cache_('IMR90OPT', 'IMR90OPT57', 'IMR90SIM', 'complete', 'spearman', 'log_transform').pkl\n",
      "Processing IMR90OPT\n",
      "IMR90OPT has dist shape (20, 1173, 1173)\n",
      "Processing IMR90OPT57\n",
      "IMR90OPT57 has dist shape (20, 1173, 1173)\n",
      "Processing IMR90SIM\n",
      "IMR90SIM has dist shape (100, 1183, 1183)\n",
      "Flattened distance array has shape: (140, 699153)\n",
      "No cached data, creating cache file /home/diego/disks/ANACACHE/cache_('IMR90OPT', 'IMR90OPT57', 'IMR90SIM', 'average', 'spearman', 'log_transform').pkl\n",
      "Processing IMR90OPT\n",
      "IMR90OPT has dist shape (20, 1173, 1173)\n",
      "Processing IMR90OPT57\n",
      "IMR90OPT57 has dist shape (20, 1173, 1173)\n",
      "Processing IMR90SIM\n",
      "IMR90SIM has dist shape (100, 1183, 1183)\n",
      "Flattened distance array has shape: (140, 699153)\n",
      "No cached data, creating cache file /home/diego/disks/ANACACHE/cache_('IMR90OPT', 'IMR90OPT57', 'IMR90SIM', 'weighted', 'spearman', 'log_transform').pkl\n",
      "Processing IMR90OPT\n",
      "IMR90OPT has dist shape (20, 1173, 1173)\n",
      "Processing IMR90OPT57\n",
      "IMR90OPT57 has dist shape (20, 1173, 1173)\n",
      "Processing IMR90SIM\n",
      "IMR90SIM has dist shape (100, 1183, 1183)\n",
      "Flattened distance array has shape: (140, 699153)\n",
      "No cached data, creating cache file /home/diego/disks/ANACACHE/cache_('IMR90OPT', 'IMR90OPT57', 'IMR90SIM', 'single', 'contact', 'log_transform').pkl\n",
      "Processing IMR90OPT\n",
      "IMR90OPT has dist shape (20, 1173, 1173)\n",
      "Processing IMR90OPT57\n",
      "IMR90OPT57 has dist shape (20, 1173, 1173)\n",
      "Processing IMR90SIM\n",
      "IMR90SIM has dist shape (100, 1183, 1183)\n",
      "Flattened distance array has shape: (140, 699153)\n",
      "No cached data, creating cache file /home/diego/disks/ANACACHE/cache_('IMR90OPT', 'IMR90OPT57', 'IMR90SIM', 'complete', 'contact', 'log_transform').pkl\n",
      "Processing IMR90OPT\n",
      "IMR90OPT has dist shape (20, 1173, 1173)\n",
      "Processing IMR90OPT57\n",
      "IMR90OPT57 has dist shape (20, 1173, 1173)\n",
      "Processing IMR90SIM\n",
      "IMR90SIM has dist shape (100, 1183, 1183)\n",
      "Flattened distance array has shape: (140, 699153)\n",
      "No cached data, creating cache file /home/diego/disks/ANACACHE/cache_('IMR90OPT', 'IMR90OPT57', 'IMR90SIM', 'average', 'contact', 'log_transform').pkl\n",
      "Processing IMR90OPT\n",
      "IMR90OPT has dist shape (20, 1173, 1173)\n",
      "Processing IMR90OPT57\n",
      "IMR90OPT57 has dist shape (20, 1173, 1173)\n",
      "Processing IMR90SIM\n",
      "IMR90SIM has dist shape (100, 1183, 1183)\n",
      "Flattened distance array has shape: (140, 699153)\n"
     ]
    },
    {
     "ename": "KeyboardInterrupt",
     "evalue": "",
     "output_type": "error",
     "traceback": [
      "\u001b[0;31m---------------------------------------------------------------------------\u001b[0m",
      "\u001b[0;31mKeyboardInterrupt\u001b[0m                         Traceback (most recent call last)",
      "Cell \u001b[0;32mIn[2], line 9\u001b[0m\n\u001b[1;32m      7\u001b[0m \u001b[38;5;28;01mfor\u001b[39;00m metric \u001b[38;5;129;01min\u001b[39;00m metrics:\n\u001b[1;32m      8\u001b[0m     \u001b[38;5;28;01mfor\u001b[39;00m method \u001b[38;5;129;01min\u001b[39;00m methods:\n\u001b[0;32m----> 9\u001b[0m         \u001b[43manalysis\u001b[49m\u001b[38;5;241;43m.\u001b[39;49m\u001b[43mcalc_XZ\u001b[49m\u001b[43m(\u001b[49m\u001b[38;5;124;43m\"\u001b[39;49m\u001b[38;5;124;43mIMR90OPT\u001b[39;49m\u001b[38;5;124;43m\"\u001b[39;49m\u001b[43m,\u001b[49m\u001b[43m \u001b[49m\u001b[38;5;124;43m\"\u001b[39;49m\u001b[38;5;124;43mIMR90OPT57\u001b[39;49m\u001b[38;5;124;43m\"\u001b[39;49m\u001b[43m,\u001b[49m\u001b[43m \u001b[49m\u001b[38;5;124;43m\"\u001b[39;49m\u001b[38;5;124;43mIMR90SIM\u001b[39;49m\u001b[38;5;124;43m\"\u001b[39;49m\u001b[43m,\u001b[49m\u001b[43m \u001b[49m\u001b[43mmetric\u001b[49m\u001b[38;5;241;43m=\u001b[39;49m\u001b[43mmetric\u001b[49m\u001b[43m,\u001b[49m\u001b[43m \u001b[49m\u001b[43mnorm\u001b[49m\u001b[38;5;241;43m=\u001b[39;49m\u001b[43mnorm\u001b[49m\u001b[43m,\u001b[49m\u001b[43m \u001b[49m\u001b[43mmethod\u001b[49m\u001b[38;5;241;43m=\u001b[39;49m\u001b[43mmethod\u001b[49m\u001b[43m)\u001b[49m\n",
      "File \u001b[0;32m~/Dev/OpenMiChroM-Ana/test/../AnalysisTools/Ana.py:608\u001b[0m, in \u001b[0;36mcalc_XZ\u001b[0;34m(self, method, metric, norm, *args)\u001b[0m\n\u001b[1;32m    598\u001b[0m padded_flat_euclid_dist_map \u001b[38;5;241m=\u001b[39m {\n\u001b[1;32m    599\u001b[0m     label: [np\u001b[38;5;241m.\u001b[39mpad(val, ((\u001b[38;5;241m0\u001b[39m, max_shape[\u001b[38;5;241m0\u001b[39m] \u001b[38;5;241m-\u001b[39m val\u001b[38;5;241m.\u001b[39mshape[\u001b[38;5;241m0\u001b[39m]), (\u001b[38;5;241m0\u001b[39m, max_shape[\u001b[38;5;241m1\u001b[39m] \u001b[38;5;241m-\u001b[39m val\u001b[38;5;241m.\u001b[39mshape[\u001b[38;5;241m1\u001b[39m]))) \n\u001b[1;32m    600\u001b[0m             \u001b[38;5;28;01mfor\u001b[39;00m val \u001b[38;5;129;01min\u001b[39;00m sublist] \n\u001b[1;32m    601\u001b[0m     \u001b[38;5;28;01mfor\u001b[39;00m label, sublist \u001b[38;5;129;01min\u001b[39;00m flat_euclid_dist_map\u001b[38;5;241m.\u001b[39mitems()\n\u001b[1;32m    602\u001b[0m }\n\u001b[1;32m    604\u001b[0m \u001b[38;5;66;03m# Flatten and stack distance matrices\u001b[39;00m\n\u001b[1;32m    605\u001b[0m flat_euclid_dist_map \u001b[38;5;241m=\u001b[39m {\n\u001b[1;32m    606\u001b[0m     label: [padded_flat_euclid_dist_map[label][val][np\u001b[38;5;241m.\u001b[39mtriu_indices_from(padded_flat_euclid_dist_map[label][val], k\u001b[38;5;241m=\u001b[39m\u001b[38;5;241m1\u001b[39m)]\u001b[38;5;241m.\u001b[39mflatten()\n\u001b[1;32m    607\u001b[0m             \u001b[38;5;28;01mfor\u001b[39;00m val \u001b[38;5;129;01min\u001b[39;00m \u001b[38;5;28mrange\u001b[39m(\u001b[38;5;28mlen\u001b[39m(padded_flat_euclid_dist_map[label]))]\n\u001b[0;32m--> 608\u001b[0m     \u001b[38;5;28;01mfor\u001b[39;00m label \u001b[38;5;129;01min\u001b[39;00m args\n\u001b[1;32m    609\u001b[0m }\n\u001b[1;32m    611\u001b[0m X \u001b[38;5;241m=\u001b[39m np\u001b[38;5;241m.\u001b[39mvstack([item \u001b[38;5;28;01mfor\u001b[39;00m sublist \u001b[38;5;129;01min\u001b[39;00m flat_euclid_dist_map\u001b[38;5;241m.\u001b[39mvalues() \u001b[38;5;28;01mfor\u001b[39;00m item \u001b[38;5;129;01min\u001b[39;00m sublist])\n\u001b[1;32m    612\u001b[0m \u001b[38;5;28mprint\u001b[39m(\u001b[38;5;124mf\u001b[39m\u001b[38;5;124m\"\u001b[39m\u001b[38;5;124mFlattened distance array has shape: \u001b[39m\u001b[38;5;132;01m{\u001b[39;00mX\u001b[38;5;241m.\u001b[39mshape\u001b[38;5;132;01m}\u001b[39;00m\u001b[38;5;124m\"\u001b[39m)\n",
      "File \u001b[0;32m~/.conda/envs/MICROM/lib/python3.12/site-packages/scipy/cluster/hierarchy.py:1024\u001b[0m, in \u001b[0;36mlinkage\u001b[0;34m(y, method, metric, optimal_ordering)\u001b[0m\n\u001b[1;32m   1018\u001b[0m     \u001b[38;5;28;01mif\u001b[39;00m (y\u001b[38;5;241m.\u001b[39mshape[\u001b[38;5;241m0\u001b[39m] \u001b[38;5;241m==\u001b[39m y\u001b[38;5;241m.\u001b[39mshape[\u001b[38;5;241m1\u001b[39m] \u001b[38;5;129;01mand\u001b[39;00m np\u001b[38;5;241m.\u001b[39mallclose(np\u001b[38;5;241m.\u001b[39mdiag(y), \u001b[38;5;241m0\u001b[39m) \u001b[38;5;129;01mand\u001b[39;00m\n\u001b[1;32m   1019\u001b[0m             xp\u001b[38;5;241m.\u001b[39mall(y \u001b[38;5;241m>\u001b[39m\u001b[38;5;241m=\u001b[39m \u001b[38;5;241m0\u001b[39m) \u001b[38;5;129;01mand\u001b[39;00m np\u001b[38;5;241m.\u001b[39mallclose(y, y\u001b[38;5;241m.\u001b[39mT)):\n\u001b[1;32m   1020\u001b[0m         warnings\u001b[38;5;241m.\u001b[39mwarn(\u001b[38;5;124m'\u001b[39m\u001b[38;5;124mThe symmetric non-negative hollow observation \u001b[39m\u001b[38;5;124m'\u001b[39m\n\u001b[1;32m   1021\u001b[0m                       \u001b[38;5;124m'\u001b[39m\u001b[38;5;124mmatrix looks suspiciously like an uncondensed \u001b[39m\u001b[38;5;124m'\u001b[39m\n\u001b[1;32m   1022\u001b[0m                       \u001b[38;5;124m'\u001b[39m\u001b[38;5;124mdistance matrix\u001b[39m\u001b[38;5;124m'\u001b[39m,\n\u001b[1;32m   1023\u001b[0m                       ClusterWarning, stacklevel\u001b[38;5;241m=\u001b[39m\u001b[38;5;241m2\u001b[39m)\n\u001b[0;32m-> 1024\u001b[0m     y \u001b[38;5;241m=\u001b[39m \u001b[43mdistance\u001b[49m\u001b[38;5;241;43m.\u001b[39;49m\u001b[43mpdist\u001b[49m\u001b[43m(\u001b[49m\u001b[43my\u001b[49m\u001b[43m,\u001b[49m\u001b[43m \u001b[49m\u001b[43mmetric\u001b[49m\u001b[43m)\u001b[49m\n\u001b[1;32m   1025\u001b[0m     y \u001b[38;5;241m=\u001b[39m xp\u001b[38;5;241m.\u001b[39masarray(y)\n\u001b[1;32m   1026\u001b[0m \u001b[38;5;28;01melse\u001b[39;00m:\n",
      "File \u001b[0;32m~/.conda/envs/MICROM/lib/python3.12/site-packages/scipy/spatial/distance.py:2180\u001b[0m, in \u001b[0;36mpdist\u001b[0;34m(X, metric, out, **kwargs)\u001b[0m\n\u001b[1;32m   2178\u001b[0m \u001b[38;5;28;01mif\u001b[39;00m metric_info \u001b[38;5;129;01mis\u001b[39;00m \u001b[38;5;129;01mnot\u001b[39;00m \u001b[38;5;28;01mNone\u001b[39;00m:\n\u001b[1;32m   2179\u001b[0m     pdist_fn \u001b[38;5;241m=\u001b[39m metric_info\u001b[38;5;241m.\u001b[39mpdist_func\n\u001b[0;32m-> 2180\u001b[0m     \u001b[38;5;28;01mreturn\u001b[39;00m \u001b[43mpdist_fn\u001b[49m\u001b[43m(\u001b[49m\u001b[43mX\u001b[49m\u001b[43m,\u001b[49m\u001b[43m \u001b[49m\u001b[43mout\u001b[49m\u001b[38;5;241;43m=\u001b[39;49m\u001b[43mout\u001b[49m\u001b[43m,\u001b[49m\u001b[43m \u001b[49m\u001b[38;5;241;43m*\u001b[39;49m\u001b[38;5;241;43m*\u001b[39;49m\u001b[43mkwargs\u001b[49m\u001b[43m)\u001b[49m\n\u001b[1;32m   2181\u001b[0m \u001b[38;5;28;01melif\u001b[39;00m mstr\u001b[38;5;241m.\u001b[39mstartswith(\u001b[38;5;124m\"\u001b[39m\u001b[38;5;124mtest_\u001b[39m\u001b[38;5;124m\"\u001b[39m):\n\u001b[1;32m   2182\u001b[0m     metric_info \u001b[38;5;241m=\u001b[39m _TEST_METRICS\u001b[38;5;241m.\u001b[39mget(mstr, \u001b[38;5;28;01mNone\u001b[39;00m)\n",
      "\u001b[0;31mKeyboardInterrupt\u001b[0m: "
     ]
    }
   ],
   "source": [
    "norms = ['ice', 'kr', 'log_transform', 'vc']\n",
    "metrics = ['euclidean', 'pearsons', 'spearman', 'contact', 'log2_contact']\n",
    "methods = ['single', 'complete', 'average', 'weighted']\n",
    "#! note single/spearman/ice leads to division of 0 and all data gets set to 1 to avoid division of 0 error\n",
    "#! note single/log2_contact/ice leads to division of 0 and all data divided by zero will be set to 0\n",
    "for norm in norms:\n",
    "    for metric in metrics:\n",
    "        for method in methods:\n",
    "            analysis.calc_XZ(\"IMR90OPT\", \"IMR90OPT57\", \"IMR90SIM\", metric=metric, norm=norm, method=method)"
   ]
  },
  {
   "cell_type": "markdown",
   "metadata": {},
   "source": [
    "## Dimensionality Reduction Techniques"
   ]
  },
  {
   "cell_type": "markdown",
   "metadata": {},
   "source": [
    "### PCA Analysis"
   ]
  },
  {
   "cell_type": "code",
   "execution_count": 4,
   "metadata": {},
   "outputs": [
    {
     "name": "stdout",
     "output_type": "stream",
     "text": [
      "Using cached data: /home/diego/disks/ANACACHE/cache_('IMR90OPT', 'IMR90OPT57', 'IMR90SIM', 'single', 'euclidean', 'ice').pkl.npz\n"
     ]
    },
    {
     "ename": "TypeError",
     "evalue": "ComputeHelpers.run_reduction() takes 4 positional arguments but 5 were given",
     "output_type": "error",
     "traceback": [
      "\u001b[0;31m---------------------------------------------------------------------------\u001b[0m",
      "\u001b[0;31mTypeError\u001b[0m                                 Traceback (most recent call last)",
      "Cell \u001b[0;32mIn[4], line 4\u001b[0m\n\u001b[1;32m      2\u001b[0m \u001b[38;5;28;01mfor\u001b[39;00m metric \u001b[38;5;129;01min\u001b[39;00m metrics:\n\u001b[1;32m      3\u001b[0m     \u001b[38;5;28;01mfor\u001b[39;00m method \u001b[38;5;129;01min\u001b[39;00m methods:\n\u001b[0;32m----> 4\u001b[0m         \u001b[43manalysis\u001b[49m\u001b[38;5;241;43m.\u001b[39;49m\u001b[43mpca\u001b[49m\u001b[43m(\u001b[49m\u001b[38;5;124;43m\"\u001b[39;49m\u001b[38;5;124;43mIMR90OPT\u001b[39;49m\u001b[38;5;124;43m\"\u001b[39;49m\u001b[43m,\u001b[49m\u001b[43m \u001b[49m\u001b[38;5;124;43m\"\u001b[39;49m\u001b[38;5;124;43mIMR90OPT57\u001b[39;49m\u001b[38;5;124;43m\"\u001b[39;49m\u001b[43m,\u001b[49m\u001b[43m \u001b[49m\u001b[38;5;124;43m\"\u001b[39;49m\u001b[38;5;124;43mIMR90SIM\u001b[39;49m\u001b[38;5;124;43m\"\u001b[39;49m\u001b[43m,\u001b[49m\u001b[43m \u001b[49m\u001b[43mmetric\u001b[49m\u001b[38;5;241;43m=\u001b[39;49m\u001b[43mmetric\u001b[49m\u001b[43m,\u001b[49m\u001b[43m \u001b[49m\u001b[43mn_components\u001b[49m\u001b[38;5;241;43m=\u001b[39;49m\u001b[38;5;241;43m-\u001b[39;49m\u001b[38;5;241;43m1\u001b[39;49m\u001b[43m,\u001b[49m\u001b[43m \u001b[49m\u001b[43mnorm\u001b[49m\u001b[38;5;241;43m=\u001b[39;49m\u001b[43mnorm\u001b[49m\u001b[43m,\u001b[49m\u001b[43m \u001b[49m\u001b[43mmethod\u001b[49m\u001b[38;5;241;43m=\u001b[39;49m\u001b[43mmethod\u001b[49m\u001b[43m)\u001b[49m\n",
      "File \u001b[0;32m~/Dev/OpenMiChroM-Ana/test/../AnalysisTools/Ana.py:223\u001b[0m, in \u001b[0;36mpca\u001b[0;34m(self, method, metric, norm, n_components, *args)\u001b[0m\n\u001b[1;32m    219\u001b[0m     \u001b[38;5;28mself\u001b[39m\u001b[38;5;241m.\u001b[39mplot_helper\u001b[38;5;241m.\u001b[39mplot(plot_type\u001b[38;5;241m=\u001b[39m\u001b[38;5;124m\"\u001b[39m\u001b[38;5;124meuclidiandistmap\u001b[39m\u001b[38;5;124m\"\u001b[39m, data\u001b[38;5;241m=\u001b[39m[\u001b[38;5;28mself\u001b[39m\u001b[38;5;241m.\u001b[39mdatasets[label][\u001b[38;5;124m\"\u001b[39m\u001b[38;5;124mdistance_array\u001b[39m\u001b[38;5;124m\"\u001b[39m]], plot_params\u001b[38;5;241m=\u001b[39mplot_params)\n\u001b[1;32m    221\u001b[0m     \u001b[38;5;28;01mreturn\u001b[39;00m \u001b[38;5;28mself\u001b[39m\u001b[38;5;241m.\u001b[39mdatasets[label][\u001b[38;5;124m'\u001b[39m\u001b[38;5;124mdistance_array\u001b[39m\u001b[38;5;124m'\u001b[39m]\n\u001b[0;32m--> 223\u001b[0m \u001b[38;5;28;01mdef\u001b[39;00m \u001b[38;5;21mpca\u001b[39m(\u001b[38;5;28mself\u001b[39m, \u001b[38;5;241m*\u001b[39margs: \u001b[38;5;28mstr\u001b[39m, method: \u001b[38;5;28mstr\u001b[39m \u001b[38;5;241m=\u001b[39m \u001b[38;5;124m'\u001b[39m\u001b[38;5;124mweighted\u001b[39m\u001b[38;5;124m'\u001b[39m, metric: \u001b[38;5;28mstr\u001b[39m \u001b[38;5;241m=\u001b[39m \u001b[38;5;124m'\u001b[39m\u001b[38;5;124meuclidean\u001b[39m\u001b[38;5;124m'\u001b[39m, norm: \u001b[38;5;28mstr\u001b[39m \u001b[38;5;241m=\u001b[39m \u001b[38;5;124m'\u001b[39m\u001b[38;5;124mice\u001b[39m\u001b[38;5;124m'\u001b[39m, n_components: \u001b[38;5;28mint\u001b[39m \u001b[38;5;241m=\u001b[39m \u001b[38;5;241m2\u001b[39m) \u001b[38;5;241m-\u001b[39m\u001b[38;5;241m>\u001b[39m \u001b[38;5;28mtuple\u001b[39m:\n\u001b[1;32m    224\u001b[0m \u001b[38;5;250m    \u001b[39m\u001b[38;5;124;03m\"\"\"\u001b[39;00m\n\u001b[1;32m    225\u001b[0m \u001b[38;5;124;03m    Performs PCA on the datasets and returns the principal components and explained variance.\u001b[39;00m\n\u001b[1;32m    226\u001b[0m \n\u001b[0;32m   (...)\u001b[0m\n\u001b[1;32m    233\u001b[0m \u001b[38;5;124;03m        tuple: (np.array, np.array) The principal components and the explained variance ratio.\u001b[39;00m\n\u001b[1;32m    234\u001b[0m \u001b[38;5;124;03m    \"\"\"\u001b[39;00m\n\u001b[1;32m    235\u001b[0m     X, Z \u001b[38;5;241m=\u001b[39m \u001b[38;5;28mself\u001b[39m\u001b[38;5;241m.\u001b[39mcalc_XZ(\u001b[38;5;241m*\u001b[39margs, method\u001b[38;5;241m=\u001b[39mmethod, metric\u001b[38;5;241m=\u001b[39mmetric, norm\u001b[38;5;241m=\u001b[39mnorm)\n",
      "\u001b[0;31mTypeError\u001b[0m: ComputeHelpers.run_reduction() takes 4 positional arguments but 5 were given"
     ]
    }
   ],
   "source": [
    "for norm in norms:\n",
    "    for metric in metrics:\n",
    "        for method in methods:\n",
    "            analysis.pca(\"IMR90OPT\", \"IMR90OPT57\", \"IMR90SIM\", metric=metric, n_components=-1, norm=norm, method=method)"
   ]
  },
  {
   "cell_type": "markdown",
   "metadata": {},
   "source": [
    "### UMAP Analysis"
   ]
  },
  {
   "cell_type": "code",
   "execution_count": null,
   "metadata": {},
   "outputs": [],
   "source": [
    "for norm in norms:\n",
    "    for metric in metrics:\n",
    "        for method in methods:\n",
    "            analysis.umap(\"IMR90OPT\", \"IMR90OPT56\", \"IMR90SIM\", metric=metric, num_clusters=-1, norm=norm, method=method)"
   ]
  },
  {
   "cell_type": "markdown",
   "metadata": {},
   "source": [
    "### t-SNE Analysis"
   ]
  },
  {
   "cell_type": "code",
   "execution_count": null,
   "metadata": {},
   "outputs": [],
   "source": [
    "for norm in norms:\n",
    "    for metric in metrics:\n",
    "        for method in methods:\n",
    "            analysis.tsne(\"IMR90OPT\", \"IMR90OPT56\", \"IMR90SIM\", metric=metric, num_clusters=-1, norm=norm, method=method)"
   ]
  },
  {
   "cell_type": "markdown",
   "metadata": {},
   "source": [
    "### MDS Analysis"
   ]
  },
  {
   "cell_type": "code",
   "execution_count": null,
   "metadata": {},
   "outputs": [],
   "source": [
    "for norm in norms:\n",
    "    for metric in metrics:\n",
    "        for method in methods:\n",
    "            analysis.mds(\"IMR90OPT\", \"IMR90OPT56\", \"IMR90SIM\", metric=metric, n_components=-1, norm=norm, method=method)"
   ]
  },
  {
   "cell_type": "markdown",
   "metadata": {},
   "source": [
    "### SVD Analysis"
   ]
  },
  {
   "cell_type": "code",
   "execution_count": null,
   "metadata": {},
   "outputs": [],
   "source": [
    "for norm in norms:\n",
    "    for metric in metrics:\n",
    "        for method in methods:\n",
    "            analysis.svd(\"IMR90OPT\", \"IMR90OPT56\", \"IMR90SIM\", metric=metric, n_components=-1, norm=norm, method=method)"
   ]
  },
  {
   "cell_type": "markdown",
   "metadata": {},
   "source": [
    "## Clustering Techniques"
   ]
  },
  {
   "cell_type": "markdown",
   "metadata": {},
   "source": [
    "### K-means Clustering"
   ]
  },
  {
   "cell_type": "code",
   "execution_count": null,
   "metadata": {},
   "outputs": [],
   "source": [
    "for norm in norms:\n",
    "    for metric in metrics:\n",
    "        for method in methods:\n",
    "            analysis.kmeans_clustering(\"IMR90OPT\", \"IMR90OPT56\", \"IMR90SIM\", n_clusters=5, metric=metric, norm=norm, method=method)"
   ]
  },
  {
   "cell_type": "markdown",
   "metadata": {},
   "source": [
    "### DBSCAN Clustering"
   ]
  },
  {
   "cell_type": "code",
   "execution_count": null,
   "metadata": {},
   "outputs": [],
   "source": [
    "for norm in norms:\n",
    "    for metric in metrics:\n",
    "        for method in methods:\n",
    "            analysis.dbscan_clustering(\"IMR90OPT\", \"IMR90OPT56\", \"IMR90SIM\", eps=0.5, min_samples=5, metric=metric, norm=norm, method=method)"
   ]
  },
  {
   "cell_type": "markdown",
   "metadata": {},
   "source": [
    "### Hierarchical Clustering"
   ]
  },
  {
   "cell_type": "code",
   "execution_count": null,
   "metadata": {},
   "outputs": [],
   "source": [
    "for norm in norms:\n",
    "    for metric in metrics:\n",
    "        for method in methods:\n",
    "            analysis.hierarchical_clustering(\"IMR90OPT\", \"IMR90OPT56\", \"IMR90SIM\", n_clusters=5, metric=metric, norm=norm, method=method)"
   ]
  },
  {
   "cell_type": "markdown",
   "metadata": {},
   "source": [
    "### Spectral Clustering"
   ]
  },
  {
   "cell_type": "code",
   "execution_count": null,
   "metadata": {},
   "outputs": [],
   "source": [
    "for norm in norms:\n",
    "    for metric in metrics:\n",
    "        for method in methods:\n",
    "            analysis.spectral_clustering(\"IMR90OPT\", \"IMR90OPT56\", \"IMR90SIM\", num_clusters=-1, metric=metric, norm=norm, method=method)"
   ]
  },
  {
   "cell_type": "markdown",
   "metadata": {},
   "source": [
    "### OPTICS Clustering"
   ]
  },
  {
   "cell_type": "code",
   "execution_count": null,
   "metadata": {},
   "outputs": [],
   "source": [
    "for norm in norms:\n",
    "    for metric in metrics:\n",
    "        for method in methods:\n",
    "            analysis.optics_clustering(\"IMR90OPT\", \"IMR90OPT56\", \"IMR90SIM\", min_samples=5, xi=0.05, min_cluster_size=0.05, metric=metric, norm=norm, method=method)"
   ]
  }
 ],
 "metadata": {
  "kernelspec": {
   "display_name": "Python 3",
   "language": "python",
   "name": "python3"
  },
  "language_info": {
   "codemirror_mode": {
    "name": "ipython",
    "version": 3
   },
   "file_extension": ".py",
   "mimetype": "text/x-python",
   "name": "python",
   "nbconvert_exporter": "python",
   "pygments_lexer": "ipython3",
   "version": "3.12.4"
  }
 },
 "nbformat": 4,
 "nbformat_minor": 4
}
