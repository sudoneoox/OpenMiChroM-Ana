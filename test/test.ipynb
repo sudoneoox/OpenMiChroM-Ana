{
 "cells": [
  {
   "cell_type": "code",
   "execution_count": 1,
   "metadata": {},
   "outputs": [
    {
     "name": "stderr",
     "output_type": "stream",
     "text": [
      "2024-07-11 18:22:57.266198: I tensorflow/core/platform/cpu_feature_guard.cc:210] This TensorFlow binary is optimized to use available CPU instructions in performance-critical operations.\n",
      "To enable the following instructions: AVX2 FMA, in other operations, rebuild TensorFlow with the appropriate compiler flags.\n"
     ]
    },
    {
     "name": "stdout",
     "output_type": "stream",
     "text": [
      "Processing file: data/IMR90SIM/output/iteration_1/traj_chr_IMR90OPT_0.cndb\n",
      "Processing file: data/IMR90SIM/output/iteration_2/traj_chr_IMR90OPT_0.cndb\n",
      "Processing file: data/IMR90SIM/output/iteration_3/traj_chr_IMR90OPT_0.cndb\n",
      "Processing file: data/IMR90SIM/output/iteration_4/traj_chr_IMR90OPT_0.cndb\n",
      "Processing file: data/IMR90SIM/output/iteration_5/traj_chr_IMR90OPT_0.cndb\n",
      "Processing file: data/IMR90SIM/output/iteration_6/traj_chr_IMR90OPT_0.cndb\n",
      "Processing file: data/IMR90SIM/output/iteration_7/traj_chr_IMR90OPT_0.cndb\n",
      "Processing file: data/IMR90SIM/output/iteration_8/traj_chr_IMR90OPT_0.cndb\n",
      "Processing file: data/IMR90SIM/output/iteration_9/traj_chr_IMR90OPT_0.cndb\n",
      "Processing file: data/IMR90SIM/output/iteration_10/traj_chr_IMR90OPT_0.cndb\n",
      "Processing file: data/IMR90SIM/output/iteration_11/traj_chr_IMR90OPT_0.cndb\n",
      "Processing file: data/IMR90SIM/output/iteration_12/traj_chr_IMR90OPT_0.cndb\n",
      "Processing file: data/IMR90SIM/output/iteration_13/traj_chr_IMR90OPT_0.cndb\n",
      "Processing file: data/IMR90SIM/output/iteration_14/traj_chr_IMR90OPT_0.cndb\n",
      "Processing file: data/IMR90SIM/output/iteration_15/traj_chr_IMR90OPT_0.cndb\n",
      "Processing file: data/IMR90SIM/output/iteration_16/traj_chr_IMR90OPT_0.cndb\n",
      "Processing file: data/IMR90SIM/output/iteration_17/traj_chr_IMR90OPT_0.cndb\n",
      "Processing file: data/IMR90SIM/output/iteration_18/traj_chr_IMR90OPT_0.cndb\n",
      "Processing file: data/IMR90SIM/output/iteration_19/traj_chr_IMR90OPT_0.cndb\n",
      "Processing file: data/IMR90SIM/output/iteration_20/traj_chr_IMR90OPT_0.cndb\n",
      "Trajectory for IMR90SIM has shape (100, 1183, 3)\n",
      "Processing file: data/IMR90OPT/lambda264to265/iteration_1/traj_0.cndb\n",
      "Processing file: data/IMR90OPT/lambda264to265/iteration_2/traj_0.cndb\n",
      "Processing file: data/IMR90OPT/lambda264to265/iteration_3/traj_0.cndb\n",
      "Processing file: data/IMR90OPT/lambda264to265/iteration_4/traj_0.cndb\n",
      "Processing file: data/IMR90OPT/lambda264to265/iteration_5/traj_0.cndb\n",
      "Processing file: data/IMR90OPT/lambda264to265/iteration_6/traj_0.cndb\n",
      "Processing file: data/IMR90OPT/lambda264to265/iteration_7/traj_0.cndb\n",
      "Processing file: data/IMR90OPT/lambda264to265/iteration_8/traj_0.cndb\n",
      "Processing file: data/IMR90OPT/lambda264to265/iteration_9/traj_0.cndb\n",
      "Processing file: data/IMR90OPT/lambda264to265/iteration_10/traj_0.cndb\n",
      "Processing file: data/IMR90OPT/lambda264to265/iteration_11/traj_0.cndb\n",
      "Processing file: data/IMR90OPT/lambda264to265/iteration_12/traj_0.cndb\n",
      "Processing file: data/IMR90OPT/lambda264to265/iteration_13/traj_0.cndb\n",
      "Processing file: data/IMR90OPT/lambda264to265/iteration_14/traj_0.cndb\n",
      "Processing file: data/IMR90OPT/lambda264to265/iteration_15/traj_0.cndb\n",
      "Processing file: data/IMR90OPT/lambda264to265/iteration_16/traj_0.cndb\n",
      "Processing file: data/IMR90OPT/lambda264to265/iteration_17/traj_0.cndb\n",
      "Processing file: data/IMR90OPT/lambda264to265/iteration_18/traj_0.cndb\n",
      "Processing file: data/IMR90OPT/lambda264to265/iteration_19/traj_0.cndb\n",
      "Processing file: data/IMR90OPT/lambda264to265/iteration_20/traj_0.cndb\n",
      "Trajectory for IMR90OPT has shape (20, 1173, 3)\n",
      "Processing file: data/IMR90OPT56/lambda56to57/iteration_1/traj_0.cndb\n",
      "Processing file: data/IMR90OPT56/lambda56to57/iteration_2/traj_0.cndb\n",
      "Processing file: data/IMR90OPT56/lambda56to57/iteration_3/traj_0.cndb\n",
      "Processing file: data/IMR90OPT56/lambda56to57/iteration_4/traj_0.cndb\n",
      "Processing file: data/IMR90OPT56/lambda56to57/iteration_5/traj_0.cndb\n",
      "Processing file: data/IMR90OPT56/lambda56to57/iteration_6/traj_0.cndb\n",
      "Processing file: data/IMR90OPT56/lambda56to57/iteration_7/traj_0.cndb\n",
      "Processing file: data/IMR90OPT56/lambda56to57/iteration_8/traj_0.cndb\n",
      "Processing file: data/IMR90OPT56/lambda56to57/iteration_9/traj_0.cndb\n",
      "Processing file: data/IMR90OPT56/lambda56to57/iteration_10/traj_0.cndb\n",
      "Processing file: data/IMR90OPT56/lambda56to57/iteration_11/traj_0.cndb\n",
      "Processing file: data/IMR90OPT56/lambda56to57/iteration_12/traj_0.cndb\n",
      "Processing file: data/IMR90OPT56/lambda56to57/iteration_13/traj_0.cndb\n",
      "Processing file: data/IMR90OPT56/lambda56to57/iteration_14/traj_0.cndb\n",
      "Processing file: data/IMR90OPT56/lambda56to57/iteration_15/traj_0.cndb\n",
      "Processing file: data/IMR90OPT56/lambda56to57/iteration_16/traj_0.cndb\n",
      "Processing file: data/IMR90OPT56/lambda56to57/iteration_17/traj_0.cndb\n",
      "Processing file: data/IMR90OPT56/lambda56to57/iteration_18/traj_0.cndb\n",
      "Processing file: data/IMR90OPT56/lambda56to57/iteration_19/traj_0.cndb\n",
      "Processing file: data/IMR90OPT56/lambda56to57/iteration_20/traj_0.cndb\n",
      "Trajectory for IMR90OPT57 has shape (20, 1173, 3)\n"
     ]
    }
   ],
   "source": [
    "import sys\n",
    "sys.path.append('../')  # Add the parent directory to the system path\n",
    "\n",
    "from AnalysisTools import Ana, compute_helpers\n",
    "from plot_helpers import PlotHelper\n",
    "\n",
    "\n",
    "\n",
    "\n",
    "analysis = Ana()\n",
    "analysis.add_dataset(label=\"IMR90SIM\", folder=\"data/IMR90SIM/output\")\n",
    "analysis.add_dataset(label='IMR90OPT', folder='data/IMR90OPT/lambda264to265')\n",
    "analysis.add_dataset(label=\"IMR90OPT57\", folder='data/IMR90OPT56/lambda56to57')\n",
    "\n",
    "# Process trajectories\n",
    "analysis.process_trajectories(label=\"IMR90SIM\", filename=\"traj_chr_IMR90OPT_0.cndb\", folder_pattern=['iteration_', [1, 20]])\n",
    "analysis.process_trajectories(label=\"IMR90OPT\", filename=\"traj_0.cndb\", folder_pattern=['iteration_', [1, 20]])\n",
    "analysis.process_trajectories(label=\"IMR90OPT57\", filename=\"traj_0.cndb\", folder_pattern=['iteration_', [1, 20]])"
   ]
  },
  {
   "cell_type": "code",
   "execution_count": 5,
   "metadata": {},
   "outputs": [
    {
     "name": "stdout",
     "output_type": "stream",
     "text": [
      "No cached data, creating cache file /home/diego/Downloads/OpenMiChroM-Ana-master/test/cache/cache_('IMR90OPT', 'IMR90OPT57', 'IMR90SIM', 'weighted', 'euclidean', 'ice').pkl\n",
      "Processing IMR90OPT\n"
     ]
    },
    {
     "name": "stderr",
     "output_type": "stream",
     "text": [
      "2024-07-11 18:39:26.568807: I tensorflow/core/platform/cpu_feature_guard.cc:210] This TensorFlow binary is optimized to use available CPU instructions in performance-critical operations.\n",
      "To enable the following instructions: AVX2 FMA, in other operations, rebuild TensorFlow with the appropriate compiler flags.\n",
      "2024-07-11 18:39:26.576212: I tensorflow/core/platform/cpu_feature_guard.cc:210] This TensorFlow binary is optimized to use available CPU instructions in performance-critical operations.\n",
      "To enable the following instructions: AVX2 FMA, in other operations, rebuild TensorFlow with the appropriate compiler flags.\n",
      "2024-07-11 18:39:26.579806: I tensorflow/core/platform/cpu_feature_guard.cc:210] This TensorFlow binary is optimized to use available CPU instructions in performance-critical operations.\n",
      "To enable the following instructions: AVX2 FMA, in other operations, rebuild TensorFlow with the appropriate compiler flags.\n",
      "2024-07-11 18:39:26.586298: I tensorflow/core/platform/cpu_feature_guard.cc:210] This TensorFlow binary is optimized to use available CPU instructions in performance-critical operations.\n",
      "To enable the following instructions: AVX2 FMA, in other operations, rebuild TensorFlow with the appropriate compiler flags.\n",
      "2024-07-11 18:39:26.600449: I tensorflow/core/platform/cpu_feature_guard.cc:210] This TensorFlow binary is optimized to use available CPU instructions in performance-critical operations.\n",
      "To enable the following instructions: AVX2 FMA, in other operations, rebuild TensorFlow with the appropriate compiler flags.\n",
      "2024-07-11 18:39:26.602816: I tensorflow/core/platform/cpu_feature_guard.cc:210] This TensorFlow binary is optimized to use available CPU instructions in performance-critical operations.\n",
      "To enable the following instructions: AVX2 FMA, in other operations, rebuild TensorFlow with the appropriate compiler flags.\n",
      "2024-07-11 18:39:26.616836: I tensorflow/core/platform/cpu_feature_guard.cc:210] This TensorFlow binary is optimized to use available CPU instructions in performance-critical operations.\n",
      "To enable the following instructions: AVX2 FMA, in other operations, rebuild TensorFlow with the appropriate compiler flags.\n",
      "2024-07-11 18:39:26.620598: I tensorflow/core/platform/cpu_feature_guard.cc:210] This TensorFlow binary is optimized to use available CPU instructions in performance-critical operations.\n",
      "To enable the following instructions: AVX2 FMA, in other operations, rebuild TensorFlow with the appropriate compiler flags.\n",
      "2024-07-11 18:39:26.622810: I tensorflow/core/platform/cpu_feature_guard.cc:210] This TensorFlow binary is optimized to use available CPU instructions in performance-critical operations.\n",
      "To enable the following instructions: AVX2 FMA, in other operations, rebuild TensorFlow with the appropriate compiler flags.\n",
      "2024-07-11 18:39:26.626356: I tensorflow/core/platform/cpu_feature_guard.cc:210] This TensorFlow binary is optimized to use available CPU instructions in performance-critical operations.\n",
      "To enable the following instructions: AVX2 FMA, in other operations, rebuild TensorFlow with the appropriate compiler flags.\n",
      "2024-07-11 18:39:26.645533: I tensorflow/core/platform/cpu_feature_guard.cc:210] This TensorFlow binary is optimized to use available CPU instructions in performance-critical operations.\n",
      "To enable the following instructions: AVX2 FMA, in other operations, rebuild TensorFlow with the appropriate compiler flags.\n",
      "2024-07-11 18:39:26.647490: I tensorflow/core/platform/cpu_feature_guard.cc:210] This TensorFlow binary is optimized to use available CPU instructions in performance-critical operations.\n",
      "To enable the following instructions: AVX2 FMA, in other operations, rebuild TensorFlow with the appropriate compiler flags.\n",
      "2024-07-11 18:39:26.650523: I tensorflow/core/platform/cpu_feature_guard.cc:210] This TensorFlow binary is optimized to use available CPU instructions in performance-critical operations.\n",
      "To enable the following instructions: AVX2 FMA, in other operations, rebuild TensorFlow with the appropriate compiler flags.\n",
      "2024-07-11 18:39:26.654561: I tensorflow/core/platform/cpu_feature_guard.cc:210] This TensorFlow binary is optimized to use available CPU instructions in performance-critical operations.\n",
      "To enable the following instructions: AVX2 FMA, in other operations, rebuild TensorFlow with the appropriate compiler flags.\n",
      "2024-07-11 18:39:26.664119: I tensorflow/core/platform/cpu_feature_guard.cc:210] This TensorFlow binary is optimized to use available CPU instructions in performance-critical operations.\n",
      "To enable the following instructions: AVX2 FMA, in other operations, rebuild TensorFlow with the appropriate compiler flags.\n",
      "2024-07-11 18:39:26.782671: I tensorflow/core/platform/cpu_feature_guard.cc:210] This TensorFlow binary is optimized to use available CPU instructions in performance-critical operations.\n",
      "To enable the following instructions: AVX2 FMA, in other operations, rebuild TensorFlow with the appropriate compiler flags.\n"
     ]
    },
    {
     "name": "stdout",
     "output_type": "stream",
     "text": [
      "IMR90OPT has dist shape (20, 1173, 1173)\n",
      "Processing IMR90SIM\n",
      "IMR90SIM has dist shape (100, 1183, 1183)\n",
      "Processing IMR90OPT57\n",
      "IMR90OPT57 has dist shape (20, 1173, 1173)\n",
      "Flattened distance array has shape: (140, 699153)\n"
     ]
    }
   ],
   "source": [
    "prinComp, expVarRatio, fclust = analysis.PCA_plot(\"IMR90OPT\", \"IMR90SIM\", \"IMR90OPT57\")"
   ]
  },
  {
   "cell_type": "code",
   "execution_count": 6,
   "metadata": {},
   "outputs": [],
   "source": [
    "\n",
    "plot_helpers.cluster_plot(\"pca\", data=[prinComp, expVarRatio, fclust])"
   ]
  }
 ],
 "metadata": {
  "kernelspec": {
   "display_name": "MICROM",
   "language": "python",
   "name": "python3"
  },
  "language_info": {
   "codemirror_mode": {
    "name": "ipython",
    "version": 3
   },
   "file_extension": ".py",
   "mimetype": "text/x-python",
   "name": "python",
   "nbconvert_exporter": "python",
   "pygments_lexer": "ipython3",
   "version": "3.12.4"
  }
 },
 "nbformat": 4,
 "nbformat_minor": 2
}
